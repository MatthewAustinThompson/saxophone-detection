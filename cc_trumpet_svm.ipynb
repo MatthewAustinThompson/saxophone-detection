{
 "cells": [
  {
   "cell_type": "markdown",
   "metadata": {},
   "source": [
    "# Trumpet\n",
    "\n",
    "* Sample duration = 5s\n",
    "* model = SVM\n",
    "\n",
    "Distinguish between samples with trumpet (muted or unmuted) from those without trumpet. Other brass and (most) woodwind instruments excluded."
   ]
  },
  {
   "cell_type": "code",
   "execution_count": 22,
   "metadata": {},
   "outputs": [],
   "source": [
    "import numpy as np\n",
    "import pandas as pd\n",
    "import matplotlib.pyplot as plt\n",
    "from sklearn.decomposition import PCA \n",
    "from sklearn.preprocessing import StandardScaler\n",
    "from sklearn.svm import SVC\n",
    "from sklearn.metrics import confusion_matrix, classification_report\n",
    "from sklearn.model_selection import train_test_split, \\\n",
    "    RandomizedSearchCV, GridSearchCV\n",
    "from sklearn.ensemble import BaggingClassifier\n",
    "from scipy.stats import uniform\n",
    "\n",
    "# from pickles_to_pandas import pickles_to_pandas\n"
   ]
  },
  {
   "cell_type": "code",
   "execution_count": 24,
   "metadata": {},
   "outputs": [],
   "source": [
    "NUM_LABEL_COLS = 13\n",
    "NUM_COMPONENTS = 26\n",
    "TEST_SIZE = 0.2\n",
    "RANDOM_SEED = 0"
   ]
  },
  {
   "cell_type": "code",
   "execution_count": 4,
   "metadata": {},
   "outputs": [],
   "source": [
    "# df = pickles_to_pandas('./data/5s/labeled/features_r02')\n",
    "df = pd.read_pickle('./data/5s/labeled/features_r02/all_data.pkl')"
   ]
  },
  {
   "cell_type": "code",
   "execution_count": 5,
   "metadata": {},
   "outputs": [
    {
     "data": {
      "text/plain": [
       "(6819, 10790)"
      ]
     },
     "execution_count": 5,
     "metadata": {},
     "output_type": "execute_result"
    }
   ],
   "source": [
    "# df_filtered = df[df['excl'] == '0']  # exclude records we want to exclude\n",
    "df_filtered = df\n",
    "df_filtered.shape"
   ]
  },
  {
   "cell_type": "code",
   "execution_count": 6,
   "metadata": {},
   "outputs": [
    {
     "name": "stdout",
     "output_type": "stream",
     "text": [
      "(2790, 10775)\n",
      "(2790,)\n"
     ]
    }
   ],
   "source": [
    "# exclude records we want to exclude\n",
    "df_filtered = df_filtered[df_filtered['alto'] == '0'] \n",
    "df_filtered = df_filtered[df_filtered['sop'] == '0']\n",
    "df_filtered = df_filtered[df_filtered['bari'] == '0']\n",
    "df_filtered = df_filtered[df_filtered['clrt'] == '0']\n",
    "df_filtered = df_filtered[df_filtered['tora'] == '0']\n",
    "df_filtered = df_filtered[df_filtered['othr'] == '0']\n",
    "df_filtered = df_filtered[df_filtered['tenr'] == '0']\n",
    "df_filtered = df_filtered[df_filtered['trmb'] == '0']\n",
    "df_filtered = df_filtered[df_filtered['otrb'] == '0']\n",
    "\n",
    "num_x_cols = df_filtered.shape[1] - NUM_LABEL_COLS - 1  \n",
    "# ^ last bit to adjust for zero indexing\n",
    "data = df_filtered.iloc[:, 1:num_x_cols].to_numpy() \n",
    "# ^ these are the features\n",
    "scaler = StandardScaler()\n",
    "scaler.fit(data)\n",
    "data = scaler.transform(data)\n",
    "\n",
    "target = df_filtered[['trmp']].to_numpy().ravel()  \n",
    "# ^ this is the label\n",
    "\n",
    "print(data.shape)\n",
    "print(target.shape)"
   ]
  },
  {
   "cell_type": "code",
   "execution_count": 7,
   "metadata": {},
   "outputs": [],
   "source": [
    "pca = PCA(n_components=NUM_COMPONENTS)"
   ]
  },
  {
   "cell_type": "code",
   "execution_count": 8,
   "metadata": {},
   "outputs": [
    {
     "data": {
      "text/plain": [
       "PCA(n_components=26)"
      ]
     },
     "execution_count": 8,
     "metadata": {},
     "output_type": "execute_result"
    }
   ],
   "source": [
    "pca.fit(data)"
   ]
  },
  {
   "cell_type": "code",
   "execution_count": 9,
   "metadata": {},
   "outputs": [],
   "source": [
    "# print(pca.explained_variance_ratio_)"
   ]
  },
  {
   "cell_type": "code",
   "execution_count": 10,
   "metadata": {},
   "outputs": [],
   "source": [
    "# print(pca.singular_values_)"
   ]
  },
  {
   "cell_type": "code",
   "execution_count": 11,
   "metadata": {},
   "outputs": [],
   "source": [
    "d = pca.transform(data)"
   ]
  },
  {
   "cell_type": "code",
   "execution_count": 12,
   "metadata": {},
   "outputs": [],
   "source": [
    "# d"
   ]
  },
  {
   "cell_type": "code",
   "execution_count": 13,
   "metadata": {},
   "outputs": [],
   "source": [
    "x_train, x_test, y_train, y_test = \\\n",
    "     train_test_split(d, target, test_size=TEST_SIZE, random_state=RANDOM_SEED)"
   ]
  },
  {
   "cell_type": "markdown",
   "metadata": {},
   "source": [
    "## Test plain vanilla SVM with PCA"
   ]
  },
  {
   "cell_type": "code",
   "execution_count": 14,
   "metadata": {},
   "outputs": [
    {
     "name": "stdout",
     "output_type": "stream",
     "text": [
      "0.9050179211469535\n"
     ]
    }
   ],
   "source": [
    "clf = SVC()\n",
    "clf.fit(x_train, y_train)\n",
    "y_pred = clf.predict(x_test)\n",
    "print(clf.score(x_test, y_test))"
   ]
  },
  {
   "cell_type": "code",
   "execution_count": 15,
   "metadata": {},
   "outputs": [
    {
     "data": {
      "text/html": [
       "<div>\n",
       "<style scoped>\n",
       "    .dataframe tbody tr th:only-of-type {\n",
       "        vertical-align: middle;\n",
       "    }\n",
       "\n",
       "    .dataframe tbody tr th {\n",
       "        vertical-align: top;\n",
       "    }\n",
       "\n",
       "    .dataframe thead th {\n",
       "        text-align: right;\n",
       "    }\n",
       "</style>\n",
       "<table border=\"1\" class=\"dataframe\">\n",
       "  <thead>\n",
       "    <tr style=\"text-align: right;\">\n",
       "      <th></th>\n",
       "      <th>0</th>\n",
       "      <th>1</th>\n",
       "    </tr>\n",
       "  </thead>\n",
       "  <tbody>\n",
       "    <tr>\n",
       "      <th>0</th>\n",
       "      <td>430</td>\n",
       "      <td>13</td>\n",
       "    </tr>\n",
       "    <tr>\n",
       "      <th>1</th>\n",
       "      <td>40</td>\n",
       "      <td>75</td>\n",
       "    </tr>\n",
       "  </tbody>\n",
       "</table>\n",
       "</div>"
      ],
      "text/plain": [
       "     0   1\n",
       "0  430  13\n",
       "1   40  75"
      ]
     },
     "execution_count": 15,
     "metadata": {},
     "output_type": "execute_result"
    }
   ],
   "source": [
    "c_matrix = confusion_matrix(y_test, y_pred)\n",
    "idx = cols = [0, 1]\n",
    "pd.DataFrame(c_matrix, index=idx, columns=cols)"
   ]
  },
  {
   "cell_type": "code",
   "execution_count": 16,
   "metadata": {
    "scrolled": true
   },
   "outputs": [
    {
     "name": "stdout",
     "output_type": "stream",
     "text": [
      "              precision    recall  f1-score   support\n",
      "\n",
      "           0       0.91      0.97      0.94       443\n",
      "           1       0.85      0.65      0.74       115\n",
      "\n",
      "    accuracy                           0.91       558\n",
      "   macro avg       0.88      0.81      0.84       558\n",
      "weighted avg       0.90      0.91      0.90       558\n",
      "\n"
     ]
    }
   ],
   "source": [
    "print(classification_report(y_test, y_pred))"
   ]
  },
  {
   "cell_type": "markdown",
   "metadata": {},
   "source": [
    "## Determine good value for C using random search"
   ]
  },
  {
   "cell_type": "code",
   "execution_count": 17,
   "metadata": {},
   "outputs": [],
   "source": [
    "model_params = {\n",
    "    'C': uniform(0.1, 4.0)\n",
    "}\n",
    "\n",
    "# RandomizedSearchCV(estimator, param_distributions, *, n_iter=10, \n",
    "#                    scoring=None, n_jobs=None, iid='deprecated', \n",
    "#                    refit=True, cv=None, verbose=0, \n",
    "#                    pre_dispatch='2*n_jobs', random_state=None, \n",
    "#                    error_score=nan, return_train_score=False)\n",
    "svm_model = SVC()\n",
    "clf = RandomizedSearchCV(svm_model, model_params, n_iter=10, \n",
    "                         cv=5, n_jobs=-1)\n",
    "model = clf.fit(x_train, y_train)\n",
    "params = model.best_estimator_.get_params()"
   ]
  },
  {
   "cell_type": "code",
   "execution_count": 18,
   "metadata": {},
   "outputs": [
    {
     "name": "stdout",
     "output_type": "stream",
     "text": [
      "0.9068100358422939\n"
     ]
    }
   ],
   "source": [
    "clf = SVC(C=params['C'])\n",
    "clf.fit(x_train, y_train)\n",
    "y_pred = clf.predict(x_test)\n",
    "print(clf.score(x_test, y_test))\n"
   ]
  },
  {
   "cell_type": "code",
   "execution_count": 19,
   "metadata": {
    "scrolled": true
   },
   "outputs": [
    {
     "data": {
      "text/html": [
       "<div>\n",
       "<style scoped>\n",
       "    .dataframe tbody tr th:only-of-type {\n",
       "        vertical-align: middle;\n",
       "    }\n",
       "\n",
       "    .dataframe tbody tr th {\n",
       "        vertical-align: top;\n",
       "    }\n",
       "\n",
       "    .dataframe thead th {\n",
       "        text-align: right;\n",
       "    }\n",
       "</style>\n",
       "<table border=\"1\" class=\"dataframe\">\n",
       "  <thead>\n",
       "    <tr style=\"text-align: right;\">\n",
       "      <th></th>\n",
       "      <th>0</th>\n",
       "      <th>1</th>\n",
       "    </tr>\n",
       "  </thead>\n",
       "  <tbody>\n",
       "    <tr>\n",
       "      <th>0</th>\n",
       "      <td>430</td>\n",
       "      <td>13</td>\n",
       "    </tr>\n",
       "    <tr>\n",
       "      <th>1</th>\n",
       "      <td>39</td>\n",
       "      <td>76</td>\n",
       "    </tr>\n",
       "  </tbody>\n",
       "</table>\n",
       "</div>"
      ],
      "text/plain": [
       "     0   1\n",
       "0  430  13\n",
       "1   39  76"
      ]
     },
     "execution_count": 19,
     "metadata": {},
     "output_type": "execute_result"
    }
   ],
   "source": [
    "c_matrix = confusion_matrix(y_test, y_pred)\n",
    "idx = cols = [0, 1]\n",
    "pd.DataFrame(c_matrix, index=idx, columns=cols)"
   ]
  },
  {
   "cell_type": "code",
   "execution_count": 20,
   "metadata": {},
   "outputs": [
    {
     "name": "stdout",
     "output_type": "stream",
     "text": [
      "              precision    recall  f1-score   support\n",
      "\n",
      "           0       0.92      0.97      0.94       443\n",
      "           1       0.85      0.66      0.75       115\n",
      "\n",
      "    accuracy                           0.91       558\n",
      "   macro avg       0.89      0.82      0.84       558\n",
      "weighted avg       0.90      0.91      0.90       558\n",
      "\n"
     ]
    }
   ],
   "source": [
    "print(classification_report(y_test, y_pred))"
   ]
  },
  {
   "cell_type": "markdown",
   "metadata": {},
   "source": [
    "## Test ensemble approach with bagging classifier"
   ]
  },
  {
   "cell_type": "code",
   "execution_count": 23,
   "metadata": {},
   "outputs": [
    {
     "data": {
      "text/plain": [
       "{'max_features': 22, 'n_estimators': 300}"
      ]
     },
     "execution_count": 23,
     "metadata": {},
     "output_type": "execute_result"
    }
   ],
   "source": [
    "# Parameters\n",
    "p = {'n_estimators': [100, 200, 300, 400, 500],\n",
    "     'max_features': [NUM_COMPONENTS - 2, NUM_COMPONENTS - 3, \n",
    "                      NUM_COMPONENTS - 4, NUM_COMPONENTS - 5,\n",
    "                      NUM_COMPONENTS - 6, NUM_COMPONENTS - 7]}\n",
    "\n",
    "base_estimator = SVC(C=params['C'])\n",
    "estimator = BaggingClassifier(base_estimator=base_estimator)\n",
    "# Question: Should we include C here, or ... ? There's no reason it should differ\n",
    "# for different values of n_estimators, but what about max_features? Might different\n",
    "# values for C be best for different max_features? Maybe. Dunno. Maybe we should\n",
    "# search for optimal C *after* we've found the best value for max_features?\n",
    "\n",
    "# GridSearchCV(estimator, param_grid, *, scoring=None, n_jobs=None, \n",
    "#              iid='deprecated', refit=True, cv=None, verbose=0, \n",
    "#              pre_dispatch='2*n_jobs', error_score=nan, return_train_score=False)\n",
    "clf = GridSearchCV(estimator, p, n_jobs=-1)\n",
    "search = clf.fit(x_train, y_train)\n",
    "search.best_params_\n",
    "\n",
    "# {'max_features': 22, 'n_estimators': 300}"
   ]
  },
  {
   "cell_type": "code",
   "execution_count": 26,
   "metadata": {},
   "outputs": [],
   "source": [
    "# BaggingClassifier(base_estimator=None, n_estimators=10, *, \n",
    "#                   max_samples=1.0, max_features=1.0, \n",
    "#                   bootstrap=True, bootstrap_features=False, \n",
    "#                   oob_score=False, warm_start=False, \n",
    "#                   n_jobs=None, random_state=None, verbose=0) \n",
    "clf = BaggingClassifier(base_estimator=SVC(C=params['C']),\n",
    "                        n_estimators=search.best_params_['n_estimators'], \n",
    "                        max_features=search.best_params_['max_features'],\n",
    "                        random_state=RANDOM_SEED)\n",
    "model = clf.fit(x_train, y_train)"
   ]
  },
  {
   "cell_type": "code",
   "execution_count": 27,
   "metadata": {},
   "outputs": [
    {
     "name": "stdout",
     "output_type": "stream",
     "text": [
      "0.899641577060932\n"
     ]
    }
   ],
   "source": [
    "y_pred = clf.predict(x_test)\n",
    "print(clf.score(x_test, y_test))"
   ]
  },
  {
   "cell_type": "code",
   "execution_count": 28,
   "metadata": {},
   "outputs": [
    {
     "data": {
      "text/html": [
       "<div>\n",
       "<style scoped>\n",
       "    .dataframe tbody tr th:only-of-type {\n",
       "        vertical-align: middle;\n",
       "    }\n",
       "\n",
       "    .dataframe tbody tr th {\n",
       "        vertical-align: top;\n",
       "    }\n",
       "\n",
       "    .dataframe thead th {\n",
       "        text-align: right;\n",
       "    }\n",
       "</style>\n",
       "<table border=\"1\" class=\"dataframe\">\n",
       "  <thead>\n",
       "    <tr style=\"text-align: right;\">\n",
       "      <th></th>\n",
       "      <th>0</th>\n",
       "      <th>1</th>\n",
       "    </tr>\n",
       "  </thead>\n",
       "  <tbody>\n",
       "    <tr>\n",
       "      <th>0</th>\n",
       "      <td>431</td>\n",
       "      <td>12</td>\n",
       "    </tr>\n",
       "    <tr>\n",
       "      <th>1</th>\n",
       "      <td>44</td>\n",
       "      <td>71</td>\n",
       "    </tr>\n",
       "  </tbody>\n",
       "</table>\n",
       "</div>"
      ],
      "text/plain": [
       "     0   1\n",
       "0  431  12\n",
       "1   44  71"
      ]
     },
     "execution_count": 28,
     "metadata": {},
     "output_type": "execute_result"
    }
   ],
   "source": [
    "c_matrix = confusion_matrix(y_test, y_pred)\n",
    "idx = cols = [0, 1]\n",
    "pd.DataFrame(c_matrix, index=idx, columns=cols)"
   ]
  },
  {
   "cell_type": "code",
   "execution_count": 29,
   "metadata": {},
   "outputs": [
    {
     "name": "stdout",
     "output_type": "stream",
     "text": [
      "              precision    recall  f1-score   support\n",
      "\n",
      "           0       0.91      0.97      0.94       443\n",
      "           1       0.86      0.62      0.72       115\n",
      "\n",
      "    accuracy                           0.90       558\n",
      "   macro avg       0.88      0.80      0.83       558\n",
      "weighted avg       0.90      0.90      0.89       558\n",
      "\n"
     ]
    }
   ],
   "source": [
    "print(classification_report(y_test, y_pred))"
   ]
  },
  {
   "cell_type": "code",
   "execution_count": null,
   "metadata": {},
   "outputs": [],
   "source": []
  }
 ],
 "metadata": {
  "kernelspec": {
   "display_name": "Python 3",
   "language": "python",
   "name": "python3"
  },
  "language_info": {
   "codemirror_mode": {
    "name": "ipython",
    "version": 3
   },
   "file_extension": ".py",
   "mimetype": "text/x-python",
   "name": "python",
   "nbconvert_exporter": "python",
   "pygments_lexer": "ipython3",
   "version": "3.7.8"
  }
 },
 "nbformat": 4,
 "nbformat_minor": 4
}
