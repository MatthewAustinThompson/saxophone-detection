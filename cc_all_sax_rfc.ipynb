{
 "cells": [
  {
   "cell_type": "code",
   "execution_count": 35,
   "metadata": {},
   "outputs": [],
   "source": [
    "import pandas as pd\n",
    "from sklearn.ensemble import RandomForestClassifier, BaggingClassifier\n",
    "from sklearn.model_selection import RandomizedSearchCV, GridSearchCV\n",
    "from sklearn.metrics import confusion_matrix, classification_report\n",
    "from keras.models import Sequential\n",
    "from keras.layers import Dense, Dropout\n",
    "from keras.metrics import Recall\n",
    "\n",
    "from _all_saxes import x_train, x_test, y_train, y_test, \\\n",
    "    NUM_COMPONENTS, RANDOM_STATE as RANDOM_SEED"
   ]
  },
  {
   "cell_type": "code",
   "execution_count": 26,
   "metadata": {},
   "outputs": [
    {
     "name": "stdout",
     "output_type": "stream",
     "text": [
      "0.825\n"
     ]
    }
   ],
   "source": [
    "clf = RandomForestClassifier(n_estimators=400)\n",
    "clf.fit(x_train, y_train)\n",
    "y_pred = clf.predict(x_test)\n",
    "print(clf.score(x_test, y_test))"
   ]
  },
  {
   "cell_type": "code",
   "execution_count": 27,
   "metadata": {},
   "outputs": [
    {
     "data": {
      "text/html": [
       "<div>\n",
       "<style scoped>\n",
       "    .dataframe tbody tr th:only-of-type {\n",
       "        vertical-align: middle;\n",
       "    }\n",
       "\n",
       "    .dataframe tbody tr th {\n",
       "        vertical-align: top;\n",
       "    }\n",
       "\n",
       "    .dataframe thead th {\n",
       "        text-align: right;\n",
       "    }\n",
       "</style>\n",
       "<table border=\"1\" class=\"dataframe\">\n",
       "  <thead>\n",
       "    <tr style=\"text-align: right;\">\n",
       "      <th></th>\n",
       "      <th>0</th>\n",
       "      <th>1</th>\n",
       "    </tr>\n",
       "  </thead>\n",
       "  <tbody>\n",
       "    <tr>\n",
       "      <th>0</th>\n",
       "      <td>316</td>\n",
       "      <td>139</td>\n",
       "    </tr>\n",
       "    <tr>\n",
       "      <th>1</th>\n",
       "      <td>57</td>\n",
       "      <td>608</td>\n",
       "    </tr>\n",
       "  </tbody>\n",
       "</table>\n",
       "</div>"
      ],
      "text/plain": [
       "     0    1\n",
       "0  316  139\n",
       "1   57  608"
      ]
     },
     "execution_count": 27,
     "metadata": {},
     "output_type": "execute_result"
    }
   ],
   "source": [
    "c_matrix = confusion_matrix(y_test, y_pred)\n",
    "idx = cols = [0, 1]\n",
    "pd.DataFrame(c_matrix, index=idx, columns=cols)\n"
   ]
  },
  {
   "cell_type": "code",
   "execution_count": 28,
   "metadata": {},
   "outputs": [
    {
     "name": "stdout",
     "output_type": "stream",
     "text": [
      "              precision    recall  f1-score   support\n",
      "\n",
      "           0       0.85      0.69      0.76       455\n",
      "           1       0.81      0.91      0.86       665\n",
      "\n",
      "    accuracy                           0.82      1120\n",
      "   macro avg       0.83      0.80      0.81      1120\n",
      "weighted avg       0.83      0.82      0.82      1120\n",
      "\n"
     ]
    }
   ],
   "source": [
    "print(classification_report(y_test, y_pred))"
   ]
  },
  {
   "cell_type": "code",
   "execution_count": 33,
   "metadata": {},
   "outputs": [
    {
     "data": {
      "text/plain": [
       "{'bootstrap': True,\n",
       " 'ccp_alpha': 0.0,\n",
       " 'class_weight': None,\n",
       " 'criterion': 'gini',\n",
       " 'max_depth': None,\n",
       " 'max_features': 'auto',\n",
       " 'max_leaf_nodes': None,\n",
       " 'max_samples': None,\n",
       " 'min_impurity_decrease': 0.0,\n",
       " 'min_impurity_split': None,\n",
       " 'min_samples_leaf': 1,\n",
       " 'min_samples_split': 2,\n",
       " 'min_weight_fraction_leaf': 0.0,\n",
       " 'n_estimators': 400,\n",
       " 'n_jobs': None,\n",
       " 'oob_score': False,\n",
       " 'random_state': None,\n",
       " 'verbose': 0,\n",
       " 'warm_start': False}"
      ]
     },
     "execution_count": 33,
     "metadata": {},
     "output_type": "execute_result"
    }
   ],
   "source": [
    "clf.get_params()  # deep=True has no effect"
   ]
  },
  {
   "cell_type": "code",
   "execution_count": 36,
   "metadata": {},
   "outputs": [
    {
     "data": {
      "text/plain": [
       "{'max_depth': 400, 'max_features': 29, 'n_estimators': 300}"
      ]
     },
     "execution_count": 36,
     "metadata": {},
     "output_type": "execute_result"
    }
   ],
   "source": [
    "# Parameters\n",
    "p = {'n_estimators': [100, 150, 200, 250, 300, 350, 400],\n",
    "     'max_features': [NUM_COMPONENTS - 2, NUM_COMPONENTS - 3, \n",
    "                      NUM_COMPONENTS - 4, NUM_COMPONENTS - 5,\n",
    "                      NUM_COMPONENTS - 6, NUM_COMPONENTS - 7],\n",
    "     'max_depth': [50, 150, 200, 250, 300, 350, 400]}\n",
    "\n",
    "# RandomForestClassifier(n_estimators=100, *, criterion='gini', \n",
    "# max_depth=None, min_samples_split=2, min_samples_leaf=1, \n",
    "# min_weight_fraction_leaf=0.0, max_features='auto', \n",
    "# max_leaf_nodes=None, min_impurity_decrease=0.0, \n",
    "# min_impurity_split=None, bootstrap=True, oob_score=False, \n",
    "# n_jobs=None, random_state=None, verbose=0, warm_start=False, \n",
    "# class_weight=None, ccp_alpha=0.0, max_samples=None\n",
    "estimator = RandomForestClassifier()\n",
    "# GridSearchCV(estimator, param_grid, *, scoring=None, n_jobs=None, \n",
    "#              iid='deprecated', refit=True, cv=None, verbose=0, \n",
    "#              pre_dispatch='2*n_jobs', error_score=nan, return_train_score=False)\n",
    "clf = GridSearchCV(estimator, p, n_jobs=-1)\n",
    "search = clf.fit(x_train, y_train)\n",
    "search.best_params_"
   ]
  },
  {
   "cell_type": "code",
   "execution_count": 37,
   "metadata": {},
   "outputs": [
    {
     "name": "stdout",
     "output_type": "stream",
     "text": [
      "0.8214285714285714\n"
     ]
    }
   ],
   "source": [
    "# RandomForestClassifier(n_estimators=100, *, criterion='gini', \n",
    "# max_depth=None, min_samples_split=2, min_samples_leaf=1, \n",
    "# min_weight_fraction_leaf=0.0, max_features='auto', \n",
    "# max_leaf_nodes=None, min_impurity_decrease=0.0, \n",
    "# min_impurity_split=None, bootstrap=True, oob_score=False, \n",
    "# n_jobs=None, random_state=None, verbose=0, warm_start=False, \n",
    "# class_weight=None, ccp_alpha=0.0, max_samples=None\n",
    "clf = RandomForestClassifier(n_estimators=search.best_params_['n_estimators'],\n",
    "                             max_features=search.best_params_['max_features'],\n",
    "                             max_depth=search.best_params_['max_depth'])\n",
    "clf.fit(x_train, y_train)\n",
    "y_pred = clf.predict(x_test)\n",
    "print(clf.score(x_test, y_test))"
   ]
  },
  {
   "cell_type": "code",
   "execution_count": 38,
   "metadata": {},
   "outputs": [
    {
     "data": {
      "text/plain": [
       "array([0.05817672, 0.12287235, 0.06668483, 0.05994778, 0.01982447,\n",
       "       0.04156552, 0.04780975, 0.03893956, 0.09972629, 0.03176279,\n",
       "       0.04992773, 0.02219599, 0.02223648, 0.01748192, 0.0152686 ,\n",
       "       0.02440251, 0.02072069, 0.01748246, 0.01425047, 0.01667815,\n",
       "       0.01755437, 0.01686146, 0.01375813, 0.01655989, 0.01739165,\n",
       "       0.01693799, 0.01474808, 0.0161832 , 0.01775151, 0.01365215,\n",
       "       0.01530535, 0.01534118])"
      ]
     },
     "execution_count": 38,
     "metadata": {},
     "output_type": "execute_result"
    }
   ],
   "source": [
    "clf.feature_importances_"
   ]
  },
  {
   "cell_type": "code",
   "execution_count": 39,
   "metadata": {},
   "outputs": [
    {
     "data": {
      "text/plain": [
       "(<1120x219486 sparse matrix of type '<class 'numpy.longlong'>'\n",
       " \twith 4536702 stored elements in Compressed Sparse Row format>,\n",
       " array([     0,    745,   1452,   2177,   2918,   3639,   4392,   5085,\n",
       "          5780,   6517,   7252,   7973,   8728,   9471,  10184,  10973,\n",
       "         11738,  12441,  13212,  13955,  14648,  15355,  16104,  16809,\n",
       "         17508,  18237,  18988,  19765,  20556,  21275,  22014,  22739,\n",
       "         23496,  24263,  25004,  25697,  26388,  27107,  27818,  28553,\n",
       "         29290,  30055,  30784,  31507,  32248,  32995,  33728,  34441,\n",
       "         35170,  35899,  36630,  37357,  38076,  38791,  39518,  40243,\n",
       "         40960,  41663,  42408,  43113,  43814,  44533,  45250,  45993,\n",
       "         46728,  47405,  48132,  48845,  49590,  50363,  51086,  51823,\n",
       "         52550,  53299,  54036,  54769,  55498,  56273,  57006,  57739,\n",
       "         58506,  59255,  59990,  60733,  61458,  62243,  62998,  63711,\n",
       "         64468,  65221,  65968,  66717,  67418,  68121,  68848,  69535,\n",
       "         70298,  71063,  71794,  72535,  73240,  73941,  74656,  75359,\n",
       "         76052,  76765,  77504,  78221,  78940,  79651,  80376,  81113,\n",
       "         81882,  82589,  83356,  84085,  84788,  85527,  86240,  86955,\n",
       "         87662,  88393,  89112,  89895,  90654,  91377,  92112,  92841,\n",
       "         93596,  94313,  95076,  95805,  96542,  97259,  97972,  98705,\n",
       "         99468, 100193, 100954, 101709, 102452, 103163, 103896, 104639,\n",
       "        105350, 106059, 106820, 107567, 108296, 109011, 109716, 110429,\n",
       "        111176, 111903, 112642, 113409, 114132, 114867, 115602, 116341,\n",
       "        117040, 117753, 118482, 119225, 119914, 120627, 121348, 122055,\n",
       "        122798, 123545, 124292, 125013, 125722, 126459, 127186, 127875,\n",
       "        128614, 129345, 130112, 130849, 131530, 132287, 133032, 133767,\n",
       "        134510, 135207, 135942, 136689, 137408, 138123, 138834, 139547,\n",
       "        140274, 141027, 141784, 142521, 143252, 144005, 144746, 145483,\n",
       "        146222, 146955, 147694, 148407, 149184, 149903, 150606, 151335,\n",
       "        152040, 152743, 153454, 154201, 154938, 155643, 156376, 157145,\n",
       "        157872, 158595, 159324, 160047, 160774, 161493, 162224, 162991,\n",
       "        163732, 164447, 165184, 165915, 166656, 167419, 168150, 168885,\n",
       "        169584, 170277, 170970, 171699, 172466, 173195, 173898, 174635,\n",
       "        175384, 176109, 176826, 177543, 178292, 179037, 179758, 180513,\n",
       "        181272, 182029, 182764, 183473, 184208, 184941, 185684, 186411,\n",
       "        187142, 187889, 188642, 189393, 190086, 190789, 191558, 192295,\n",
       "        193040, 193761, 194510, 195233, 195986, 196705, 197398, 198097,\n",
       "        198826, 199593, 200342, 201061, 201786, 202523, 203236, 203989,\n",
       "        204722, 205451, 206180, 206909, 207654, 208393, 209102, 209821,\n",
       "        210576, 211295, 212024, 212761, 213496, 214237, 214970, 215715,\n",
       "        216490, 217249, 217992, 218727, 219486]))"
      ]
     },
     "execution_count": 39,
     "metadata": {},
     "output_type": "execute_result"
    }
   ],
   "source": [
    "clf.decision_path(x_test)"
   ]
  },
  {
   "cell_type": "code",
   "execution_count": 40,
   "metadata": {},
   "outputs": [
    {
     "data": {
      "text/html": [
       "<div>\n",
       "<style scoped>\n",
       "    .dataframe tbody tr th:only-of-type {\n",
       "        vertical-align: middle;\n",
       "    }\n",
       "\n",
       "    .dataframe tbody tr th {\n",
       "        vertical-align: top;\n",
       "    }\n",
       "\n",
       "    .dataframe thead th {\n",
       "        text-align: right;\n",
       "    }\n",
       "</style>\n",
       "<table border=\"1\" class=\"dataframe\">\n",
       "  <thead>\n",
       "    <tr style=\"text-align: right;\">\n",
       "      <th></th>\n",
       "      <th>0</th>\n",
       "      <th>1</th>\n",
       "    </tr>\n",
       "  </thead>\n",
       "  <tbody>\n",
       "    <tr>\n",
       "      <th>0</th>\n",
       "      <td>329</td>\n",
       "      <td>126</td>\n",
       "    </tr>\n",
       "    <tr>\n",
       "      <th>1</th>\n",
       "      <td>74</td>\n",
       "      <td>591</td>\n",
       "    </tr>\n",
       "  </tbody>\n",
       "</table>\n",
       "</div>"
      ],
      "text/plain": [
       "     0    1\n",
       "0  329  126\n",
       "1   74  591"
      ]
     },
     "execution_count": 40,
     "metadata": {},
     "output_type": "execute_result"
    }
   ],
   "source": [
    "c_matrix = confusion_matrix(y_test, y_pred)\n",
    "idx = cols = [0, 1]\n",
    "pd.DataFrame(c_matrix, index=idx, columns=cols)"
   ]
  },
  {
   "cell_type": "code",
   "execution_count": 41,
   "metadata": {},
   "outputs": [
    {
     "name": "stdout",
     "output_type": "stream",
     "text": [
      "              precision    recall  f1-score   support\n",
      "\n",
      "           0       0.82      0.72      0.77       455\n",
      "           1       0.82      0.89      0.86       665\n",
      "\n",
      "    accuracy                           0.82      1120\n",
      "   macro avg       0.82      0.81      0.81      1120\n",
      "weighted avg       0.82      0.82      0.82      1120\n",
      "\n"
     ]
    }
   ],
   "source": [
    "print(classification_report(y_test, y_pred))"
   ]
  },
  {
   "cell_type": "code",
   "execution_count": null,
   "metadata": {},
   "outputs": [],
   "source": []
  }
 ],
 "metadata": {
  "kernelspec": {
   "display_name": "Python 3",
   "language": "python",
   "name": "python3"
  },
  "language_info": {
   "codemirror_mode": {
    "name": "ipython",
    "version": 3
   },
   "file_extension": ".py",
   "mimetype": "text/x-python",
   "name": "python",
   "nbconvert_exporter": "python",
   "pygments_lexer": "ipython3",
   "version": "3.7.8"
  }
 },
 "nbformat": 4,
 "nbformat_minor": 4
}
