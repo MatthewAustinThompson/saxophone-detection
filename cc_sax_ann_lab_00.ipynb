{
 "cells": [
  {
   "cell_type": "markdown",
   "metadata": {},
   "source": [
    "# Neural net ensemble for sax\n",
    "### Step 0\n",
    "### Tinker around"
   ]
  },
  {
   "cell_type": "code",
   "execution_count": 13,
   "metadata": {},
   "outputs": [],
   "source": [
    "import pandas as pd\n",
    "import matplotlib.pyplot as plt\n",
    "from keras.models import Sequential\n",
    "from keras.layers import Dense, Dropout\n",
    "from keras.metrics import AUC, Recall\n",
    "\n",
    "from _all_saxes import x_train, x_test, y_train, y_test\n",
    "# ^ This will take some time..."
   ]
  },
  {
   "cell_type": "code",
   "execution_count": 14,
   "metadata": {},
   "outputs": [
    {
     "name": "stdout",
     "output_type": "stream",
     "text": [
      "Train on 3581 samples, validate on 896 samples\n",
      "Epoch 1/40\n",
      "3581/3581 [==============================] - 1s 330us/step - loss: 1.0391 - recall: 0.6762 - val_loss: 0.6149 - val_recall: 0.8804\n",
      "Epoch 2/40\n",
      "3581/3581 [==============================] - 1s 182us/step - loss: 0.6456 - recall: 0.8360 - val_loss: 0.5651 - val_recall: 0.8895\n",
      "Epoch 3/40\n",
      "3581/3581 [==============================] - 1s 176us/step - loss: 0.5693 - recall: 0.8571 - val_loss: 0.5142 - val_recall: 0.8967\n",
      "Epoch 4/40\n",
      "3581/3581 [==============================] - 1s 170us/step - loss: 0.5200 - recall: 0.8700 - val_loss: 0.4718 - val_recall: 0.8786\n",
      "Epoch 5/40\n",
      "3581/3581 [==============================] - 1s 183us/step - loss: 0.4864 - recall: 0.8659 - val_loss: 0.4507 - val_recall: 0.8967\n",
      "Epoch 6/40\n",
      "3581/3581 [==============================] - 1s 183us/step - loss: 0.4628 - recall: 0.8677 - val_loss: 0.4356 - val_recall: 0.8986\n",
      "Epoch 7/40\n",
      "3581/3581 [==============================] - 1s 182us/step - loss: 0.4439 - recall: 0.8636 - val_loss: 0.4220 - val_recall: 0.8877\n",
      "Epoch 8/40\n",
      "3581/3581 [==============================] - 1s 182us/step - loss: 0.4266 - recall: 0.8672 - val_loss: 0.4133 - val_recall: 0.8786\n",
      "Epoch 9/40\n",
      "3581/3581 [==============================] - 1s 202us/step - loss: 0.4139 - recall: 0.8663 - val_loss: 0.4081 - val_recall: 0.8841\n",
      "Epoch 10/40\n",
      "3581/3581 [==============================] - 1s 173us/step - loss: 0.4132 - recall: 0.8714 - val_loss: 0.4028 - val_recall: 0.8750\n",
      "Epoch 11/40\n",
      "3581/3581 [==============================] - 1s 173us/step - loss: 0.3994 - recall: 0.8728 - val_loss: 0.3961 - val_recall: 0.8732\n",
      "Epoch 12/40\n",
      "3581/3581 [==============================] - 1s 173us/step - loss: 0.3809 - recall: 0.8861 - val_loss: 0.3841 - val_recall: 0.8913\n",
      "Epoch 13/40\n",
      "3581/3581 [==============================] - 1s 174us/step - loss: 0.3711 - recall: 0.8751 - val_loss: 0.3813 - val_recall: 0.8949\n",
      "Epoch 14/40\n",
      "3581/3581 [==============================] - 1s 169us/step - loss: 0.3712 - recall: 0.8847 - val_loss: 0.3826 - val_recall: 0.8714\n",
      "Epoch 15/40\n",
      "3581/3581 [==============================] - 1s 167us/step - loss: 0.3640 - recall: 0.8957 - val_loss: 0.3730 - val_recall: 0.8877\n",
      "Epoch 16/40\n",
      "3581/3581 [==============================] - 1s 169us/step - loss: 0.3533 - recall: 0.8875 - val_loss: 0.3706 - val_recall: 0.8913\n",
      "Epoch 17/40\n",
      "3581/3581 [==============================] - 1s 175us/step - loss: 0.3577 - recall: 0.8925 - val_loss: 0.3687 - val_recall: 0.8913\n",
      "Epoch 18/40\n",
      "3581/3581 [==============================] - 1s 172us/step - loss: 0.3397 - recall: 0.8976 - val_loss: 0.3679 - val_recall: 0.8859\n",
      "Epoch 19/40\n",
      "3581/3581 [==============================] - 1s 181us/step - loss: 0.3451 - recall: 0.8944 - val_loss: 0.3668 - val_recall: 0.8931\n",
      "Epoch 20/40\n",
      "3581/3581 [==============================] - 1s 172us/step - loss: 0.3462 - recall: 0.9003 - val_loss: 0.3697 - val_recall: 0.8841\n",
      "Epoch 21/40\n",
      "3581/3581 [==============================] - 1s 172us/step - loss: 0.3388 - recall: 0.9035 - val_loss: 0.3631 - val_recall: 0.8841\n",
      "Epoch 22/40\n",
      "3581/3581 [==============================] - 1s 181us/step - loss: 0.3350 - recall: 0.9045 - val_loss: 0.3617 - val_recall: 0.8822\n",
      "Epoch 23/40\n",
      "3581/3581 [==============================] - 1s 180us/step - loss: 0.3310 - recall: 0.9026 - val_loss: 0.3653 - val_recall: 0.8931\n",
      "Epoch 24/40\n",
      "3581/3581 [==============================] - 1s 169us/step - loss: 0.3250 - recall: 0.9063 - val_loss: 0.3652 - val_recall: 0.8804\n",
      "Epoch 25/40\n",
      "3581/3581 [==============================] - 1s 186us/step - loss: 0.3317 - recall: 0.8962 - val_loss: 0.3608 - val_recall: 0.8877\n",
      "Epoch 26/40\n",
      "3581/3581 [==============================] - 1s 179us/step - loss: 0.3224 - recall: 0.9012 - val_loss: 0.3603 - val_recall: 0.8986\n",
      "Epoch 27/40\n",
      "3581/3581 [==============================] - 1s 183us/step - loss: 0.3063 - recall: 0.9113 - val_loss: 0.3624 - val_recall: 0.8931\n",
      "Epoch 28/40\n",
      "3581/3581 [==============================] - 1s 183us/step - loss: 0.3044 - recall: 0.9081 - val_loss: 0.3667 - val_recall: 0.8786\n",
      "Epoch 29/40\n",
      "3581/3581 [==============================] - 1s 181us/step - loss: 0.3151 - recall: 0.9012 - val_loss: 0.3616 - val_recall: 0.8931\n",
      "Epoch 30/40\n",
      "3581/3581 [==============================] - 1s 184us/step - loss: 0.3122 - recall: 0.9026 - val_loss: 0.3663 - val_recall: 0.8931\n",
      "Epoch 31/40\n",
      "3581/3581 [==============================] - 1s 185us/step - loss: 0.3043 - recall: 0.9068 - val_loss: 0.3567 - val_recall: 0.8949\n",
      "Epoch 32/40\n",
      "3581/3581 [==============================] - 1s 176us/step - loss: 0.3065 - recall: 0.9026 - val_loss: 0.3567 - val_recall: 0.8913\n",
      "Epoch 33/40\n",
      "3581/3581 [==============================] - 1s 171us/step - loss: 0.3068 - recall: 0.9049 - val_loss: 0.3611 - val_recall: 0.8967\n",
      "Epoch 34/40\n",
      "3581/3581 [==============================] - 1s 171us/step - loss: 0.3086 - recall: 0.9104 - val_loss: 0.3584 - val_recall: 0.8967\n",
      "Epoch 35/40\n",
      "3581/3581 [==============================] - 1s 172us/step - loss: 0.2971 - recall: 0.9086 - val_loss: 0.3584 - val_recall: 0.9058\n",
      "Epoch 36/40\n",
      "3581/3581 [==============================] - 1s 183us/step - loss: 0.2929 - recall: 0.9196 - val_loss: 0.3582 - val_recall: 0.9040\n",
      "Epoch 37/40\n",
      "3581/3581 [==============================] - 1s 175us/step - loss: 0.2866 - recall: 0.9192 - val_loss: 0.3661 - val_recall: 0.8931\n",
      "Epoch 38/40\n",
      "3581/3581 [==============================] - 1s 189us/step - loss: 0.2892 - recall: 0.9104 - val_loss: 0.3657 - val_recall: 0.8986\n",
      "Epoch 39/40\n",
      "3581/3581 [==============================] - 1s 202us/step - loss: 0.2895 - recall: 0.9146 - val_loss: 0.3634 - val_recall: 0.8967\n",
      "Epoch 40/40\n",
      "3581/3581 [==============================] - 1s 204us/step - loss: 0.2914 - recall: 0.9118 - val_loss: 0.3603 - val_recall: 0.9094\n",
      "1120/1120 [==============================] - 0s 50us/step\n"
     ]
    }
   ],
   "source": [
    "NUM_EPOCHS = 40\n",
    "BATCH_SIZE = 16\n",
    "VALIDATION_SIZE = 0.2\n",
    "\n",
    "\n",
    "model = Sequential()\n",
    "model.add(Dense(32, activation='relu'))\n",
    "model.add(Dropout(0.1))\n",
    "model.add(Dense(8, activation='relu'))\n",
    "model.add(Dropout(0.1))\n",
    "model.add(Dense(8, activation='relu'))\n",
    "model.add(Dense(1, activation='sigmoid'))\n",
    "model.compile(loss='binary_crossentropy', optimizer='adam', \n",
    "              metrics=[Recall(name='recall')])\n",
    "history = model.fit(x_train, y_train, epochs=NUM_EPOCHS, \n",
    "                    batch_size=BATCH_SIZE, \n",
    "                    validation_split=VALIDATION_SIZE)\n",
    "loss, recall = model.evaluate(x_test, y_test)\n"
   ]
  },
  {
   "cell_type": "code",
   "execution_count": 15,
   "metadata": {},
   "outputs": [
    {
     "name": "stdout",
     "output_type": "stream",
     "text": [
      "1120/1120 [==============================] - 0s 42us/step\n",
      "Recall: 90.08\n"
     ]
    }
   ],
   "source": [
    "# auc, \n",
    "loss, recall = model.evaluate(x_test, y_test)\n",
    "# print('AUC: %.2f' % (auc * 100))\n",
    "print('Recall: %.2f' % (recall * 100))"
   ]
  },
  {
   "cell_type": "code",
   "execution_count": 16,
   "metadata": {},
   "outputs": [
    {
     "data": {
      "image/png": "[encoded data removed]",
      "text/plain": [
       "<Figure size 576x360 with 1 Axes>"
      ]
     },
     "metadata": {
      "needs_background": "light"
     },
     "output_type": "display_data"
    }
   ],
   "source": [
    "# history is a keras.callbacks.callbacks.History object\n",
    "pd.DataFrame(history.history).plot(figsize=(8, 5))\n",
    "plt.grid(True)\n",
    "plt.gca().set_ylim(0, 1)\n",
    "plt.show()\n"
   ]
  },
  {
   "cell_type": "code",
   "execution_count": 32,
   "metadata": {},
   "outputs": [
    {
     "name": "stdout",
     "output_type": "stream",
     "text": [
      "Train on 3581 samples, validate on 896 samples\n",
      "Epoch 1/40\n",
      "3581/3581 [==============================] - 1s 405us/step - loss: 1.0699 - recall: 0.6500 - val_loss: 0.6338 - val_recall: 0.8170\n",
      "Epoch 2/40\n",
      "3581/3581 [==============================] - 1s 205us/step - loss: 0.6192 - recall: 0.7832 - val_loss: 0.5601 - val_recall: 0.7790\n",
      "Epoch 3/40\n",
      "3581/3581 [==============================] - 1s 226us/step - loss: 0.5374 - recall: 0.8098 - val_loss: 0.4979 - val_recall: 0.7736\n",
      "Epoch 4/40\n",
      "3581/3581 [==============================] - 1s 204us/step - loss: 0.5007 - recall: 0.8167 - val_loss: 0.4739 - val_recall: 0.8062\n",
      "Epoch 5/40\n",
      "3581/3581 [==============================] - 1s 197us/step - loss: 0.4765 - recall: 0.8126 - val_loss: 0.4676 - val_recall: 0.8170\n",
      "Epoch 6/40\n",
      "3581/3581 [==============================] - 1s 194us/step - loss: 0.4536 - recall: 0.8195 - val_loss: 0.4488 - val_recall: 0.8297\n",
      "Epoch 7/40\n",
      "3581/3581 [==============================] - 1s 200us/step - loss: 0.4247 - recall: 0.8461 - val_loss: 0.4334 - val_recall: 0.8388\n",
      "Epoch 8/40\n",
      "3581/3581 [==============================] - 1s 192us/step - loss: 0.4168 - recall: 0.8562 - val_loss: 0.4205 - val_recall: 0.8496\n",
      "Epoch 9/40\n",
      "3581/3581 [==============================] - 1s 198us/step - loss: 0.4020 - recall: 0.8585 - val_loss: 0.4187 - val_recall: 0.8351\n",
      "Epoch 10/40\n",
      "3581/3581 [==============================] - 1s 229us/step - loss: 0.3874 - recall: 0.8677 - val_loss: 0.4150 - val_recall: 0.8460\n",
      "Epoch 11/40\n",
      "3581/3581 [==============================] - 1s 199us/step - loss: 0.3817 - recall: 0.8728 - val_loss: 0.4112 - val_recall: 0.8533\n",
      "Epoch 12/40\n",
      "3581/3581 [==============================] - 1s 195us/step - loss: 0.3726 - recall: 0.8751 - val_loss: 0.4089 - val_recall: 0.8587\n",
      "Epoch 13/40\n",
      "3581/3581 [==============================] - 1s 194us/step - loss: 0.3571 - recall: 0.8783 - val_loss: 0.4024 - val_recall: 0.8587\n",
      "Epoch 14/40\n",
      "3581/3581 [==============================] - 1s 199us/step - loss: 0.3564 - recall: 0.8801 - val_loss: 0.3973 - val_recall: 0.8605\n",
      "Epoch 15/40\n",
      "3581/3581 [==============================] - 1s 204us/step - loss: 0.3638 - recall: 0.8829 - val_loss: 0.3943 - val_recall: 0.8659\n",
      "Epoch 16/40\n",
      "3581/3581 [==============================] - 1s 187us/step - loss: 0.3491 - recall: 0.8778 - val_loss: 0.3864 - val_recall: 0.8714\n",
      "Epoch 17/40\n",
      "3581/3581 [==============================] - 1s 202us/step - loss: 0.3394 - recall: 0.8884 - val_loss: 0.3769 - val_recall: 0.8605\n",
      "Epoch 18/40\n",
      "3581/3581 [==============================] - 1s 201us/step - loss: 0.3354 - recall: 0.8930 - val_loss: 0.3839 - val_recall: 0.8804\n",
      "Epoch 19/40\n",
      "3581/3581 [==============================] - 1s 199us/step - loss: 0.3322 - recall: 0.8925 - val_loss: 0.3807 - val_recall: 0.8732\n",
      "Epoch 20/40\n",
      "3581/3581 [==============================] - 1s 201us/step - loss: 0.3297 - recall: 0.8939 - val_loss: 0.3914 - val_recall: 0.8841\n",
      "Epoch 21/40\n",
      "3581/3581 [==============================] - 1s 199us/step - loss: 0.3259 - recall: 0.8939 - val_loss: 0.3887 - val_recall: 0.8623\n",
      "Epoch 22/40\n",
      "3581/3581 [==============================] - 1s 192us/step - loss: 0.3286 - recall: 0.8934 - val_loss: 0.3890 - val_recall: 0.8623\n",
      "Epoch 23/40\n",
      "3581/3581 [==============================] - 1s 196us/step - loss: 0.3177 - recall: 0.8893 - val_loss: 0.3829 - val_recall: 0.8696\n",
      "Epoch 24/40\n",
      "3581/3581 [==============================] - 1s 199us/step - loss: 0.3142 - recall: 0.8976 - val_loss: 0.3873 - val_recall: 0.8587\n",
      "Epoch 25/40\n",
      "3581/3581 [==============================] - 1s 191us/step - loss: 0.3077 - recall: 0.8930 - val_loss: 0.3935 - val_recall: 0.8569\n",
      "Epoch 26/40\n",
      "3581/3581 [==============================] - 1s 197us/step - loss: 0.3050 - recall: 0.8966 - val_loss: 0.3918 - val_recall: 0.8569\n",
      "Epoch 27/40\n",
      "3581/3581 [==============================] - 1s 191us/step - loss: 0.3001 - recall: 0.8948 - val_loss: 0.4020 - val_recall: 0.8659\n",
      "Epoch 28/40\n",
      "3581/3581 [==============================] - 1s 197us/step - loss: 0.2987 - recall: 0.9012 - val_loss: 0.3956 - val_recall: 0.8605\n",
      "Epoch 29/40\n",
      "3581/3581 [==============================] - 1s 204us/step - loss: 0.3049 - recall: 0.9035 - val_loss: 0.3910 - val_recall: 0.8623\n",
      "Epoch 30/40\n",
      "3581/3581 [==============================] - 1s 204us/step - loss: 0.2996 - recall: 0.9077 - val_loss: 0.3947 - val_recall: 0.8659\n",
      "Epoch 31/40\n",
      "3581/3581 [==============================] - 1s 206us/step - loss: 0.2961 - recall: 0.9063 - val_loss: 0.4016 - val_recall: 0.8623\n",
      "Epoch 32/40\n",
      "3581/3581 [==============================] - 1s 192us/step - loss: 0.2917 - recall: 0.8994 - val_loss: 0.3954 - val_recall: 0.8895\n",
      "Epoch 33/40\n",
      "3581/3581 [==============================] - 1s 204us/step - loss: 0.2931 - recall: 0.8944 - val_loss: 0.3938 - val_recall: 0.8877\n",
      "Epoch 34/40\n",
      "3581/3581 [==============================] - 1s 204us/step - loss: 0.2799 - recall: 0.9068 - val_loss: 0.4046 - val_recall: 0.8732\n",
      "Epoch 35/40\n",
      "3581/3581 [==============================] - 1s 197us/step - loss: 0.2841 - recall: 0.9072 - val_loss: 0.4010 - val_recall: 0.8641\n",
      "Epoch 36/40\n",
      "3581/3581 [==============================] - 1s 206us/step - loss: 0.2684 - recall: 0.9132 - val_loss: 0.4000 - val_recall: 0.8786\n",
      "Epoch 37/40\n",
      "3581/3581 [==============================] - 1s 200us/step - loss: 0.2808 - recall: 0.9049 - val_loss: 0.4003 - val_recall: 0.8750\n",
      "Epoch 38/40\n",
      "3581/3581 [==============================] - 1s 201us/step - loss: 0.2862 - recall: 0.9072 - val_loss: 0.4032 - val_recall: 0.8804\n",
      "Epoch 39/40\n",
      "3581/3581 [==============================] - 1s 201us/step - loss: 0.2719 - recall: 0.9169 - val_loss: 0.4001 - val_recall: 0.8678\n",
      "Epoch 40/40\n",
      "3581/3581 [==============================] - 1s 215us/step - loss: 0.2716 - recall: 0.9155 - val_loss: 0.4050 - val_recall: 0.8678\n",
      "1120/1120 [==============================] - 0s 63us/step\n"
     ]
    }
   ],
   "source": [
    "NUM_EPOCHS = 40\n",
    "BATCH_SIZE = 16\n",
    "VALIDATION_SIZE = 0.2\n",
    "\n",
    "model = Sequential()\n",
    "model.add(Dense(32, activation='relu'))\n",
    "model.add(Dropout(0.1))\n",
    "model.add(Dense(16, activation='relu'))\n",
    "model.add(Dropout(0.1))\n",
    "model.add(Dense(8, activation='relu'))\n",
    "model.add(Dense(1, activation='sigmoid'))\n",
    "model.compile(loss='binary_crossentropy', optimizer='adam', \n",
    "              metrics=[Recall(name='recall')])\n",
    "history = model.fit(x_train, y_train, epochs=NUM_EPOCHS, \n",
    "                    batch_size=BATCH_SIZE, \n",
    "                    validation_split=VALIDATION_SIZE)\n",
    "loss, recall = model.evaluate(x_test, y_test)\n"
   ]
  },
  {
   "cell_type": "code",
   "execution_count": 33,
   "metadata": {},
   "outputs": [
    {
     "name": "stdout",
     "output_type": "stream",
     "text": [
      "1120/1120 [==============================] - 0s 93us/step\n",
      "Recall: 89.17\n"
     ]
    }
   ],
   "source": [
    "# auc, \n",
    "loss, recall = model.evaluate(x_test, y_test)\n",
    "# print('AUC: %.2f' % (auc * 100))\n",
    "print('Recall: %.2f' % (recall * 100))"
   ]
  },
  {
   "cell_type": "code",
   "execution_count": 34,
   "metadata": {},
   "outputs": [
    {
     "data": {
      "image/png": "[encoded data removed]",
      "text/plain": [
       "<Figure size 576x360 with 1 Axes>"
      ]
     },
     "metadata": {
      "needs_background": "light"
     },
     "output_type": "display_data"
    }
   ],
   "source": [
    "# history is a keras.callbacks.callbacks.History object\n",
    "pd.DataFrame(history.history).plot(figsize=(8, 5))\n",
    "plt.grid(True)\n",
    "plt.gca().set_ylim(0, 1)\n",
    "plt.show()\n"
   ]
  },
  {
   "cell_type": "code",
   "execution_count": null,
   "metadata": {},
   "outputs": [],
   "source": [
    "NUM_EPOCHS = 40\n",
    "BATCH_SIZE = 16\n",
    "VALIDATION_SIZE = 0.2\n",
    "\n",
    "# https://keras.io/api/layers/activations/\n",
    "# https://keras.io/api/layers/activation_layers/leaky_relu/\n",
    "\n",
    "model = Sequential()\n",
    "model.add(Dense(32, activation='relu'))\n",
    "model.add(Dropout(0.1))\n",
    "model.add(Dense(16, activation='relu'))\n",
    "model.add(Dropout(0.1))\n",
    "model.add(Dense(8, activation='relu'))\n",
    "model.add(Dense(1, activation='sigmoid'))\n",
    "model.compile(loss='binary_crossentropy', optimizer='adam', \n",
    "              metrics=[Recall(name='recall')])\n",
    "history = model.fit(x_train, y_train, epochs=NUM_EPOCHS, \n",
    "                    batch_size=BATCH_SIZE, \n",
    "                    validation_split=VALIDATION_SIZE)\n",
    "loss, recall = model.evaluate(x_test, y_test)\n"
   ]
  }
 ],
 "metadata": {
  "kernelspec": {
   "display_name": "Python 3",
   "language": "python",
   "name": "python3"
  },
  "language_info": {
   "codemirror_mode": {
    "name": "ipython",
    "version": 3
   },
   "file_extension": ".py",
   "mimetype": "text/x-python",
   "name": "python",
   "nbconvert_exporter": "python",
   "pygments_lexer": "ipython3",
   "version": "3.7.8"
  }
 },
 "nbformat": 4,
 "nbformat_minor": 4
}
