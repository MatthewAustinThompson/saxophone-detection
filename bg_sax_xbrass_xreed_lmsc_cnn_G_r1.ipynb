{
 "cells": [
  {
   "cell_type": "code",
   "execution_count": 1,
   "metadata": {},
   "outputs": [
    {
     "name": "stderr",
     "output_type": "stream",
     "text": [
      "Using TensorFlow backend.\n",
      "D:\\Program_Files\\Anaconda3\\lib\\site-packages\\tensorflow\\python\\framework\\dtypes.py:516: FutureWarning: Passing (type, 1) or '1type' as a synonym of type is deprecated; in a future version of numpy, it will be understood as (type, (1,)) / '(1,)type'.\n",
      "  _np_qint8 = np.dtype([(\"qint8\", np.int8, 1)])\n",
      "D:\\Program_Files\\Anaconda3\\lib\\site-packages\\tensorflow\\python\\framework\\dtypes.py:517: FutureWarning: Passing (type, 1) or '1type' as a synonym of type is deprecated; in a future version of numpy, it will be understood as (type, (1,)) / '(1,)type'.\n",
      "  _np_quint8 = np.dtype([(\"quint8\", np.uint8, 1)])\n",
      "D:\\Program_Files\\Anaconda3\\lib\\site-packages\\tensorflow\\python\\framework\\dtypes.py:518: FutureWarning: Passing (type, 1) or '1type' as a synonym of type is deprecated; in a future version of numpy, it will be understood as (type, (1,)) / '(1,)type'.\n",
      "  _np_qint16 = np.dtype([(\"qint16\", np.int16, 1)])\n",
      "D:\\Program_Files\\Anaconda3\\lib\\site-packages\\tensorflow\\python\\framework\\dtypes.py:519: FutureWarning: Passing (type, 1) or '1type' as a synonym of type is deprecated; in a future version of numpy, it will be understood as (type, (1,)) / '(1,)type'.\n",
      "  _np_quint16 = np.dtype([(\"quint16\", np.uint16, 1)])\n",
      "D:\\Program_Files\\Anaconda3\\lib\\site-packages\\tensorflow\\python\\framework\\dtypes.py:520: FutureWarning: Passing (type, 1) or '1type' as a synonym of type is deprecated; in a future version of numpy, it will be understood as (type, (1,)) / '(1,)type'.\n",
      "  _np_qint32 = np.dtype([(\"qint32\", np.int32, 1)])\n",
      "D:\\Program_Files\\Anaconda3\\lib\\site-packages\\tensorflow\\python\\framework\\dtypes.py:525: FutureWarning: Passing (type, 1) or '1type' as a synonym of type is deprecated; in a future version of numpy, it will be understood as (type, (1,)) / '(1,)type'.\n",
      "  np_resource = np.dtype([(\"resource\", np.ubyte, 1)])\n",
      "D:\\Program_Files\\Anaconda3\\lib\\site-packages\\tensorboard\\compat\\tensorflow_stub\\dtypes.py:541: FutureWarning: Passing (type, 1) or '1type' as a synonym of type is deprecated; in a future version of numpy, it will be understood as (type, (1,)) / '(1,)type'.\n",
      "  _np_qint8 = np.dtype([(\"qint8\", np.int8, 1)])\n",
      "D:\\Program_Files\\Anaconda3\\lib\\site-packages\\tensorboard\\compat\\tensorflow_stub\\dtypes.py:542: FutureWarning: Passing (type, 1) or '1type' as a synonym of type is deprecated; in a future version of numpy, it will be understood as (type, (1,)) / '(1,)type'.\n",
      "  _np_quint8 = np.dtype([(\"quint8\", np.uint8, 1)])\n",
      "D:\\Program_Files\\Anaconda3\\lib\\site-packages\\tensorboard\\compat\\tensorflow_stub\\dtypes.py:543: FutureWarning: Passing (type, 1) or '1type' as a synonym of type is deprecated; in a future version of numpy, it will be understood as (type, (1,)) / '(1,)type'.\n",
      "  _np_qint16 = np.dtype([(\"qint16\", np.int16, 1)])\n",
      "D:\\Program_Files\\Anaconda3\\lib\\site-packages\\tensorboard\\compat\\tensorflow_stub\\dtypes.py:544: FutureWarning: Passing (type, 1) or '1type' as a synonym of type is deprecated; in a future version of numpy, it will be understood as (type, (1,)) / '(1,)type'.\n",
      "  _np_quint16 = np.dtype([(\"quint16\", np.uint16, 1)])\n",
      "D:\\Program_Files\\Anaconda3\\lib\\site-packages\\tensorboard\\compat\\tensorflow_stub\\dtypes.py:545: FutureWarning: Passing (type, 1) or '1type' as a synonym of type is deprecated; in a future version of numpy, it will be understood as (type, (1,)) / '(1,)type'.\n",
      "  _np_qint32 = np.dtype([(\"qint32\", np.int32, 1)])\n",
      "D:\\Program_Files\\Anaconda3\\lib\\site-packages\\tensorboard\\compat\\tensorflow_stub\\dtypes.py:550: FutureWarning: Passing (type, 1) or '1type' as a synonym of type is deprecated; in a future version of numpy, it will be understood as (type, (1,)) / '(1,)type'.\n",
      "  np_resource = np.dtype([(\"resource\", np.ubyte, 1)])\n"
     ]
    }
   ],
   "source": [
    "import pandas as pd\n",
    "import matplotlib.pyplot as plt\n",
    "from keras.models import load_model\n",
    "from keras.metrics import AUC, Recall\n",
    "from sklearn.model_selection import train_test_split, \\\n",
    "                                    RandomizedSearchCV, GridSearchCV\n",
    "from sklearn.metrics import confusion_matrix, classification_report, \\\n",
    "    precision_recall_curve, roc_curve, roc_auc_score\n",
    "\n",
    "from sklearn.svm import SVC\n",
    "from sklearn.ensemble import BaggingClassifier\n",
    "from scipy.stats import uniform"
   ]
  },
  {
   "cell_type": "code",
   "execution_count": 2,
   "metadata": {},
   "outputs": [
    {
     "name": "stdout",
     "output_type": "stream",
     "text": [
      "Reading lmsc_data_0.pkl...\n",
      "(725, 9230)\n",
      "Reading lmsc_data_1.pkl...\n",
      "(755, 9230)\n",
      "Appending 1...\n",
      "Reading lmsc_data_2.pkl...\n",
      "(761, 9230)\n",
      "Appending 2...\n",
      "Reading lmsc_data_3.pkl...\n",
      "(770, 9230)\n",
      "Appending 3...\n",
      "Reading lmsc_data_4.pkl...\n",
      "(747, 9230)\n",
      "Appending 4...\n",
      "Reading lmsc_data_5.pkl...\n",
      "(737, 9230)\n",
      "Appending 5...\n",
      "Reading lmsc_data_6.pkl...\n",
      "(763, 9230)\n",
      "Appending 6...\n",
      "Reading lmsc_data_7.pkl...\n",
      "(744, 9230)\n",
      "Appending 7...\n",
      "Reading lmsc_data_8.pkl...\n",
      "(736, 9230)\n",
      "Appending 8...\n",
      "Making labels...\n",
      "(6738, 9231)\n",
      "Selecting columns...\n",
      "(6738, 9216)\n",
      "Trying to make numpy...\n",
      "Applying scaler...\n",
      "Done\n"
     ]
    }
   ],
   "source": [
    "from _common import NUM_LABEL_COLS, RANDOM_SEED\n",
    "from _all_saxes_xbrass_lmsc import TEST_SIZE, VALIDATION_SIZE, \\\n",
    "    BANDS, TIME_SLICES, master, lmss, data, target\n",
    "# Note that records are read from pickle, selected, filtered,\n",
    "# and scaled with `sklearn.preprocessing.StandardScaler` \n",
    "# in `_all_saxes_xbrass_lmsc.py`."
   ]
  },
  {
   "cell_type": "code",
   "execution_count": 3,
   "metadata": {},
   "outputs": [
    {
     "name": "stdout",
     "output_type": "stream",
     "text": [
      "Reading lmsc_data_0.pkl...\n",
      "(714, 9230)\n",
      "Reading lmsc_data_1.pkl...\n",
      "(734, 9230)\n",
      "Appending 1...\n",
      "Reading lmsc_data_2.pkl...\n",
      "(747, 9230)\n",
      "Appending 2...\n",
      "Reading lmsc_data_3.pkl...\n",
      "(754, 9230)\n",
      "Appending 3...\n",
      "Reading lmsc_data_4.pkl...\n",
      "(734, 9230)\n",
      "Appending 4...\n",
      "Reading lmsc_data_5.pkl...\n",
      "(714, 9230)\n",
      "Appending 5...\n",
      "Reading lmsc_data_6.pkl...\n",
      "(745, 9230)\n",
      "Appending 6...\n",
      "Reading lmsc_data_7.pkl...\n",
      "(726, 9230)\n",
      "Appending 7...\n",
      "Reading lmsc_data_8.pkl...\n",
      "(720, 9230)\n",
      "Appending 8...\n",
      "Making labels...\n",
      "(6588, 9231)\n",
      "Selecting columns...\n",
      "(6588, 9216)\n",
      "Trying to make numpy...\n",
      "Applying scaler...\n",
      "Done\n"
     ]
    }
   ],
   "source": [
    "\"\"\"\n",
    "Import from this file if you're doing stuff with\n",
    "\n",
    "        ALL SAXES XBRASS LOG MEL SPECTROGRAM\n",
    "        COMPRESSED to 96 x 96\n",
    "\n",
    "C. Cafiero\n",
    "B. Gamble\n",
    "M. Thompson\n",
    "\"\"\"\n",
    "\n",
    "import os\n",
    "\n",
    "import pandas as pd\n",
    "from sklearn.preprocessing import StandardScaler\n",
    "\n",
    "from _common import NUM_LABEL_COLS\n",
    "\n",
    "TEST_SIZE = 0.20  # of total data\n",
    "VALIDATION_SIZE = 0.2  # of training set\n",
    "BANDS = 96\n",
    "TIME_SLICES = 96\n",
    "\n",
    "pnums = [0, 1, 2, 3, 4, 5, 6, 7, 8]\n",
    "DIR = './data/'\n",
    "\n",
    "for n in pnums:\n",
    "    fn = 'lmsc_data_{}.pkl'.format(n)\n",
    "    print(\"Reading lmsc_data_{}.pkl...\".format(n))\n",
    "    df = pd.read_pickle(os.path.join(DIR, fn))\n",
    "\n",
    "    # exclude records we want to exclude\n",
    "    df = df[df['trmp'] == '0']\n",
    "    df = df[df['trmb'] == '0']\n",
    "    df = df[df['otrb'] == '0']\n",
    "    df = df[df['ext'] == '0']\n",
    "    df = df[df['excl'] == '0']\n",
    "    df = df[df['clrt'] == '0']\n",
    "    df = df[df['othr'] == '0']\n",
    "\n",
    "    print(df.shape)\n",
    "    if n == 0:\n",
    "        master = df\n",
    "    else:\n",
    "        print(\"Appending {}...\".format(n))\n",
    "        master = master.append(df)\n",
    "\n",
    "\n",
    "print(\"Making labels...\")\n",
    "master['sax'] = master[['sop', 'alto', 'tenr', 'tora', 'bari']].max(axis=1)\n",
    "master['sax'] = master['sax'].astype(int)\n",
    "target = master['sax'].to_numpy().ravel()\n",
    "# ^ these are the labels\n",
    "\n",
    "print(master.shape)\n",
    "print(\"Selecting columns...\")\n",
    "lmss = master.iloc[:, 1:]                           # off by one?\n",
    "num_x_cols = lmss.shape[1] - NUM_LABEL_COLS - 1\n",
    "lmss = lmss.iloc[:, 0:num_x_cols]\n",
    "print(lmss.shape)\n",
    "\n",
    "# print(lmss.head())\n",
    "print(\"Trying to make numpy...\")\n",
    "data = lmss.to_numpy()\n",
    "\n",
    "print(\"Applying scaler...\")\n",
    "scaler = StandardScaler()\n",
    "scaler.fit(data)\n",
    "data = scaler.transform(data)\n",
    "\n",
    "print(\"Done\")\n"
   ]
  },
  {
   "cell_type": "code",
   "execution_count": 4,
   "metadata": {},
   "outputs": [],
   "source": [
    "x_train, x_test, y_train, y_test = \\\n",
    "    train_test_split(data, target, \\\n",
    "        test_size=TEST_SIZE, \\\n",
    "        random_state=RANDOM_SEED)"
   ]
  },
  {
   "cell_type": "code",
   "execution_count": 5,
   "metadata": {},
   "outputs": [
    {
     "name": "stdout",
     "output_type": "stream",
     "text": [
      "(5270, 9216)\n",
      "(1318, 9216)\n"
     ]
    }
   ],
   "source": [
    "print(x_train.shape)\n",
    "print(x_test.shape)"
   ]
  },
  {
   "cell_type": "code",
   "execution_count": 6,
   "metadata": {},
   "outputs": [],
   "source": [
    "# Reshape for input to 2D convolutional layer\n",
    "x_train = x_train.reshape(x_train.shape[0], BANDS, TIME_SLICES, 1)\n",
    "x_test = x_test.reshape(x_test.shape[0], BANDS, TIME_SLICES, 1)"
   ]
  },
  {
   "cell_type": "code",
   "execution_count": 7,
   "metadata": {},
   "outputs": [
    {
     "name": "stdout",
     "output_type": "stream",
     "text": [
      "WARNING:tensorflow:From D:\\Program_Files\\Anaconda3\\lib\\site-packages\\keras\\backend\\tensorflow_backend.py:4070: The name tf.nn.max_pool is deprecated. Please use tf.nn.max_pool2d instead.\n",
      "\n"
     ]
    }
   ],
   "source": [
    "dependencies = {\n",
    "    'recall': Recall\n",
    "}\n",
    "\n",
    "fn = './models/CNN/tenor_cnn/tenor_cnn_G.h5'\n",
    "model = load_model(fn, custom_objects=dependencies, compile=False)"
   ]
  },
  {
   "cell_type": "code",
   "execution_count": 8,
   "metadata": {},
   "outputs": [
    {
     "name": "stdout",
     "output_type": "stream",
     "text": [
      "WARNING:tensorflow:From D:\\Program_Files\\Anaconda3\\lib\\site-packages\\keras\\backend\\tensorflow_backend.py:3172: add_dispatch_support.<locals>.wrapper (from tensorflow.python.ops.array_ops) is deprecated and will be removed in a future version.\n",
      "Instructions for updating:\n",
      "Use tf.where in 2.0, which has the same broadcast rule as np.where\n"
     ]
    }
   ],
   "source": [
    "model.compile(loss='binary_crossentropy', optimizer='adam', \n",
    "              metrics=[Recall(name='recall'), 'accuracy'])"
   ]
  },
  {
   "cell_type": "code",
   "execution_count": 11,
   "metadata": {},
   "outputs": [
    {
     "name": "stdout",
     "output_type": "stream",
     "text": [
      "1318/1318 [==============================] - 9s 7ms/step\n",
      "Recall: 96.02\n",
      "Accuracy: 94.31\n"
     ]
    }
   ],
   "source": [
    "# auc, \n",
    "loss, recall, accuracy = model.evaluate(x_test, y_test)\n",
    "# print('AUC: %.2f' % (auc * 100))\n",
    "print('Recall: %.2f' % (recall * 100))\n",
    "print('Accuracy: %.2f' % (accuracy * 100))"
   ]
  },
  {
   "cell_type": "code",
   "execution_count": 12,
   "metadata": {},
   "outputs": [
    {
     "name": "stdout",
     "output_type": "stream",
     "text": [
      "Model: \"sequential_11\"\n",
      "_________________________________________________________________\n",
      "Layer (type)                 Output Shape              Param #   \n",
      "=================================================================\n",
      "conv2d_38 (Conv2D)           (None, 95, 95, 128)       640       \n",
      "_________________________________________________________________\n",
      "leaky_re_lu_19 (LeakyReLU)   (None, 95, 95, 128)       0         \n",
      "_________________________________________________________________\n",
      "max_pooling2d_29 (MaxPooling (None, 47, 47, 128)       0         \n",
      "_________________________________________________________________\n",
      "conv2d_39 (Conv2D)           (None, 46, 46, 128)       65664     \n",
      "_________________________________________________________________\n",
      "leaky_re_lu_20 (LeakyReLU)   (None, 46, 46, 128)       0         \n",
      "_________________________________________________________________\n",
      "max_pooling2d_30 (MaxPooling (None, 23, 23, 128)       0         \n",
      "_________________________________________________________________\n",
      "conv2d_40 (Conv2D)           (None, 21, 21, 128)       147584    \n",
      "_________________________________________________________________\n",
      "leaky_re_lu_21 (LeakyReLU)   (None, 21, 21, 128)       0         \n",
      "_________________________________________________________________\n",
      "max_pooling2d_31 (MaxPooling (None, 10, 10, 128)       0         \n",
      "_________________________________________________________________\n",
      "conv2d_41 (Conv2D)           (None, 8, 8, 128)         147584    \n",
      "_________________________________________________________________\n",
      "leaky_re_lu_22 (LeakyReLU)   (None, 8, 8, 128)         0         \n",
      "_________________________________________________________________\n",
      "max_pooling2d_32 (MaxPooling (None, 4, 4, 128)         0         \n",
      "_________________________________________________________________\n",
      "dropout_28 (Dropout)         (None, 4, 4, 128)         0         \n",
      "_________________________________________________________________\n",
      "flatten_10 (Flatten)         (None, 2048)              0         \n",
      "_________________________________________________________________\n",
      "dense_28 (Dense)             (None, 128)               262272    \n",
      "_________________________________________________________________\n",
      "leaky_re_lu_23 (LeakyReLU)   (None, 128)               0         \n",
      "_________________________________________________________________\n",
      "dropout_29 (Dropout)         (None, 128)               0         \n",
      "_________________________________________________________________\n",
      "dense_29 (Dense)             (None, 64)                8256      \n",
      "_________________________________________________________________\n",
      "leaky_re_lu_24 (LeakyReLU)   (None, 64)                0         \n",
      "_________________________________________________________________\n",
      "dropout_30 (Dropout)         (None, 64)                0         \n",
      "_________________________________________________________________\n",
      "dense_30 (Dense)             (None, 1)                 65        \n",
      "=================================================================\n",
      "Total params: 632,065\n",
      "Trainable params: 632,065\n",
      "Non-trainable params: 0\n",
      "_________________________________________________________________\n"
     ]
    }
   ],
   "source": [
    "model.summary()"
   ]
  },
  {
   "cell_type": "code",
   "execution_count": 13,
   "metadata": {},
   "outputs": [],
   "source": [
    " probas_pred = model.predict_proba(x_test)"
   ]
  },
  {
   "cell_type": "code",
   "execution_count": 14,
   "metadata": {},
   "outputs": [],
   "source": [
    " y_true = [1 if x == 1 else 0 for x in y_test]"
   ]
  },
  {
   "cell_type": "code",
   "execution_count": 15,
   "metadata": {},
   "outputs": [],
   "source": [
    " precision, recall, threshold = precision_recall_curve(y_true, probas_pred)"
   ]
  },
  {
   "cell_type": "code",
   "execution_count": 16,
   "metadata": {},
   "outputs": [
    {
     "data": {
      "text/plain": [
       "Text(0.5, 1.0, 'Precision-Recall Curve')"
      ]
     },
     "execution_count": 16,
     "metadata": {},
     "output_type": "execute_result"
    },
    {
     "data": {
      "image/png": "[encoded data removed]",
      "text/plain": [
       "<Figure size 720x504 with 1 Axes>"
      ]
     },
     "metadata": {
      "needs_background": "light"
     },
     "output_type": "display_data"
    }
   ],
   "source": [
    "fig = plt.figure(figsize=(10, 7))    \n",
    "plt.plot(recall, precision)\n",
    "plt.xlabel('recall')\n",
    "plt.ylabel('precision')\n",
    "plt.title(\"Precision-Recall Curve\")"
   ]
  },
  {
   "cell_type": "code",
   "execution_count": 17,
   "metadata": {},
   "outputs": [],
   "source": [
    "fpr, tpr, threshold = roc_curve(y_true, probas_pred)\n",
    "auc = roc_auc_score(y_true, probas_pred)"
   ]
  },
  {
   "cell_type": "code",
   "execution_count": 18,
   "metadata": {},
   "outputs": [
    {
     "data": {
      "image/png": "[encoded data removed]",
      "text/plain": [
       "<Figure size 720x504 with 1 Axes>"
      ]
     },
     "metadata": {
      "needs_background": "light"
     },
     "output_type": "display_data"
    }
   ],
   "source": [
    "fig = plt.figure(figsize=(10, 7))    \n",
    "plt.plot(fpr, tpr, 'b')\n",
    "plt.plot([0, 1], [0, 1], ':', color='0.1')\n",
    "plt.xlabel('FPR')\n",
    "plt.ylabel('TPR')\n",
    "plt.title(\"ROC Curve: AUC = {:.3f}\".format(auc)) \n",
    "\n",
    "plt.savefig('CNN_LMS_G_ROC.png', transparent=True)"
   ]
  },
  {
   "cell_type": "code",
   "execution_count": null,
   "metadata": {},
   "outputs": [],
   "source": []
  },
  {
   "cell_type": "code",
   "execution_count": null,
   "metadata": {},
   "outputs": [],
   "source": []
  },
  {
   "cell_type": "code",
   "execution_count": null,
   "metadata": {},
   "outputs": [],
   "source": []
  },
  {
   "cell_type": "code",
   "execution_count": null,
   "metadata": {},
   "outputs": [],
   "source": []
  },
  {
   "cell_type": "code",
   "execution_count": null,
   "metadata": {},
   "outputs": [],
   "source": []
  },
  {
   "cell_type": "code",
   "execution_count": null,
   "metadata": {},
   "outputs": [],
   "source": []
  },
  {
   "cell_type": "code",
   "execution_count": null,
   "metadata": {},
   "outputs": [],
   "source": []
  },
  {
   "cell_type": "code",
   "execution_count": null,
   "metadata": {},
   "outputs": [],
   "source": []
  },
  {
   "cell_type": "code",
   "execution_count": null,
   "metadata": {},
   "outputs": [],
   "source": []
  },
  {
   "cell_type": "code",
   "execution_count": null,
   "metadata": {},
   "outputs": [],
   "source": []
  },
  {
   "cell_type": "code",
   "execution_count": null,
   "metadata": {},
   "outputs": [],
   "source": []
  },
  {
   "cell_type": "code",
   "execution_count": null,
   "metadata": {},
   "outputs": [],
   "source": []
  },
  {
   "cell_type": "code",
   "execution_count": null,
   "metadata": {},
   "outputs": [],
   "source": []
  },
  {
   "cell_type": "code",
   "execution_count": null,
   "metadata": {},
   "outputs": [],
   "source": []
  },
  {
   "cell_type": "code",
   "execution_count": null,
   "metadata": {},
   "outputs": [],
   "source": []
  },
  {
   "cell_type": "code",
   "execution_count": null,
   "metadata": {},
   "outputs": [],
   "source": []
  }
 ],
 "metadata": {
  "kernelspec": {
   "display_name": "Python 3",
   "language": "python",
   "name": "python3"
  },
  "language_info": {
   "codemirror_mode": {
    "name": "ipython",
    "version": 3
   },
   "file_extension": ".py",
   "mimetype": "text/x-python",
   "name": "python",
   "nbconvert_exporter": "python",
   "pygments_lexer": "ipython3",
   "version": "3.7.1"
  }
 },
 "nbformat": 4,
 "nbformat_minor": 4
}
