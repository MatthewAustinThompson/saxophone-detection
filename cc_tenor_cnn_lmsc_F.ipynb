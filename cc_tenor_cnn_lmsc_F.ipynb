{
 "cells": [
  {
   "cell_type": "code",
   "execution_count": 8,
   "metadata": {},
   "outputs": [],
   "source": [
    "import pandas as pd\n",
    "import matplotlib.pyplot as plt\n",
    "from keras.models import load_model, Sequential\n",
    "from keras.layers import Dense, Flatten, Dropout, \\\n",
    "    Conv2D, MaxPooling2D, AveragePooling2D\n",
    "from keras.metrics import AUC, Recall\n",
    "from sklearn.model_selection import train_test_split\n",
    "from sklearn.preprocessing import StandardScaler\n",
    "\n",
    "from _common import NUM_LABEL_COLS, RANDOM_SEED\n",
    "from _tenor_lmsc import TEST_SIZE, VALIDATION_SIZE, \\\n",
    "    BANDS, TIME_SLICES, master, lmss, data, target\n",
    "# Note that records are read from pickle, selected, filtered,\n",
    "# and scaled with `sklearn.preprocessing.StandardScaler` \n",
    "# in `_tenor_lmsc.py`."
   ]
  },
  {
   "cell_type": "code",
   "execution_count": 5,
   "metadata": {},
   "outputs": [],
   "source": [
    "x_train, x_test, y_train, y_test = \\\n",
    "     train_test_split(data, target,\n",
    "                      test_size=TEST_SIZE,\n",
    "                      random_state=RANDOM_SEED)"
   ]
  },
  {
   "cell_type": "code",
   "execution_count": 6,
   "metadata": {},
   "outputs": [],
   "source": [
    "# Reshape for input to 2D convolutional layer\n",
    "x_train = x_train.reshape(x_train.shape[0], BANDS, TIME_SLICES, 1)\n",
    "x_test = x_test.reshape(x_test.shape[0], BANDS, TIME_SLICES, 1)"
   ]
  },
  {
   "cell_type": "code",
   "execution_count": 9,
   "metadata": {},
   "outputs": [
    {
     "name": "stdout",
     "output_type": "stream",
     "text": [
      "WARNING:tensorflow:From /Applications/anaconda3/lib/python3.7/site-packages/keras/backend/tensorflow_backend.py:4070: The name tf.nn.max_pool is deprecated. Please use tf.nn.max_pool2d instead.\n",
      "\n"
     ]
    }
   ],
   "source": [
    "dependencies = {\n",
    "    'recall': Recall\n",
    "}\n",
    "\n",
    "fn = './keras_models/tenor_cnn/tenor_cnn_F.h5'\n",
    "model = load_model(fn, custom_objects=dependencies, compile=False)"
   ]
  },
  {
   "cell_type": "code",
   "execution_count": 11,
   "metadata": {},
   "outputs": [
    {
     "name": "stdout",
     "output_type": "stream",
     "text": [
      "WARNING:tensorflow:From /Applications/anaconda3/lib/python3.7/site-packages/keras/backend/tensorflow_backend.py:3172: add_dispatch_support.<locals>.wrapper (from tensorflow.python.ops.array_ops) is deprecated and will be removed in a future version.\n",
      "Instructions for updating:\n",
      "Use tf.where in 2.0, which has the same broadcast rule as np.where\n"
     ]
    }
   ],
   "source": [
    "model.compile(loss='binary_crossentropy', optimizer='adam', \n",
    "              metrics=[Recall(name='recall'), 'accuracy'])"
   ]
  },
  {
   "cell_type": "code",
   "execution_count": 12,
   "metadata": {},
   "outputs": [
    {
     "name": "stdout",
     "output_type": "stream",
     "text": [
      "WARNING:tensorflow:From /Applications/anaconda3/lib/python3.7/site-packages/keras/backend/tensorflow_backend.py:422: The name tf.global_variables is deprecated. Please use tf.compat.v1.global_variables instead.\n",
      "\n",
      "1132/1132 [==============================] - 8s 7ms/step\n",
      "Recall: 95.59\n",
      "Accuracy: 91.96\n"
     ]
    }
   ],
   "source": [
    "# auc, \n",
    "loss, recall, accuracy = model.evaluate(x_test, y_test)\n",
    "# print('AUC: %.2f' % (auc * 100))\n",
    "print('Recall: %.2f' % (recall * 100))\n",
    "print('Accuracy: %.2f' % (accuracy * 100))\n",
    "# @ 3 Epochs\n",
    "# Recall: 83.33\n",
    "# Accuracy: 87.72\n",
    "# @ 6 Epochs\n",
    "# Recall: 94.61\n",
    "# Accuracy: 93.02\n",
    "# @ 12 Epochs\n",
    "# Recall: 95.59\n",
    "# Accuracy: 91.96"
   ]
  },
  {
   "cell_type": "code",
   "execution_count": null,
   "metadata": {},
   "outputs": [],
   "source": []
  }
 ],
 "metadata": {
  "kernelspec": {
   "display_name": "Python 3",
   "language": "python",
   "name": "python3"
  },
  "language_info": {
   "codemirror_mode": {
    "name": "ipython",
    "version": 3
   },
   "file_extension": ".py",
   "mimetype": "text/x-python",
   "name": "python",
   "nbconvert_exporter": "python",
   "pygments_lexer": "ipython3",
   "version": "3.7.8"
  }
 },
 "nbformat": 4,
 "nbformat_minor": 4
}
