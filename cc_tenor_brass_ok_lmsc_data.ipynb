{
 "cells": [
  {
   "cell_type": "code",
   "execution_count": 2,
   "metadata": {},
   "outputs": [],
   "source": [
    "import pandas as pd\n",
    "import numpy as np\n",
    "import matplotlib.pyplot as plt\n",
    "\n",
    "from _common import NUM_LABEL_COLS, RANDOM_SEED\n",
    "from _tenor_lmsc_brass_ok import TEST_SIZE, VALIDATION_SIZE, \\\n",
    "    BANDS, TIME_SLICES, master, lmss, data, target\n",
    "# Note that records are read from pickle, selected, filtered,\n",
    "# and scaled with `sklearn.preprocessing.StandardScaler` \n",
    "# in `_tenor_lmsc_brass_ok.py`."
   ]
  },
  {
   "cell_type": "code",
   "execution_count": 3,
   "metadata": {},
   "outputs": [
    {
     "data": {
      "text/html": [
       "<div>\n",
       "<style scoped>\n",
       "    .dataframe tbody tr th:only-of-type {\n",
       "        vertical-align: middle;\n",
       "    }\n",
       "\n",
       "    .dataframe tbody tr th {\n",
       "        vertical-align: top;\n",
       "    }\n",
       "\n",
       "    .dataframe thead th {\n",
       "        text-align: right;\n",
       "    }\n",
       "</style>\n",
       "<table border=\"1\" class=\"dataframe\">\n",
       "  <thead>\n",
       "    <tr style=\"text-align: right;\">\n",
       "      <th></th>\n",
       "      <th>lmsc_0_0</th>\n",
       "      <th>lmsc_0_1</th>\n",
       "      <th>lmsc_0_2</th>\n",
       "      <th>lmsc_0_3</th>\n",
       "      <th>lmsc_0_4</th>\n",
       "      <th>lmsc_0_5</th>\n",
       "      <th>lmsc_0_6</th>\n",
       "      <th>lmsc_0_7</th>\n",
       "      <th>lmsc_0_8</th>\n",
       "      <th>lmsc_0_9</th>\n",
       "      <th>...</th>\n",
       "      <th>lmsc_95_86</th>\n",
       "      <th>lmsc_95_87</th>\n",
       "      <th>lmsc_95_88</th>\n",
       "      <th>lmsc_95_89</th>\n",
       "      <th>lmsc_95_90</th>\n",
       "      <th>lmsc_95_91</th>\n",
       "      <th>lmsc_95_92</th>\n",
       "      <th>lmsc_95_93</th>\n",
       "      <th>lmsc_95_94</th>\n",
       "      <th>lmsc_95_95</th>\n",
       "    </tr>\n",
       "  </thead>\n",
       "  <tbody>\n",
       "    <tr>\n",
       "      <th>0</th>\n",
       "      <td>1.302535</td>\n",
       "      <td>-1.517711</td>\n",
       "      <td>-6.141066</td>\n",
       "      <td>-0.763948</td>\n",
       "      <td>-2.188402</td>\n",
       "      <td>-10.345848</td>\n",
       "      <td>-0.869337</td>\n",
       "      <td>-4.913575</td>\n",
       "      <td>-0.623508</td>\n",
       "      <td>-1.354669</td>\n",
       "      <td>...</td>\n",
       "      <td>-47.753479</td>\n",
       "      <td>-47.004150</td>\n",
       "      <td>-48.521458</td>\n",
       "      <td>-48.559227</td>\n",
       "      <td>-42.304115</td>\n",
       "      <td>-45.764694</td>\n",
       "      <td>-48.666260</td>\n",
       "      <td>-38.397888</td>\n",
       "      <td>-48.013229</td>\n",
       "      <td>-46.955753</td>\n",
       "    </tr>\n",
       "    <tr>\n",
       "      <th>1</th>\n",
       "      <td>-21.087303</td>\n",
       "      <td>-22.508026</td>\n",
       "      <td>-26.072798</td>\n",
       "      <td>-23.802860</td>\n",
       "      <td>-22.342566</td>\n",
       "      <td>-23.217688</td>\n",
       "      <td>-27.207176</td>\n",
       "      <td>-26.152994</td>\n",
       "      <td>-23.921322</td>\n",
       "      <td>-23.889980</td>\n",
       "      <td>...</td>\n",
       "      <td>-66.836647</td>\n",
       "      <td>-66.836647</td>\n",
       "      <td>-66.836647</td>\n",
       "      <td>-66.836647</td>\n",
       "      <td>-66.836647</td>\n",
       "      <td>-66.836647</td>\n",
       "      <td>-66.836647</td>\n",
       "      <td>-66.836647</td>\n",
       "      <td>-66.836647</td>\n",
       "      <td>-66.836647</td>\n",
       "    </tr>\n",
       "    <tr>\n",
       "      <th>4</th>\n",
       "      <td>-7.683798</td>\n",
       "      <td>-10.430683</td>\n",
       "      <td>-6.277548</td>\n",
       "      <td>-19.258242</td>\n",
       "      <td>4.955707</td>\n",
       "      <td>0.455669</td>\n",
       "      <td>-1.133127</td>\n",
       "      <td>-7.922130</td>\n",
       "      <td>-5.916956</td>\n",
       "      <td>-13.067120</td>\n",
       "      <td>...</td>\n",
       "      <td>-61.141048</td>\n",
       "      <td>-61.141048</td>\n",
       "      <td>-61.141048</td>\n",
       "      <td>-61.141048</td>\n",
       "      <td>-61.141048</td>\n",
       "      <td>-61.141048</td>\n",
       "      <td>-61.141048</td>\n",
       "      <td>-61.141048</td>\n",
       "      <td>-61.141048</td>\n",
       "      <td>-61.141048</td>\n",
       "    </tr>\n",
       "    <tr>\n",
       "      <th>5</th>\n",
       "      <td>-0.273663</td>\n",
       "      <td>-8.352507</td>\n",
       "      <td>-13.731889</td>\n",
       "      <td>0.191296</td>\n",
       "      <td>0.177858</td>\n",
       "      <td>-9.397446</td>\n",
       "      <td>-4.099616</td>\n",
       "      <td>-10.436550</td>\n",
       "      <td>-12.192333</td>\n",
       "      <td>-13.184113</td>\n",
       "      <td>...</td>\n",
       "      <td>-56.158188</td>\n",
       "      <td>-56.158188</td>\n",
       "      <td>-56.158188</td>\n",
       "      <td>-56.158188</td>\n",
       "      <td>-56.158188</td>\n",
       "      <td>-56.158188</td>\n",
       "      <td>-56.158188</td>\n",
       "      <td>-56.158188</td>\n",
       "      <td>-56.158188</td>\n",
       "      <td>-56.158188</td>\n",
       "    </tr>\n",
       "    <tr>\n",
       "      <th>8</th>\n",
       "      <td>2.892120</td>\n",
       "      <td>-18.390614</td>\n",
       "      <td>-7.296602</td>\n",
       "      <td>-4.203867</td>\n",
       "      <td>5.914184</td>\n",
       "      <td>2.309801</td>\n",
       "      <td>-4.366123</td>\n",
       "      <td>3.112412</td>\n",
       "      <td>-5.221383</td>\n",
       "      <td>0.985796</td>\n",
       "      <td>...</td>\n",
       "      <td>-51.250591</td>\n",
       "      <td>-51.250591</td>\n",
       "      <td>-51.250591</td>\n",
       "      <td>-51.250591</td>\n",
       "      <td>-51.250591</td>\n",
       "      <td>-51.250591</td>\n",
       "      <td>-51.250591</td>\n",
       "      <td>-51.250591</td>\n",
       "      <td>-51.250591</td>\n",
       "      <td>-51.250591</td>\n",
       "    </tr>\n",
       "  </tbody>\n",
       "</table>\n",
       "<p>5 rows × 9216 columns</p>\n",
       "</div>"
      ],
      "text/plain": [
       "    lmsc_0_0   lmsc_0_1   lmsc_0_2   lmsc_0_3   lmsc_0_4   lmsc_0_5  \\\n",
       "0   1.302535  -1.517711  -6.141066  -0.763948  -2.188402 -10.345848   \n",
       "1 -21.087303 -22.508026 -26.072798 -23.802860 -22.342566 -23.217688   \n",
       "4  -7.683798 -10.430683  -6.277548 -19.258242   4.955707   0.455669   \n",
       "5  -0.273663  -8.352507 -13.731889   0.191296   0.177858  -9.397446   \n",
       "8   2.892120 -18.390614  -7.296602  -4.203867   5.914184   2.309801   \n",
       "\n",
       "    lmsc_0_6   lmsc_0_7   lmsc_0_8   lmsc_0_9  ...  lmsc_95_86  lmsc_95_87  \\\n",
       "0  -0.869337  -4.913575  -0.623508  -1.354669  ...  -47.753479  -47.004150   \n",
       "1 -27.207176 -26.152994 -23.921322 -23.889980  ...  -66.836647  -66.836647   \n",
       "4  -1.133127  -7.922130  -5.916956 -13.067120  ...  -61.141048  -61.141048   \n",
       "5  -4.099616 -10.436550 -12.192333 -13.184113  ...  -56.158188  -56.158188   \n",
       "8  -4.366123   3.112412  -5.221383   0.985796  ...  -51.250591  -51.250591   \n",
       "\n",
       "   lmsc_95_88  lmsc_95_89  lmsc_95_90  lmsc_95_91  lmsc_95_92  lmsc_95_93  \\\n",
       "0  -48.521458  -48.559227  -42.304115  -45.764694  -48.666260  -38.397888   \n",
       "1  -66.836647  -66.836647  -66.836647  -66.836647  -66.836647  -66.836647   \n",
       "4  -61.141048  -61.141048  -61.141048  -61.141048  -61.141048  -61.141048   \n",
       "5  -56.158188  -56.158188  -56.158188  -56.158188  -56.158188  -56.158188   \n",
       "8  -51.250591  -51.250591  -51.250591  -51.250591  -51.250591  -51.250591   \n",
       "\n",
       "   lmsc_95_94  lmsc_95_95  \n",
       "0  -48.013229  -46.955753  \n",
       "1  -66.836647  -66.836647  \n",
       "4  -61.141048  -61.141048  \n",
       "5  -56.158188  -56.158188  \n",
       "8  -51.250591  -51.250591  \n",
       "\n",
       "[5 rows x 9216 columns]"
      ]
     },
     "execution_count": 3,
     "metadata": {},
     "output_type": "execute_result"
    }
   ],
   "source": [
    "# Just take a quick look at the data\n",
    "lmss.head()"
   ]
  },
  {
   "cell_type": "code",
   "execution_count": 4,
   "metadata": {},
   "outputs": [
    {
     "name": "stdout",
     "output_type": "stream",
     "text": [
      "(6683, 9216)\n",
      "(6683, 9216)\n",
      "(6683,)\n"
     ]
    }
   ],
   "source": [
    "print(lmss.shape)\n",
    "print(data.shape)  # We should have 9,216 = 96 x 96 columns\n",
    "print(target.shape)"
   ]
  },
  {
   "cell_type": "code",
   "execution_count": 5,
   "metadata": {},
   "outputs": [],
   "source": [
    "# Reshape for input to 2D convolutional layer\n",
    "data = data.reshape(data.shape[0], BANDS, TIME_SLICES, 1)"
   ]
  },
  {
   "cell_type": "code",
   "execution_count": 6,
   "metadata": {},
   "outputs": [
    {
     "data": {
      "image/png": "[encoded data removed]",
      "text/plain": [
       "<Figure size 720x720 with 1 Axes>"
      ]
     },
     "metadata": {
      "needs_background": "light"
     },
     "output_type": "display_data"
    }
   ],
   "source": [
    "# Plot one data instance\n",
    "plt.figure(figsize=(10, 10))\n",
    "plt.xlabel(\"Time slice (2,297) samples)\")\n",
    "plt.ylabel(\"Frequency band\")\n",
    "plt.title(\"Log Mel Spectrogram\")\n",
    "# plt.colorbar()\n",
    "plt.imshow(data[77, :, :, 0], aspect=1.0)  \n",
    "# First number in the list ^ is the nth training sample\n",
    "pass"
   ]
  },
  {
   "cell_type": "code",
   "execution_count": 7,
   "metadata": {},
   "outputs": [
    {
     "data": {
      "text/plain": [
       "array([3458, 3225])"
      ]
     },
     "execution_count": 7,
     "metadata": {},
     "output_type": "execute_result"
    }
   ],
   "source": [
    "target = target.astype(np.int)\n",
    "np.bincount(target)"
   ]
  },
  {
   "cell_type": "code",
   "execution_count": null,
   "metadata": {},
   "outputs": [],
   "source": []
  }
 ],
 "metadata": {
  "kernelspec": {
   "display_name": "Python 3",
   "language": "python",
   "name": "python3"
  },
  "language_info": {
   "codemirror_mode": {
    "name": "ipython",
    "version": 3
   },
   "file_extension": ".py",
   "mimetype": "text/x-python",
   "name": "python",
   "nbconvert_exporter": "python",
   "pygments_lexer": "ipython3",
   "version": "3.7.8"
  }
 },
 "nbformat": 4,
 "nbformat_minor": 4
}
