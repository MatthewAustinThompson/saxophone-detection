{
 "cells": [
  {
   "cell_type": "markdown",
   "metadata": {},
   "source": [
    "# Testing Tenor Log Mel Spectrogram with Convolutional Neural Network\n",
    "\n",
    "Here we test a convolutional neural network on log Mel spectrogram data extracted from our WAV samles. Each log Mel spectrogram has 96 x 96 = 9,216 features, where 96 is the number of frequency bands, and 96 is the number of time slices (collections of 2,297 raw samples). So this is a lot of data.\n",
    "\n",
    "Upstream from this notebook we extracted these features and saved them as pickles, then we read all the pickles and aggregated them into a Pandas DataFrame, again saved as a pickle. Finally, with the imported `_tenor_lms` (below) we read from this pickle, filter and reshape the data as needed, and then we scale data using `sklearn.preprocessing.StandardScaler`. At this point, data are ready to read into our notebook.\n",
    "\n",
    "In this notebook we define, train, and test a CNN with these log Mel spectrogram data as input."
   ]
  },
  {
   "cell_type": "code",
   "execution_count": 27,
   "metadata": {
    "scrolled": true
   },
   "outputs": [],
   "source": [
    "import os\n",
    "import time\n",
    "\n",
    "import pandas as pd\n",
    "import matplotlib.pyplot as plt\n",
    "from keras.callbacks import TensorBoard, EarlyStopping\n",
    "from keras.models import Sequential\n",
    "from keras.layers import Dense, Flatten, Dropout, \\\n",
    "    Conv2D, MaxPooling2D, GlobalMaxPooling2D, LeakyReLU\n",
    "from keras.metrics import AUC, Recall\n",
    "# from keras.initializers import GlorotUniform\n",
    "from keras.optimizers import Adam\n",
    "from sklearn.model_selection import train_test_split\n",
    "from sklearn.preprocessing import StandardScaler\n",
    "\n",
    "from _common import NUM_LABEL_COLS, RANDOM_SEED\n",
    "from _tenor_lmsc import TEST_SIZE, VALIDATION_SIZE, \\\n",
    "    BANDS, TIME_SLICES, master, lmss, data, target\n",
    "# Note that records are read from pickle, selected, filtered,\n",
    "# and scaled with `sklearn.preprocessing.StandardScaler` \n",
    "# in `_tenor_lmsc.py`."
   ]
  },
  {
   "cell_type": "code",
   "execution_count": 6,
   "metadata": {},
   "outputs": [],
   "source": [
    "x_train, x_test, y_train, y_test = \\\n",
    "     train_test_split(data, target,\n",
    "                      test_size=TEST_SIZE,\n",
    "                      random_state=RANDOM_SEED)"
   ]
  },
  {
   "cell_type": "code",
   "execution_count": 7,
   "metadata": {},
   "outputs": [],
   "source": [
    "# Reshape for input to 2D convolutional layer\n",
    "x_train = x_train.reshape(x_train.shape[0], BANDS, TIME_SLICES, 1)\n",
    "x_test = x_test.reshape(x_test.shape[0], BANDS, TIME_SLICES, 1)"
   ]
  },
  {
   "cell_type": "markdown",
   "metadata": {},
   "source": [
    "# Train the CNN\n",
    "This may take between 5 and 7 minutes per epoch"
   ]
  },
  {
   "cell_type": "markdown",
   "metadata": {},
   "source": [
    "# HAN et al."
   ]
  },
  {
   "cell_type": "code",
   "execution_count": 28,
   "metadata": {},
   "outputs": [
    {
     "name": "stdout",
     "output_type": "stream",
     "text": [
      "Train on 3620 samples, validate on 906 samples\n",
      "Epoch 1/24\n",
      "3620/3620 [==============================] - 72s 20ms/step - loss: 0.4887 - recall: 0.7764 - accuracy: 0.7696 - val_loss: 0.3652 - val_recall: 0.8172 - val_accuracy: 0.8675\n",
      "Epoch 2/24\n",
      "3620/3620 [==============================] - 69s 19ms/step - loss: 0.3400 - recall: 0.8467 - accuracy: 0.8622 - val_loss: 0.2790 - val_recall: 0.9446 - val_accuracy: 0.8863\n",
      "Epoch 3/24\n",
      "3620/3620 [==============================] - 73s 20ms/step - loss: 0.2916 - recall: 0.8853 - accuracy: 0.8876 - val_loss: 0.2341 - val_recall: 0.8624 - val_accuracy: 0.9172\n",
      "Epoch 4/24\n",
      "3620/3620 [==============================] - 72s 20ms/step - loss: 0.2369 - recall: 0.9160 - accuracy: 0.9149 - val_loss: 0.2127 - val_recall: 0.9343 - val_accuracy: 0.9305\n",
      "Epoch 5/24\n",
      "3620/3620 [==============================] - 72s 20ms/step - loss: 0.2236 - recall: 0.9202 - accuracy: 0.9196 - val_loss: 0.1705 - val_recall: 0.9425 - val_accuracy: 0.9404\n"
     ]
    }
   ],
   "source": [
    "NUM_EPOCHS = 24\n",
    "BATCH_SIZE = 32\n",
    "INPUT_SHAPE = (BANDS, TIME_SLICES, 1)\n",
    "\n",
    "# See: https://keras.io/api/callbacks/early_stopping/\n",
    "early_stopping = EarlyStopping(monitor='val_recall', patience=4)\n",
    "\n",
    "model = Sequential()\n",
    "model.add(Conv2D(32, kernel_size=(3, 3), input_shape=INPUT_SHAPE))\n",
    "model.add(LeakyReLU(alpha=0.1))\n",
    "model.add(Conv2D(32, kernel_size=(3, 3)))\n",
    "model.add(LeakyReLU(alpha=0.1))\n",
    "model.add(MaxPooling2D(pool_size=(3, 3)))\n",
    "model.add(Dropout(0.25))\n",
    "model.add(Conv2D(64, kernel_size=(3, 3)))\n",
    "model.add(LeakyReLU(alpha=0.1))\n",
    "model.add(Conv2D(64, kernel_size=(3, 3)))\n",
    "model.add(LeakyReLU(alpha=0.1))\n",
    "model.add(MaxPooling2D(pool_size=(3, 3)))\n",
    "model.add(Dropout(0.25))\n",
    "model.add(Conv2D(128, kernel_size=(3, 3)))\n",
    "model.add(LeakyReLU(alpha=0.1))\n",
    "model.add(Conv2D(128, kernel_size=(3, 3)))\n",
    "model.add(LeakyReLU(alpha=0.1))\n",
    "model.add(MaxPooling2D(pool_size=(3, 3)))\n",
    "# model.add(Dropout(0.25))\n",
    "# model.add(Conv2D(256, kernel_size=(3, 3), activation=\"relu\"))\n",
    "# model.add(Conv2D(256, kernel_size=(3, 3), activation=\"relu\"))\n",
    "model.add(GlobalMaxPooling2D())\n",
    "model.add(Dense(1024))\n",
    "model.add(LeakyReLU(alpha=0.1))\n",
    "model.add(Dropout(0.5))\n",
    "model.add(Dense(1, activation='sigmoid'))\n",
    "\n",
    "model.compile(loss='binary_crossentropy', optimizer='adam', \n",
    "              metrics=[Recall(name='recall'), 'accuracy'])  # , AUC(name='auc')\n",
    "history = model.fit(x_train, y_train, epochs=NUM_EPOCHS, \n",
    "                    batch_size=BATCH_SIZE, \n",
    "                    validation_split=VALIDATION_SIZE,\n",
    "                    callbacks=[early_stopping])  # tensorboard_cb, "
   ]
  },
  {
   "cell_type": "code",
   "execution_count": 29,
   "metadata": {},
   "outputs": [
    {
     "name": "stdout",
     "output_type": "stream",
     "text": [
      "1132/1132 [==============================] - 4s 4ms/step\n",
      "Recall: 95.10\n",
      "Accuracy: 93.64\n"
     ]
    }
   ],
   "source": [
    "loss, recall, accuracy = model.evaluate(x_test, y_test)\n",
    "print('Recall: %.2f' % (recall * 100))\n",
    "print('Accuracy: %.2f' % (accuracy * 100))\n",
    "# Recall: 95.59\n",
    "# Accuracy: 93.64\n",
    "\n",
    "# Recall: 95.10\n",
    "# Accuracy: 93.64"
   ]
  },
  {
   "cell_type": "code",
   "execution_count": 30,
   "metadata": {},
   "outputs": [
    {
     "data": {
      "image/png": "[encoded data removed]",
      "text/plain": [
       "<Figure size 720x504 with 1 Axes>"
      ]
     },
     "metadata": {
      "needs_background": "light"
     },
     "output_type": "display_data"
    }
   ],
   "source": [
    "# history is a keras.callbacks.callbacks.History object\n",
    "pd.DataFrame(history.history).plot(figsize=(10, 7))\n",
    "plt.grid(True)\n",
    "plt.gca().set_ylim(0, 1)\n",
    "plt.show()"
   ]
  },
  {
   "cell_type": "code",
   "execution_count": 47,
   "metadata": {},
   "outputs": [
    {
     "name": "stdout",
     "output_type": "stream",
     "text": [
      "Model: \"sequential_11\"\n",
      "_________________________________________________________________\n",
      "Layer (type)                 Output Shape              Param #   \n",
      "=================================================================\n",
      "conv2d_38 (Conv2D)           (None, 95, 95, 128)       640       \n",
      "_________________________________________________________________\n",
      "leaky_re_lu_19 (LeakyReLU)   (None, 95, 95, 128)       0         \n",
      "_________________________________________________________________\n",
      "max_pooling2d_29 (MaxPooling (None, 47, 47, 128)       0         \n",
      "_________________________________________________________________\n",
      "conv2d_39 (Conv2D)           (None, 46, 46, 128)       65664     \n",
      "_________________________________________________________________\n",
      "leaky_re_lu_20 (LeakyReLU)   (None, 46, 46, 128)       0         \n",
      "_________________________________________________________________\n",
      "max_pooling2d_30 (MaxPooling (None, 23, 23, 128)       0         \n",
      "_________________________________________________________________\n",
      "conv2d_40 (Conv2D)           (None, 21, 21, 128)       147584    \n",
      "_________________________________________________________________\n",
      "leaky_re_lu_21 (LeakyReLU)   (None, 21, 21, 128)       0         \n",
      "_________________________________________________________________\n",
      "max_pooling2d_31 (MaxPooling (None, 10, 10, 128)       0         \n",
      "_________________________________________________________________\n",
      "conv2d_41 (Conv2D)           (None, 8, 8, 128)         147584    \n",
      "_________________________________________________________________\n",
      "leaky_re_lu_22 (LeakyReLU)   (None, 8, 8, 128)         0         \n",
      "_________________________________________________________________\n",
      "max_pooling2d_32 (MaxPooling (None, 4, 4, 128)         0         \n",
      "_________________________________________________________________\n",
      "dropout_28 (Dropout)         (None, 4, 4, 128)         0         \n",
      "_________________________________________________________________\n",
      "flatten_10 (Flatten)         (None, 2048)              0         \n",
      "_________________________________________________________________\n",
      "dense_28 (Dense)             (None, 128)               262272    \n",
      "_________________________________________________________________\n",
      "leaky_re_lu_23 (LeakyReLU)   (None, 128)               0         \n",
      "_________________________________________________________________\n",
      "dropout_29 (Dropout)         (None, 128)               0         \n",
      "_________________________________________________________________\n",
      "dense_29 (Dense)             (None, 64)                8256      \n",
      "_________________________________________________________________\n",
      "leaky_re_lu_24 (LeakyReLU)   (None, 64)                0         \n",
      "_________________________________________________________________\n",
      "dropout_30 (Dropout)         (None, 64)                0         \n",
      "_________________________________________________________________\n",
      "dense_30 (Dense)             (None, 1)                 65        \n",
      "=================================================================\n",
      "Total params: 632,065\n",
      "Trainable params: 632,065\n",
      "Non-trainable params: 0\n",
      "_________________________________________________________________\n"
     ]
    }
   ],
   "source": [
    "model.summary()"
   ]
  },
  {
   "cell_type": "code",
   "execution_count": 48,
   "metadata": {},
   "outputs": [],
   "source": [
    "model.save('./keras_models/tenor_cnn/tenor_cnn_G.h5')"
   ]
  },
  {
   "cell_type": "markdown",
   "metadata": {},
   "source": [
    "# Model H"
   ]
  },
  {
   "cell_type": "code",
   "execution_count": 49,
   "metadata": {},
   "outputs": [
    {
     "name": "stdout",
     "output_type": "stream",
     "text": [
      "Train on 3620 samples, validate on 906 samples\n",
      "Epoch 1/24\n",
      "3620/3620 [==============================] - 129s 36ms/step - loss: 0.5353 - recall: 0.7405 - accuracy: 0.7489 - val_loss: 0.4104 - val_recall: 0.8809 - val_accuracy: 0.8753\n",
      "Epoch 2/24\n",
      "3620/3620 [==============================] - 121s 34ms/step - loss: 0.3903 - recall: 0.8298 - accuracy: 0.8459 - val_loss: 0.3173 - val_recall: 0.9466 - val_accuracy: 0.8808\n",
      "Epoch 3/24\n",
      "3620/3620 [==============================] - 121s 33ms/step - loss: 0.3225 - recall: 0.8716 - accuracy: 0.8721 - val_loss: 0.2093 - val_recall: 0.9158 - val_accuracy: 0.9183\n",
      "Epoch 4/24\n",
      "3620/3620 [==============================] - 124s 34ms/step - loss: 0.2546 - recall: 0.8959 - accuracy: 0.9044 - val_loss: 0.2144 - val_recall: 0.8912 - val_accuracy: 0.9238\n",
      "Epoch 5/24\n",
      "3620/3620 [==============================] - 127s 35ms/step - loss: 0.1971 - recall: 0.9234 - accuracy: 0.9257 - val_loss: 0.2487 - val_recall: 0.8953 - val_accuracy: 0.9183\n"
     ]
    }
   ],
   "source": [
    "NUM_EPOCHS = 24\n",
    "BATCH_SIZE = 32\n",
    "INPUT_SHAPE = (BANDS, TIME_SLICES, 1)\n",
    "\n",
    "# See: https://keras.io/api/callbacks/early_stopping/\n",
    "early_stopping = EarlyStopping(monitor='val_recall', patience=4)\n",
    "\n",
    "model = Sequential()\n",
    "model.add(Conv2D(128, kernel_size=(2, 2), input_shape=INPUT_SHAPE))\n",
    "model.add(LeakyReLU(alpha=0.1))\n",
    "model.add(MaxPooling2D(pool_size=(2, 2)))  \n",
    "model.add(Conv2D(128, kernel_size=(2, 2)))\n",
    "model.add(LeakyReLU(alpha=0.1))\n",
    "model.add(MaxPooling2D(pool_size=(2, 2)))  \n",
    "model.add(Conv2D(128, kernel_size=(3, 3)))\n",
    "model.add(LeakyReLU(alpha=0.1))  \n",
    "model.add(MaxPooling2D(pool_size=(2, 2)))  \n",
    "model.add(Conv2D(128, kernel_size=(3, 3)))\n",
    "model.add(LeakyReLU(alpha=0.1))\n",
    "model.add(MaxPooling2D(pool_size=(2, 2)))\n",
    "model.add(Dropout(0.25))\n",
    "model.add(Flatten())\n",
    "model.add(Dense(128))\n",
    "model.add(LeakyReLU(alpha=0.1))\n",
    "model.add(Dropout(0.4))\n",
    "model.add(Dense(64))\n",
    "model.add(LeakyReLU(alpha=0.1))\n",
    "model.add(Dropout(0.4))\n",
    "model.add(Dense(1, activation='sigmoid'))\n",
    "\n",
    "model.compile(loss='binary_crossentropy', optimizer='adam', \n",
    "              metrics=[Recall(name='recall'), 'accuracy'])  # , AUC(name='auc')\n",
    "history = model.fit(x_train, y_train, epochs=NUM_EPOCHS, \n",
    "                    batch_size=BATCH_SIZE, \n",
    "                    validation_split=VALIDATION_SIZE,\n",
    "                    callbacks=[early_stopping])  # tensorboard_cb, "
   ]
  },
  {
   "cell_type": "code",
   "execution_count": 51,
   "metadata": {},
   "outputs": [
    {
     "name": "stdout",
     "output_type": "stream",
     "text": [
      "1132/1132 [==============================] - 10s 9ms/step\n",
      "Recall: 90.36\n",
      "Accuracy: 92.31\n"
     ]
    }
   ],
   "source": [
    "loss, recall, accuracy = model.evaluate(x_test, y_test)\n",
    "print('Recall: %.2f' % (recall * 100))\n",
    "print('Accuracy: %.2f' % (accuracy * 100))\n",
    "# Recall: 95.59\n",
    "# Accuracy: 93.64"
   ]
  },
  {
   "cell_type": "code",
   "execution_count": null,
   "metadata": {},
   "outputs": [],
   "source": []
  }
 ],
 "metadata": {
  "kernelspec": {
   "display_name": "Python 3",
   "language": "python",
   "name": "python3"
  },
  "language_info": {
   "codemirror_mode": {
    "name": "ipython",
    "version": 3
   },
   "file_extension": ".py",
   "mimetype": "text/x-python",
   "name": "python",
   "nbconvert_exporter": "python",
   "pygments_lexer": "ipython3",
   "version": "3.7.8"
  }
 },
 "nbformat": 4,
 "nbformat_minor": 4
}
