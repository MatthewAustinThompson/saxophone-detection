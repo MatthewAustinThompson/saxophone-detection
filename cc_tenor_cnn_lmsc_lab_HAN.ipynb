{
 "cells": [
  {
   "cell_type": "markdown",
   "metadata": {},
   "source": [
    "# Testing Tenor Log Mel Spectrogram with Convolutional Neural Network\n",
    "\n",
    "Here we test a convolutional neural network on log Mel spectrogram data extracted from our WAV samles. Each log Mel spectrogram has 96 x 96 = 9,216 features, where 96 is the number of frequency bands, and 96 is the number of time slices (collections of 2,297 raw samples). So this is a lot of data.\n",
    "\n",
    "Upstream from this notebook we extracted these features and saved them as pickles, then we read all the pickles and aggregated them into a Pandas DataFrame, again saved as a pickle. Finally, with the imported `_tenor_lms` (below) we read from this pickle, filter and reshape the data as needed, and then we scale data using `sklearn.preprocessing.StandardScaler`. At this point, data are ready to read into our notebook.\n",
    "\n",
    "In this notebook we define, train, and test a CNN with these log Mel spectrogram data as input."
   ]
  },
  {
   "cell_type": "code",
   "execution_count": 3,
   "metadata": {
    "scrolled": true
   },
   "outputs": [],
   "source": [
    "import os\n",
    "import time\n",
    "\n",
    "import pandas as pd\n",
    "import matplotlib.pyplot as plt\n",
    "from keras.callbacks import TensorBoard, EarlyStopping\n",
    "from keras.models import Sequential\n",
    "from keras.layers import Dense, Flatten, Dropout, \\\n",
    "    Conv2D, MaxPooling2D, GlobalMaxPooling2D, LeakyReLU\n",
    "from keras.metrics import AUC, Recall\n",
    "# from keras.initializers import GlorotUniform\n",
    "from keras.optimizers import Adam\n",
    "from sklearn.model_selection import train_test_split\n",
    "from sklearn.preprocessing import StandardScaler\n",
    "\n",
    "from _common import NUM_LABEL_COLS, RANDOM_SEED\n",
    "from _tenor_lmsc import TEST_SIZE, VALIDATION_SIZE, \\\n",
    "    BANDS, TIME_SLICES, master, lmss, data, target\n",
    "# Note that records are read from pickle, selected, filtered,\n",
    "# and scaled with `sklearn.preprocessing.StandardScaler` \n",
    "# in `_tenor_lmsc.py`."
   ]
  },
  {
   "cell_type": "code",
   "execution_count": 4,
   "metadata": {},
   "outputs": [],
   "source": [
    "x_train, x_test, y_train, y_test = \\\n",
    "     train_test_split(data, target,\n",
    "                      test_size=TEST_SIZE,\n",
    "                      random_state=RANDOM_SEED)"
   ]
  },
  {
   "cell_type": "code",
   "execution_count": 5,
   "metadata": {},
   "outputs": [],
   "source": [
    "# Reshape for input to 2D convolutional layer\n",
    "x_train = x_train.reshape(x_train.shape[0], BANDS, TIME_SLICES, 1)\n",
    "x_test = x_test.reshape(x_test.shape[0], BANDS, TIME_SLICES, 1)"
   ]
  },
  {
   "cell_type": "markdown",
   "metadata": {},
   "source": [
    "# Train the CNN\n",
    "This may take between 5 and 7 minutes per epoch"
   ]
  },
  {
   "cell_type": "markdown",
   "metadata": {},
   "source": [
    "# HAN et al. adapted for our data"
   ]
  },
  {
   "cell_type": "code",
   "execution_count": 11,
   "metadata": {},
   "outputs": [
    {
     "name": "stdout",
     "output_type": "stream",
     "text": [
      "Train on 3620 samples, validate on 906 samples\n",
      "Epoch 1/24\n",
      "3620/3620 [==============================] - 71s 20ms/step - loss: 0.4965 - recall: 0.7764 - accuracy: 0.7652 - val_loss: 0.3790 - val_recall: 0.9117 - val_accuracy: 0.8333\n",
      "Epoch 2/24\n",
      "3620/3620 [==============================] - 68s 19ms/step - loss: 0.3486 - recall: 0.8494 - accuracy: 0.8575 - val_loss: 0.2424 - val_recall: 0.8542 - val_accuracy: 0.9128\n",
      "Epoch 3/24\n",
      "3620/3620 [==============================] - 67s 18ms/step - loss: 0.2512 - recall: 0.8953 - accuracy: 0.9050 - val_loss: 0.2615 - val_recall: 0.8563 - val_accuracy: 0.9117\n",
      "Epoch 4/24\n",
      "3620/3620 [==============================] - 68s 19ms/step - loss: 0.2275 - recall: 0.9101 - accuracy: 0.9122 - val_loss: 0.2025 - val_recall: 0.8912 - val_accuracy: 0.9260\n",
      "Epoch 5/24\n",
      "3620/3620 [==============================] - 67s 19ms/step - loss: 0.2162 - recall: 0.9218 - accuracy: 0.9180 - val_loss: 0.1877 - val_recall: 0.9199 - val_accuracy: 0.9316\n",
      "Epoch 6/24\n",
      "3620/3620 [==============================] - 67s 19ms/step - loss: 0.1846 - recall: 0.9413 - accuracy: 0.9392 - val_loss: 0.1553 - val_recall: 0.9507 - val_accuracy: 0.9536\n"
     ]
    }
   ],
   "source": [
    "NUM_EPOCHS = 24\n",
    "BATCH_SIZE = 32\n",
    "INPUT_SHAPE = (BANDS, TIME_SLICES, 1)\n",
    "\n",
    "# See: https://keras.io/api/callbacks/early_stopping/\n",
    "early_stopping = EarlyStopping(monitor='val_recall', patience=4)\n",
    "\n",
    "model = Sequential()\n",
    "model.add(Conv2D(32, kernel_size=(3, 3), input_shape=INPUT_SHAPE))\n",
    "model.add(LeakyReLU(alpha=0.1))\n",
    "model.add(Conv2D(32, kernel_size=(3, 3)))\n",
    "model.add(LeakyReLU(alpha=0.1))\n",
    "model.add(MaxPooling2D(pool_size=(3, 3)))\n",
    "model.add(Dropout(0.25))\n",
    "model.add(Conv2D(64, kernel_size=(3, 3)))\n",
    "model.add(LeakyReLU(alpha=0.1))\n",
    "model.add(Conv2D(64, kernel_size=(3, 3)))\n",
    "model.add(LeakyReLU(alpha=0.1))\n",
    "model.add(MaxPooling2D(pool_size=(3, 3)))\n",
    "model.add(Dropout(0.25))\n",
    "model.add(Conv2D(128, kernel_size=(3, 3)))\n",
    "model.add(LeakyReLU(alpha=0.1))\n",
    "model.add(Conv2D(128, kernel_size=(3, 3)))\n",
    "model.add(LeakyReLU(alpha=0.1))\n",
    "model.add(MaxPooling2D(pool_size=(3, 3)))\n",
    "# model.add(Dropout(0.25))\n",
    "# model.add(Conv2D(256, kernel_size=(3, 3), activation=\"relu\"))\n",
    "# model.add(Conv2D(256, kernel_size=(3, 3), activation=\"relu\"))\n",
    "model.add(GlobalMaxPooling2D())\n",
    "model.add(Dense(1024))\n",
    "model.add(LeakyReLU(alpha=0.1))\n",
    "model.add(Dropout(0.5))\n",
    "model.add(Dense(1, activation='sigmoid'))\n",
    "\n",
    "model.compile(loss='binary_crossentropy', optimizer='adam', \n",
    "              metrics=[Recall(name='recall'), 'accuracy'])  # , AUC(name='auc')\n",
    "history = model.fit(x_train, y_train, epochs=NUM_EPOCHS, \n",
    "                    batch_size=BATCH_SIZE, \n",
    "                    validation_split=VALIDATION_SIZE,\n",
    "                    callbacks=[early_stopping])  # tensorboard_cb, "
   ]
  },
  {
   "cell_type": "code",
   "execution_count": 12,
   "metadata": {},
   "outputs": [
    {
     "name": "stdout",
     "output_type": "stream",
     "text": [
      "1132/1132 [==============================] - 4s 4ms/step\n",
      "Recall: 96.08\n",
      "Accuracy: 95.05\n"
     ]
    }
   ],
   "source": [
    "loss, recall, accuracy = model.evaluate(x_test, y_test)\n",
    "print('Recall: %.2f' % (recall * 100))\n",
    "print('Accuracy: %.2f' % (accuracy * 100))\n",
    "# Recall: 95.59 MODEL H\n",
    "# Accuracy: 93.64 MODEL H\n",
    "\n",
    "# Recall: 96.08 HAN\n",
    "# Accuracy: 95.05 HAN"
   ]
  },
  {
   "cell_type": "code",
   "execution_count": 13,
   "metadata": {},
   "outputs": [
    {
     "data": {
      "image/png": "[encoded data removed]",
      "text/plain": [
       "<Figure size 720x504 with 1 Axes>"
      ]
     },
     "metadata": {
      "needs_background": "light"
     },
     "output_type": "display_data"
    }
   ],
   "source": [
    "# history is a keras.callbacks.callbacks.History object\n",
    "pd.DataFrame(history.history).plot(figsize=(10, 7))\n",
    "plt.grid(True)\n",
    "plt.gca().set_ylim(0, 1)\n",
    "plt.show()"
   ]
  },
  {
   "cell_type": "code",
   "execution_count": 14,
   "metadata": {},
   "outputs": [
    {
     "name": "stdout",
     "output_type": "stream",
     "text": [
      "Model: \"sequential_2\"\n",
      "_________________________________________________________________\n",
      "Layer (type)                 Output Shape              Param #   \n",
      "=================================================================\n",
      "conv2d_7 (Conv2D)            (None, 94, 94, 32)        320       \n",
      "_________________________________________________________________\n",
      "leaky_re_lu_8 (LeakyReLU)    (None, 94, 94, 32)        0         \n",
      "_________________________________________________________________\n",
      "conv2d_8 (Conv2D)            (None, 92, 92, 32)        9248      \n",
      "_________________________________________________________________\n",
      "leaky_re_lu_9 (LeakyReLU)    (None, 92, 92, 32)        0         \n",
      "_________________________________________________________________\n",
      "max_pooling2d_4 (MaxPooling2 (None, 30, 30, 32)        0         \n",
      "_________________________________________________________________\n",
      "dropout_4 (Dropout)          (None, 30, 30, 32)        0         \n",
      "_________________________________________________________________\n",
      "conv2d_9 (Conv2D)            (None, 28, 28, 64)        18496     \n",
      "_________________________________________________________________\n",
      "leaky_re_lu_10 (LeakyReLU)   (None, 28, 28, 64)        0         \n",
      "_________________________________________________________________\n",
      "conv2d_10 (Conv2D)           (None, 26, 26, 64)        36928     \n",
      "_________________________________________________________________\n",
      "leaky_re_lu_11 (LeakyReLU)   (None, 26, 26, 64)        0         \n",
      "_________________________________________________________________\n",
      "max_pooling2d_5 (MaxPooling2 (None, 8, 8, 64)          0         \n",
      "_________________________________________________________________\n",
      "dropout_5 (Dropout)          (None, 8, 8, 64)          0         \n",
      "_________________________________________________________________\n",
      "conv2d_11 (Conv2D)           (None, 6, 6, 128)         73856     \n",
      "_________________________________________________________________\n",
      "leaky_re_lu_12 (LeakyReLU)   (None, 6, 6, 128)         0         \n",
      "_________________________________________________________________\n",
      "conv2d_12 (Conv2D)           (None, 4, 4, 128)         147584    \n",
      "_________________________________________________________________\n",
      "leaky_re_lu_13 (LeakyReLU)   (None, 4, 4, 128)         0         \n",
      "_________________________________________________________________\n",
      "max_pooling2d_6 (MaxPooling2 (None, 1, 1, 128)         0         \n",
      "_________________________________________________________________\n",
      "global_max_pooling2d_2 (Glob (None, 128)               0         \n",
      "_________________________________________________________________\n",
      "dense_3 (Dense)              (None, 1024)              132096    \n",
      "_________________________________________________________________\n",
      "leaky_re_lu_14 (LeakyReLU)   (None, 1024)              0         \n",
      "_________________________________________________________________\n",
      "dropout_6 (Dropout)          (None, 1024)              0         \n",
      "_________________________________________________________________\n",
      "dense_4 (Dense)              (None, 1)                 1025      \n",
      "=================================================================\n",
      "Total params: 419,553\n",
      "Trainable params: 419,553\n",
      "Non-trainable params: 0\n",
      "_________________________________________________________________\n"
     ]
    }
   ],
   "source": [
    "model.summary()"
   ]
  },
  {
   "cell_type": "code",
   "execution_count": 15,
   "metadata": {},
   "outputs": [],
   "source": [
    "model.save('./keras_models/tenor_cnn/tenor_cnn_HAN.h5')"
   ]
  },
  {
   "cell_type": "code",
   "execution_count": null,
   "metadata": {},
   "outputs": [],
   "source": []
  }
 ],
 "metadata": {
  "kernelspec": {
   "display_name": "Python 3",
   "language": "python",
   "name": "python3"
  },
  "language_info": {
   "codemirror_mode": {
    "name": "ipython",
    "version": 3
   },
   "file_extension": ".py",
   "mimetype": "text/x-python",
   "name": "python",
   "nbconvert_exporter": "python",
   "pygments_lexer": "ipython3",
   "version": "3.7.8"
  }
 },
 "nbformat": 4,
 "nbformat_minor": 4
}
