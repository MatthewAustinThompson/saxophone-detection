{
 "cells": [
  {
   "cell_type": "markdown",
   "metadata": {},
   "source": [
    "# Tenor saxophone\n",
    "\n",
    "* Sample duration = 5s\n",
    "* model = ANN\n",
    "* target = TENOR\n",
    "\n",
    "Distinguish between samples with tenor saxophone from those without tenor saxophone. Other brass and (most) woodwind instruments excluded."
   ]
  },
  {
   "cell_type": "code",
   "execution_count": 2,
   "metadata": {},
   "outputs": [],
   "source": [
    "import numpy as np\n",
    "import pandas as pd\n",
    "import matplotlib.pyplot as plt\n",
    "from sklearn.decomposition import PCA \n",
    "from sklearn.metrics import confusion_matrix, classification_report\n",
    "from sklearn.model_selection import train_test_split\n",
    "from sklearn.preprocessing import StandardScaler\n",
    "from keras.models import Sequential\n",
    "from keras.layers import Dense, Dropout\n",
    "from keras.metrics import AUC, Recall\n",
    "from keras.losses import Hinge\n",
    "\n",
    "from pickles_to_pandas import pickles_to_pandas"
   ]
  },
  {
   "cell_type": "code",
   "execution_count": 3,
   "metadata": {},
   "outputs": [],
   "source": [
    "NUM_LABEL_COLS = 13\n",
    "NUM_COMPONENTS = 30"
   ]
  },
  {
   "cell_type": "code",
   "execution_count": 4,
   "metadata": {},
   "outputs": [],
   "source": [
    "df = pickles_to_pandas('./data/5s/labeled/features_r02')"
   ]
  },
  {
   "cell_type": "code",
   "execution_count": 5,
   "metadata": {},
   "outputs": [
    {
     "data": {
      "text/plain": [
       "(5411, 10790)"
      ]
     },
     "execution_count": 5,
     "metadata": {},
     "output_type": "execute_result"
    }
   ],
   "source": [
    "df_filtered = df[df['excl'] == '0']  # exclude records we want to exclude\n",
    "df_filtered.shape"
   ]
  },
  {
   "cell_type": "code",
   "execution_count": 6,
   "metadata": {},
   "outputs": [
    {
     "name": "stdout",
     "output_type": "stream",
     "text": [
      "(3483, 10775)\n",
      "(3483,)\n"
     ]
    }
   ],
   "source": [
    "# exclude records we want to exclude\n",
    "df_filtered = df_filtered[df_filtered['alto'] == '0']  \n",
    "df_filtered = df_filtered[df_filtered['sop'] == '0']\n",
    "df_filtered = df_filtered[df_filtered['bari'] == '0']\n",
    "df_filtered = df_filtered[df_filtered['clrt'] == '0']\n",
    "df_filtered = df_filtered[df_filtered['tora'] == '0']\n",
    "df_filtered = df_filtered[df_filtered['othr'] == '0']\n",
    "df_filtered = df_filtered[df_filtered['trmp'] == '0']\n",
    "df_filtered = df_filtered[df_filtered['trmb'] == '0']\n",
    "df_filtered = df_filtered[df_filtered['otrb'] == '0']\n",
    "\n",
    "num_x_cols = df_filtered.shape[1] - NUM_LABEL_COLS - 1  \n",
    "# last bit to adjust for zero indexing\n",
    "data = df_filtered.iloc[:, 1:num_x_cols].to_numpy() \n",
    "# ^ these are the features\n",
    "scaler = StandardScaler()\n",
    "scaler.fit(data)\n",
    "data = scaler.transform(data)\n",
    "\n",
    "target = df_filtered[['tenr']].to_numpy().ravel()  \n",
    "# ^ these are the labels\n",
    "\n",
    "print(data.shape)\n",
    "print(target.shape)"
   ]
  },
  {
   "cell_type": "markdown",
   "metadata": {},
   "source": [
    "### Use PCA to reduce number of features"
   ]
  },
  {
   "cell_type": "code",
   "execution_count": 7,
   "metadata": {},
   "outputs": [],
   "source": [
    "pca = PCA(n_components=NUM_COMPONENTS)\n",
    "pca.fit(data)\n",
    "d = pca.transform(data)"
   ]
  },
  {
   "cell_type": "markdown",
   "metadata": {},
   "source": [
    "### Generate train, test and validation sets"
   ]
  },
  {
   "cell_type": "code",
   "execution_count": 8,
   "metadata": {},
   "outputs": [
    {
     "name": "stdout",
     "output_type": "stream",
     "text": [
      "(2786,)\n",
      "(697,)\n",
      "348\n",
      "(2786, 30)\n",
      "(348, 30)\n",
      "(349, 30)\n"
     ]
    }
   ],
   "source": [
    "x_train, x_test, y_train, y_test = \\\n",
    "     train_test_split(d, target, test_size=0.2, random_state=0)\n",
    "print(y_train.shape)\n",
    "print(y_test.shape)\n",
    "split_index = y_test.shape[0] // 2\n",
    "print(split_index)\n",
    "x_validate = x_test[0:split_index]\n",
    "y_validate = y_test[0:split_index]\n",
    "x_test = x_test[split_index:]\n",
    "y_test = y_test[split_index:]\n",
    "print(x_train.shape)\n",
    "print(x_validate.shape)\n",
    "print(x_test.shape)"
   ]
  },
  {
   "cell_type": "markdown",
   "metadata": {},
   "source": [
    "### Define ANN model"
   ]
  },
  {
   "cell_type": "code",
   "execution_count": 9,
   "metadata": {},
   "outputs": [],
   "source": [
    "model = Sequential()\n",
    "model.add(Dense(64, activation='relu'))\n",
    "# https://keras.io/api/layers/regularization_layers/dropout/\n",
    "model.add(Dropout(0.1))  #  input_shape=(2,)\n",
    "model.add(Dense(8, activation='relu'))\n",
    "model.add(Dense(1, activation='sigmoid'))"
   ]
  },
  {
   "cell_type": "code",
   "execution_count": 10,
   "metadata": {},
   "outputs": [],
   "source": [
    "# See: https://keras.io/api/metrics/classification_metrics\n",
    "# AUC(name='auc'), \n",
    "model.compile(loss='binary_crossentropy', optimizer='adam', \n",
    "              metrics=[Recall(name='recall')])"
   ]
  },
  {
   "cell_type": "markdown",
   "metadata": {},
   "source": [
    "### Train"
   ]
  },
  {
   "cell_type": "code",
   "execution_count": 11,
   "metadata": {},
   "outputs": [
    {
     "name": "stdout",
     "output_type": "stream",
     "text": [
      "WARNING:tensorflow:From /Applications/anaconda3/lib/python3.7/site-packages/keras/backend/tensorflow_backend.py:3172: add_dispatch_support.<locals>.wrapper (from tensorflow.python.ops.array_ops) is deprecated and will be removed in a future version.\n",
      "Instructions for updating:\n",
      "Use tf.where in 2.0, which has the same broadcast rule as np.where\n",
      "WARNING:tensorflow:From /Applications/anaconda3/lib/python3.7/site-packages/keras/backend/tensorflow_backend.py:422: The name tf.global_variables is deprecated. Please use tf.compat.v1.global_variables instead.\n",
      "\n",
      "Train on 2786 samples, validate on 348 samples\n",
      "Epoch 1/50\n",
      "2786/2786 [==============================] - 1s 332us/step - loss: 0.8395 - recall: 0.4674 - val_loss: 0.4438 - val_recall: 0.7301\n",
      "Epoch 2/50\n",
      "2786/2786 [==============================] - 1s 190us/step - loss: 0.4809 - recall: 0.7202 - val_loss: 0.3685 - val_recall: 0.7975\n",
      "Epoch 3/50\n",
      "2786/2786 [==============================] - 1s 191us/step - loss: 0.3987 - recall: 0.7758 - val_loss: 0.3431 - val_recall: 0.7853\n",
      "Epoch 4/50\n",
      "2786/2786 [==============================] - 1s 187us/step - loss: 0.3604 - recall: 0.7965 - val_loss: 0.3333 - val_recall: 0.8160\n",
      "Epoch 5/50\n",
      "2786/2786 [==============================] - 1s 189us/step - loss: 0.3351 - recall: 0.8124 - val_loss: 0.3210 - val_recall: 0.8098\n",
      "Epoch 6/50\n",
      "2786/2786 [==============================] - 1s 188us/step - loss: 0.3128 - recall: 0.8323 - val_loss: 0.2979 - val_recall: 0.8160\n",
      "Epoch 7/50\n",
      "2786/2786 [==============================] - 1s 186us/step - loss: 0.2991 - recall: 0.8259 - val_loss: 0.3025 - val_recall: 0.8221\n",
      "Epoch 8/50\n",
      "2786/2786 [==============================] - 1s 189us/step - loss: 0.2892 - recall: 0.8394 - val_loss: 0.2867 - val_recall: 0.8221\n",
      "Epoch 9/50\n",
      "2786/2786 [==============================] - 1s 198us/step - loss: 0.2726 - recall: 0.8577 - val_loss: 0.2910 - val_recall: 0.8221\n",
      "Epoch 10/50\n",
      "2786/2786 [==============================] - 1s 186us/step - loss: 0.2780 - recall: 0.8355 - val_loss: 0.2865 - val_recall: 0.8405\n",
      "Epoch 11/50\n",
      "2786/2786 [==============================] - 1s 188us/step - loss: 0.2459 - recall: 0.8649 - val_loss: 0.2921 - val_recall: 0.8650\n",
      "Epoch 12/50\n",
      "2786/2786 [==============================] - 1s 190us/step - loss: 0.2481 - recall: 0.8609 - val_loss: 0.2912 - val_recall: 0.8466\n",
      "Epoch 13/50\n",
      "2786/2786 [==============================] - 1s 189us/step - loss: 0.2316 - recall: 0.8657 - val_loss: 0.2948 - val_recall: 0.8773\n",
      "Epoch 14/50\n",
      "2786/2786 [==============================] - 1s 188us/step - loss: 0.2355 - recall: 0.8728 - val_loss: 0.2944 - val_recall: 0.8282\n",
      "Epoch 15/50\n",
      "2786/2786 [==============================] - 1s 210us/step - loss: 0.2310 - recall: 0.8665 - val_loss: 0.2761 - val_recall: 0.8650\n",
      "Epoch 16/50\n",
      "2786/2786 [==============================] - 1s 216us/step - loss: 0.2106 - recall: 0.8951 - val_loss: 0.2924 - val_recall: 0.8221\n",
      "Epoch 17/50\n",
      "2786/2786 [==============================] - 1s 189us/step - loss: 0.2148 - recall: 0.8800 - val_loss: 0.2858 - val_recall: 0.8405\n",
      "Epoch 18/50\n",
      "2786/2786 [==============================] - 1s 209us/step - loss: 0.1998 - recall: 0.9038 - val_loss: 0.2731 - val_recall: 0.8650\n",
      "Epoch 19/50\n",
      "2786/2786 [==============================] - 1s 189us/step - loss: 0.1870 - recall: 0.9070 - val_loss: 0.2883 - val_recall: 0.8282\n",
      "Epoch 20/50\n",
      "2786/2786 [==============================] - 1s 188us/step - loss: 0.1878 - recall: 0.9054 - val_loss: 0.3045 - val_recall: 0.8344\n",
      "Epoch 21/50\n",
      "2786/2786 [==============================] - 1s 200us/step - loss: 0.1908 - recall: 0.9086 - val_loss: 0.2894 - val_recall: 0.8344\n",
      "Epoch 22/50\n",
      "2786/2786 [==============================] - 1s 187us/step - loss: 0.1828 - recall: 0.9110 - val_loss: 0.2923 - val_recall: 0.8344\n",
      "Epoch 23/50\n",
      "2786/2786 [==============================] - 1s 189us/step - loss: 0.1735 - recall: 0.9078 - val_loss: 0.3066 - val_recall: 0.8589\n",
      "Epoch 24/50\n",
      "2786/2786 [==============================] - 1s 187us/step - loss: 0.1792 - recall: 0.9157 - val_loss: 0.2895 - val_recall: 0.8344\n",
      "Epoch 25/50\n",
      "2786/2786 [==============================] - 1s 189us/step - loss: 0.1670 - recall: 0.9181 - val_loss: 0.3230 - val_recall: 0.8344\n",
      "Epoch 26/50\n",
      "2786/2786 [==============================] - 1s 190us/step - loss: 0.1763 - recall: 0.9126 - val_loss: 0.2853 - val_recall: 0.8405\n",
      "Epoch 27/50\n",
      "2786/2786 [==============================] - 1s 188us/step - loss: 0.1553 - recall: 0.9157 - val_loss: 0.2970 - val_recall: 0.8098\n",
      "Epoch 28/50\n",
      "2786/2786 [==============================] - 1s 191us/step - loss: 0.1671 - recall: 0.9181 - val_loss: 0.2876 - val_recall: 0.8712\n",
      "Epoch 29/50\n",
      "2786/2786 [==============================] - 1s 188us/step - loss: 0.1519 - recall: 0.9293 - val_loss: 0.2742 - val_recall: 0.8712\n",
      "Epoch 30/50\n",
      "2786/2786 [==============================] - 1s 190us/step - loss: 0.1596 - recall: 0.9213 - val_loss: 0.2884 - val_recall: 0.8344\n",
      "Epoch 31/50\n",
      "2786/2786 [==============================] - 1s 189us/step - loss: 0.1485 - recall: 0.9253 - val_loss: 0.2765 - val_recall: 0.8589\n",
      "Epoch 32/50\n",
      "2786/2786 [==============================] - 1s 190us/step - loss: 0.1390 - recall: 0.9420 - val_loss: 0.2911 - val_recall: 0.8282\n",
      "Epoch 33/50\n",
      "2786/2786 [==============================] - 1s 197us/step - loss: 0.1345 - recall: 0.9324 - val_loss: 0.3689 - val_recall: 0.8098\n",
      "Epoch 34/50\n",
      "2786/2786 [==============================] - 1s 186us/step - loss: 0.1353 - recall: 0.9332 - val_loss: 0.3218 - val_recall: 0.8344\n",
      "Epoch 35/50\n",
      "2786/2786 [==============================] - 1s 196us/step - loss: 0.1364 - recall: 0.9285 - val_loss: 0.3171 - val_recall: 0.8344\n",
      "Epoch 36/50\n",
      "2786/2786 [==============================] - 1s 197us/step - loss: 0.1275 - recall: 0.9380 - val_loss: 0.2868 - val_recall: 0.8589\n",
      "Epoch 37/50\n",
      "2786/2786 [==============================] - 1s 229us/step - loss: 0.1274 - recall: 0.9348 - val_loss: 0.3093 - val_recall: 0.8589\n",
      "Epoch 38/50\n",
      "2786/2786 [==============================] - 1s 218us/step - loss: 0.1274 - recall: 0.9444 - val_loss: 0.3377 - val_recall: 0.8344\n",
      "Epoch 39/50\n",
      "2786/2786 [==============================] - 1s 205us/step - loss: 0.1192 - recall: 0.9499 - val_loss: 0.3244 - val_recall: 0.8344\n",
      "Epoch 40/50\n",
      "2786/2786 [==============================] - 1s 187us/step - loss: 0.1220 - recall: 0.9475 - val_loss: 0.3430 - val_recall: 0.8282\n",
      "Epoch 41/50\n",
      "2786/2786 [==============================] - 1s 218us/step - loss: 0.1370 - recall: 0.9356 - val_loss: 0.2953 - val_recall: 0.8466\n",
      "Epoch 42/50\n",
      "2786/2786 [==============================] - 1s 201us/step - loss: 0.1253 - recall: 0.9475 - val_loss: 0.3174 - val_recall: 0.8344\n",
      "Epoch 43/50\n",
      "2786/2786 [==============================] - 1s 198us/step - loss: 0.1020 - recall: 0.9555 - val_loss: 0.2913 - val_recall: 0.8773\n",
      "Epoch 44/50\n",
      "2786/2786 [==============================] - 1s 210us/step - loss: 0.1221 - recall: 0.9491 - val_loss: 0.3862 - val_recall: 0.7975\n",
      "Epoch 45/50\n",
      "2786/2786 [==============================] - 1s 212us/step - loss: 0.1126 - recall: 0.9467 - val_loss: 0.3210 - val_recall: 0.8344\n",
      "Epoch 46/50\n",
      "2786/2786 [==============================] - 1s 201us/step - loss: 0.1249 - recall: 0.9420 - val_loss: 0.3403 - val_recall: 0.8589\n",
      "Epoch 47/50\n",
      "2786/2786 [==============================] - 1s 218us/step - loss: 0.1027 - recall: 0.9579 - val_loss: 0.3375 - val_recall: 0.8221\n",
      "Epoch 48/50\n",
      "2786/2786 [==============================] - 1s 204us/step - loss: 0.1048 - recall: 0.9515 - val_loss: 0.3867 - val_recall: 0.8282\n",
      "Epoch 49/50\n",
      "2786/2786 [==============================] - 1s 206us/step - loss: 0.1105 - recall: 0.9483 - val_loss: 0.3466 - val_recall: 0.8528\n",
      "Epoch 50/50\n",
      "2786/2786 [==============================] - 1s 213us/step - loss: 0.1071 - recall: 0.9531 - val_loss: 0.3574 - val_recall: 0.8344\n"
     ]
    }
   ],
   "source": [
    "history = model.fit(x_train, y_train, epochs=50, batch_size=10, \n",
    "                    validation_data=(x_validate, y_validate))\n"
   ]
  },
  {
   "cell_type": "code",
   "execution_count": 12,
   "metadata": {},
   "outputs": [
    {
     "name": "stdout",
     "output_type": "stream",
     "text": [
      "349/349 [==============================] - 0s 52us/step\n",
      "Recall: 84.25\n"
     ]
    }
   ],
   "source": [
    "# auc, \n",
    "loss, recall = model.evaluate(x_test, y_test)\n",
    "# print('AUC: %.2f' % (auc * 100))\n",
    "print('Recall: %.2f' % (recall * 100))"
   ]
  },
  {
   "cell_type": "code",
   "execution_count": 13,
   "metadata": {},
   "outputs": [
    {
     "data": {
      "image/png": "[encoded data removed]",
      "text/plain": [
       "<Figure size 576x360 with 1 Axes>"
      ]
     },
     "metadata": {
      "needs_background": "light"
     },
     "output_type": "display_data"
    }
   ],
   "source": [
    "# history is a keras.callbacks.callbacks.History object\n",
    "pd.DataFrame(history.history).plot(figsize=(8, 5))\n",
    "plt.grid(True)\n",
    "plt.gca().set_ylim(0, 1)\n",
    "plt.show()\n"
   ]
  },
  {
   "cell_type": "code",
   "execution_count": 14,
   "metadata": {},
   "outputs": [],
   "source": [
    "# See: https://keras.io/api/metrics/classification_metrics\n",
    "# AUC(name='auc'), \n",
    "model.compile(loss='hinge', optimizer='adam', \n",
    "              metrics=[Recall(name='recall')])"
   ]
  },
  {
   "cell_type": "code",
   "execution_count": 15,
   "metadata": {},
   "outputs": [
    {
     "name": "stdout",
     "output_type": "stream",
     "text": [
      "Train on 2786 samples, validate on 348 samples\n",
      "Epoch 1/50\n",
      "2786/2786 [==============================] - 1s 295us/step - loss: 0.6051 - recall: 0.9515 - val_loss: 0.6558 - val_recall: 0.8282\n",
      "Epoch 2/50\n",
      "2786/2786 [==============================] - 1s 190us/step - loss: 0.6043 - recall: 0.9467 - val_loss: 0.6572 - val_recall: 0.8221\n",
      "Epoch 3/50\n",
      "2786/2786 [==============================] - 1s 192us/step - loss: 0.6030 - recall: 0.9380 - val_loss: 0.6419 - val_recall: 0.8712\n",
      "Epoch 4/50\n",
      "2786/2786 [==============================] - 1s 189us/step - loss: 0.6026 - recall: 0.9475 - val_loss: 0.6487 - val_recall: 0.8528\n",
      "Epoch 5/50\n",
      "2786/2786 [==============================] - 1s 192us/step - loss: 0.6013 - recall: 0.9459 - val_loss: 0.6469 - val_recall: 0.8650\n",
      "Epoch 6/50\n",
      "2786/2786 [==============================] - 1s 199us/step - loss: 0.5959 - recall: 0.9515 - val_loss: 0.6403 - val_recall: 0.8650\n",
      "Epoch 7/50\n",
      "2786/2786 [==============================] - 1s 190us/step - loss: 0.5972 - recall: 0.9507 - val_loss: 0.6454 - val_recall: 0.8405\n",
      "Epoch 8/50\n",
      "2786/2786 [==============================] - 1s 193us/step - loss: 0.5939 - recall: 0.9531 - val_loss: 0.6353 - val_recall: 0.8712\n",
      "Epoch 9/50\n",
      "2786/2786 [==============================] - 1s 198us/step - loss: 0.5970 - recall: 0.9539 - val_loss: 0.6514 - val_recall: 0.8344\n",
      "Epoch 10/50\n",
      "2786/2786 [==============================] - 1s 188us/step - loss: 0.5899 - recall: 0.9571 - val_loss: 0.6547 - val_recall: 0.8405\n",
      "Epoch 11/50\n",
      "2786/2786 [==============================] - 1s 192us/step - loss: 0.5930 - recall: 0.9555 - val_loss: 0.6500 - val_recall: 0.8221\n",
      "Epoch 12/50\n",
      "2786/2786 [==============================] - 1s 198us/step - loss: 0.5933 - recall: 0.9579 - val_loss: 0.6398 - val_recall: 0.8160\n",
      "Epoch 13/50\n",
      "2786/2786 [==============================] - 1s 202us/step - loss: 0.5907 - recall: 0.9523 - val_loss: 0.6425 - val_recall: 0.8344\n",
      "Epoch 14/50\n",
      "2786/2786 [==============================] - 1s 200us/step - loss: 0.5876 - recall: 0.9626 - val_loss: 0.6346 - val_recall: 0.8834\n",
      "Epoch 15/50\n",
      "2786/2786 [==============================] - 1s 202us/step - loss: 0.5913 - recall: 0.9579 - val_loss: 0.6307 - val_recall: 0.8528\n",
      "Epoch 16/50\n",
      "2786/2786 [==============================] - 1s 199us/step - loss: 0.5878 - recall: 0.9579 - val_loss: 0.6348 - val_recall: 0.8834\n",
      "Epoch 17/50\n",
      "2786/2786 [==============================] - 1s 199us/step - loss: 0.5908 - recall: 0.9587 - val_loss: 0.6356 - val_recall: 0.8650\n",
      "Epoch 18/50\n",
      "2786/2786 [==============================] - 1s 213us/step - loss: 0.5888 - recall: 0.9618 - val_loss: 0.6291 - val_recall: 0.8834\n",
      "Epoch 19/50\n",
      "2786/2786 [==============================] - 1s 199us/step - loss: 0.5910 - recall: 0.9523 - val_loss: 0.6260 - val_recall: 0.8896\n",
      "Epoch 20/50\n",
      "2786/2786 [==============================] - 1s 194us/step - loss: 0.5870 - recall: 0.9563 - val_loss: 0.6490 - val_recall: 0.8405\n",
      "Epoch 21/50\n",
      "2786/2786 [==============================] - 1s 195us/step - loss: 0.5872 - recall: 0.9555 - val_loss: 0.6373 - val_recall: 0.8466\n",
      "Epoch 22/50\n",
      "2786/2786 [==============================] - 1s 193us/step - loss: 0.5886 - recall: 0.9563 - val_loss: 0.6474 - val_recall: 0.8282\n",
      "Epoch 23/50\n",
      "2786/2786 [==============================] - 1s 199us/step - loss: 0.5907 - recall: 0.9531 - val_loss: 0.6361 - val_recall: 0.8650\n",
      "Epoch 24/50\n",
      "2786/2786 [==============================] - 1s 192us/step - loss: 0.5835 - recall: 0.9650 - val_loss: 0.6455 - val_recall: 0.8344\n",
      "Epoch 25/50\n",
      "2786/2786 [==============================] - 1s 226us/step - loss: 0.5876 - recall: 0.9571 - val_loss: 0.6434 - val_recall: 0.8282\n",
      "Epoch 26/50\n",
      "2786/2786 [==============================] - 1s 264us/step - loss: 0.5850 - recall: 0.9626 - val_loss: 0.6368 - val_recall: 0.8589\n",
      "Epoch 27/50\n",
      "2786/2786 [==============================] - 1s 299us/step - loss: 0.5827 - recall: 0.9634 - val_loss: 0.6322 - val_recall: 0.8773\n",
      "Epoch 28/50\n",
      "2786/2786 [==============================] - 1s 287us/step - loss: 0.5823 - recall: 0.9722 - val_loss: 0.6414 - val_recall: 0.8466\n",
      "Epoch 29/50\n",
      "2786/2786 [==============================] - 1s 276us/step - loss: 0.5843 - recall: 0.9563 - val_loss: 0.6469 - val_recall: 0.8405\n",
      "Epoch 30/50\n",
      "2786/2786 [==============================] - 1s 238us/step - loss: 0.5835 - recall: 0.9603 - val_loss: 0.6368 - val_recall: 0.8712\n",
      "Epoch 31/50\n",
      "2786/2786 [==============================] - 1s 203us/step - loss: 0.5817 - recall: 0.9666 - val_loss: 0.6381 - val_recall: 0.8528\n",
      "Epoch 32/50\n",
      "2786/2786 [==============================] - 1s 220us/step - loss: 0.5829 - recall: 0.9658 - val_loss: 0.6365 - val_recall: 0.9018\n",
      "Epoch 33/50\n",
      "2786/2786 [==============================] - 1s 211us/step - loss: 0.5862 - recall: 0.9642 - val_loss: 0.6274 - val_recall: 0.8773\n",
      "Epoch 34/50\n",
      "2786/2786 [==============================] - 1s 209us/step - loss: 0.5815 - recall: 0.9634 - val_loss: 0.6393 - val_recall: 0.8405\n",
      "Epoch 35/50\n",
      "2786/2786 [==============================] - 1s 205us/step - loss: 0.5804 - recall: 0.9706 - val_loss: 0.6354 - val_recall: 0.8712\n",
      "Epoch 36/50\n",
      "2786/2786 [==============================] - 1s 207us/step - loss: 0.5779 - recall: 0.9714 - val_loss: 0.6351 - val_recall: 0.8466\n",
      "Epoch 37/50\n",
      "2786/2786 [==============================] - 1s 209us/step - loss: 0.5802 - recall: 0.9650 - val_loss: 0.6332 - val_recall: 0.8712\n",
      "Epoch 38/50\n",
      "2786/2786 [==============================] - 1s 239us/step - loss: 0.5849 - recall: 0.9587 - val_loss: 0.6284 - val_recall: 0.8773\n",
      "Epoch 39/50\n",
      "2786/2786 [==============================] - 1s 253us/step - loss: 0.5812 - recall: 0.9642 - val_loss: 0.6312 - val_recall: 0.8712\n",
      "Epoch 40/50\n",
      "2786/2786 [==============================] - 1s 267us/step - loss: 0.5824 - recall: 0.9642 - val_loss: 0.6401 - val_recall: 0.8344\n",
      "Epoch 41/50\n",
      "2786/2786 [==============================] - 1s 219us/step - loss: 0.5814 - recall: 0.9650 - val_loss: 0.6357 - val_recall: 0.8650\n",
      "Epoch 42/50\n",
      "2786/2786 [==============================] - 1s 245us/step - loss: 0.5846 - recall: 0.9674 - val_loss: 0.6427 - val_recall: 0.8589\n",
      "Epoch 43/50\n",
      "2786/2786 [==============================] - 1s 263us/step - loss: 0.5774 - recall: 0.9738 - val_loss: 0.6397 - val_recall: 0.8650\n",
      "Epoch 44/50\n",
      "2786/2786 [==============================] - 1s 268us/step - loss: 0.5788 - recall: 0.9698 - val_loss: 0.6354 - val_recall: 0.8528\n",
      "Epoch 45/50\n",
      "2786/2786 [==============================] - 1s 224us/step - loss: 0.5792 - recall: 0.9714 - val_loss: 0.6376 - val_recall: 0.8405\n",
      "Epoch 46/50\n",
      "2786/2786 [==============================] - 1s 240us/step - loss: 0.5830 - recall: 0.9634 - val_loss: 0.6377 - val_recall: 0.8528\n",
      "Epoch 47/50\n",
      "2786/2786 [==============================] - 1s 234us/step - loss: 0.5840 - recall: 0.9618 - val_loss: 0.6318 - val_recall: 0.8896\n",
      "Epoch 48/50\n",
      "2786/2786 [==============================] - 1s 239us/step - loss: 0.5768 - recall: 0.9666 - val_loss: 0.6412 - val_recall: 0.8528\n",
      "Epoch 49/50\n",
      "2786/2786 [==============================] - 1s 263us/step - loss: 0.5843 - recall: 0.9650 - val_loss: 0.6361 - val_recall: 0.8528\n",
      "Epoch 50/50\n",
      "2786/2786 [==============================] - 1s 200us/step - loss: 0.5784 - recall: 0.9610 - val_loss: 0.6387 - val_recall: 0.8282\n"
     ]
    }
   ],
   "source": [
    "history = model.fit(x_train, y_train, epochs=50, batch_size=10, \n",
    "                    validation_data=(x_validate, y_validate))"
   ]
  },
  {
   "cell_type": "code",
   "execution_count": 16,
   "metadata": {},
   "outputs": [
    {
     "name": "stdout",
     "output_type": "stream",
     "text": [
      "349/349 [==============================] - 0s 57us/step\n",
      "Recall: 87.67\n"
     ]
    }
   ],
   "source": [
    "# auc, \n",
    "loss, recall = model.evaluate(x_test, y_test)\n",
    "# print('AUC: %.2f' % (auc * 100))\n",
    "print('Recall: %.2f' % (recall * 100))"
   ]
  },
  {
   "cell_type": "code",
   "execution_count": 17,
   "metadata": {},
   "outputs": [
    {
     "data": {
      "image/png": "[encoded data removed]",
      "text/plain": [
       "<Figure size 576x360 with 1 Axes>"
      ]
     },
     "metadata": {
      "needs_background": "light"
     },
     "output_type": "display_data"
    }
   ],
   "source": [
    "# history is a keras.callbacks.callbacks.History object\n",
    "pd.DataFrame(history.history).plot(figsize=(8, 5))\n",
    "plt.grid(True)\n",
    "plt.gca().set_ylim(0, 1)\n",
    "plt.show()\n"
   ]
  },
  {
   "cell_type": "markdown",
   "metadata": {},
   "source": [
    "### Discussion of above\n",
    "\n",
    "This point represents a fair amount of tinkering. Guessing at network structures (numbers of neurons, numbers of layers, etc). Added dropout layer in attempt to prevent overfitting. Validation loss still creeping up (not good). Larger networks with more layers did not seem to work as well. Tried all Keras optimizers (SGD, RMSprop, Adam, Adadelta, Adagrad, Adamax, Nadam). Tried the following loss functions: binary_crossentropy, hinge, squared_hinge, and categorical_hinge. Only the first two seemed at all promising. Binary cross-entropy had the recall-loss curve that made the most sense. Hinge gave a slightly better result, but the result seems odd -- curves are flat and loss is high. I don't know that I trust this model.\n",
    "\n"
   ]
  },
  {
   "cell_type": "code",
   "execution_count": null,
   "metadata": {},
   "outputs": [],
   "source": []
  },
  {
   "cell_type": "code",
   "execution_count": null,
   "metadata": {},
   "outputs": [],
   "source": []
  }
 ],
 "metadata": {
  "kernelspec": {
   "display_name": "Python 3",
   "language": "python",
   "name": "python3"
  },
  "language_info": {
   "codemirror_mode": {
    "name": "ipython",
    "version": 3
   },
   "file_extension": ".py",
   "mimetype": "text/x-python",
   "name": "python",
   "nbconvert_exporter": "python",
   "pygments_lexer": "ipython3",
   "version": "3.7.8"
  }
 },
 "nbformat": 4,
 "nbformat_minor": 4
}
