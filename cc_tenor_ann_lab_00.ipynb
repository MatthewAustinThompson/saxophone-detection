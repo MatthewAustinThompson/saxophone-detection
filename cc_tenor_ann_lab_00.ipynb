{
 "cells": [
  {
   "cell_type": "code",
   "execution_count": 15,
   "metadata": {},
   "outputs": [],
   "source": [
    "import pandas as pd\n",
    "import matplotlib.pyplot as plt\n",
    "from keras.models import Sequential\n",
    "from keras.layers import Dense, Dropout, LeakyReLU\n",
    "from keras.metrics import AUC, Recall\n",
    "from sklearn.model_selection import train_test_split\n",
    "\n",
    "from _common import NUM_LABEL_COLS, RANDOM_SEED\n",
    "from _tenor import NUM_COMPONENTS, TEST_SIZE, VALIDATION_SIZE, \\\n",
    "    d, target\n",
    "# Note that records are read from pickle, selected, and scaled \n",
    "# in `_tenor.py`. So values in d have already been scaled\n",
    "# with sklearn.preprocessing.StandardScaler and then PCA has\n",
    "# been performed with sklearn.decomposition.PCA"
   ]
  },
  {
   "cell_type": "code",
   "execution_count": 10,
   "metadata": {},
   "outputs": [
    {
     "data": {
      "text/plain": [
       "36"
      ]
     },
     "execution_count": 10,
     "metadata": {},
     "output_type": "execute_result"
    }
   ],
   "source": [
    "NUM_COMPONENTS"
   ]
  },
  {
   "cell_type": "code",
   "execution_count": 11,
   "metadata": {},
   "outputs": [],
   "source": [
    "x_train, x_test, y_train, y_test = \\\n",
    "     train_test_split(d, target,\n",
    "                      test_size=TEST_SIZE,\n",
    "                      random_state=RANDOM_SEED)"
   ]
  },
  {
   "cell_type": "code",
   "execution_count": 12,
   "metadata": {},
   "outputs": [
    {
     "name": "stdout",
     "output_type": "stream",
     "text": [
      "WARNING:tensorflow:From /Applications/anaconda3/lib/python3.7/site-packages/keras/backend/tensorflow_backend.py:3172: add_dispatch_support.<locals>.wrapper (from tensorflow.python.ops.array_ops) is deprecated and will be removed in a future version.\n",
      "Instructions for updating:\n",
      "Use tf.where in 2.0, which has the same broadcast rule as np.where\n",
      "WARNING:tensorflow:From /Applications/anaconda3/lib/python3.7/site-packages/keras/backend/tensorflow_backend.py:422: The name tf.global_variables is deprecated. Please use tf.compat.v1.global_variables instead.\n",
      "\n",
      "Train on 3728 samples, validate on 933 samples\n",
      "Epoch 1/20\n",
      "3728/3728 [==============================] - 2s 416us/step - loss: 1.3276 - recall: 0.6231 - val_loss: 0.7019 - val_recall: 0.6343\n",
      "Epoch 2/20\n",
      "3728/3728 [==============================] - 1s 144us/step - loss: 0.7132 - recall: 0.6445 - val_loss: 0.6144 - val_recall: 0.7831\n",
      "Epoch 3/20\n",
      "3728/3728 [==============================] - 1s 137us/step - loss: 0.6257 - recall: 0.6918 - val_loss: 0.5623 - val_recall: 0.7975\n",
      "Epoch 4/20\n",
      "3728/3728 [==============================] - 1s 147us/step - loss: 0.5655 - recall: 0.7142 - val_loss: 0.5085 - val_recall: 0.7913\n",
      "Epoch 5/20\n",
      "3728/3728 [==============================] - 1s 140us/step - loss: 0.5177 - recall: 0.7225 - val_loss: 0.4744 - val_recall: 0.7975\n",
      "Epoch 6/20\n",
      "3728/3728 [==============================] - 1s 136us/step - loss: 0.5023 - recall: 0.7121 - val_loss: 0.4514 - val_recall: 0.8161\n",
      "Epoch 7/20\n",
      "3728/3728 [==============================] - 1s 150us/step - loss: 0.4733 - recall: 0.7491 - val_loss: 0.4295 - val_recall: 0.8161\n",
      "Epoch 8/20\n",
      "3728/3728 [==============================] - 1s 147us/step - loss: 0.4488 - recall: 0.7486 - val_loss: 0.4130 - val_recall: 0.8140\n",
      "Epoch 9/20\n",
      "3728/3728 [==============================] - 1s 147us/step - loss: 0.4314 - recall: 0.7579 - val_loss: 0.4088 - val_recall: 0.8161\n",
      "Epoch 10/20\n",
      "3728/3728 [==============================] - 1s 139us/step - loss: 0.4115 - recall: 0.7762 - val_loss: 0.3908 - val_recall: 0.8306\n",
      "Epoch 11/20\n",
      "3728/3728 [==============================] - 1s 135us/step - loss: 0.3962 - recall: 0.7923 - val_loss: 0.3797 - val_recall: 0.8388\n",
      "Epoch 12/20\n",
      "3728/3728 [==============================] - 1s 148us/step - loss: 0.3938 - recall: 0.7928 - val_loss: 0.3787 - val_recall: 0.8182\n",
      "Epoch 13/20\n",
      "3728/3728 [==============================] - 1s 140us/step - loss: 0.3682 - recall: 0.8090 - val_loss: 0.3717 - val_recall: 0.8347\n",
      "Epoch 14/20\n",
      "3728/3728 [==============================] - 1s 138us/step - loss: 0.3648 - recall: 0.8090 - val_loss: 0.3696 - val_recall: 0.8368\n",
      "Epoch 15/20\n",
      "3728/3728 [==============================] - 1s 137us/step - loss: 0.3505 - recall: 0.8199 - val_loss: 0.3718 - val_recall: 0.8554\n",
      "Epoch 16/20\n",
      "3728/3728 [==============================] - 1s 143us/step - loss: 0.3383 - recall: 0.8298 - val_loss: 0.3713 - val_recall: 0.8636\n",
      "Epoch 17/20\n",
      "3728/3728 [==============================] - 1s 147us/step - loss: 0.3384 - recall: 0.8272 - val_loss: 0.3634 - val_recall: 0.8430\n",
      "Epoch 18/20\n",
      "3728/3728 [==============================] - 1s 153us/step - loss: 0.3186 - recall: 0.8329 - val_loss: 0.3711 - val_recall: 0.8450\n",
      "Epoch 19/20\n",
      "3728/3728 [==============================] - 1s 139us/step - loss: 0.3120 - recall: 0.8397 - val_loss: 0.3690 - val_recall: 0.8512\n",
      "Epoch 20/20\n",
      "3728/3728 [==============================] - 1s 138us/step - loss: 0.3056 - recall: 0.8376 - val_loss: 0.3762 - val_recall: 0.8533\n",
      "1166/1166 [==============================] - 0s 80us/step\n"
     ]
    }
   ],
   "source": [
    "NUM_EPOCHS = 20\n",
    "BATCH_SIZE = 32\n",
    "\n",
    "# layer = tf.keras.layers.LeakyReLU(alpha=0.1)\n",
    "# https://keras.io/api/layers/activations/\n",
    "# https://keras.io/api/layers/activation_layers/leaky_relu/\n",
    "\n",
    "model = Sequential()\n",
    "model.add(Dense(32, activation='relu'))\n",
    "model.add(Dense(8, activation='relu'))\n",
    "model.add(Dropout(0.125))  # drop out one unit on each train\n",
    "model.add(Dense(8, activation='relu'))\n",
    "model.add(Dropout(0.125))  # drop out one unit on each train\n",
    "model.add(Dense(1, activation='sigmoid'))\n",
    "model.compile(loss='binary_crossentropy', optimizer='adam', \n",
    "              metrics=[Recall(name='recall')])\n",
    "history = model.fit(x_train, y_train, epochs=NUM_EPOCHS, \n",
    "                    batch_size=BATCH_SIZE, \n",
    "                    validation_split=VALIDATION_SIZE)\n",
    "loss, recall = model.evaluate(x_test, y_test)\n"
   ]
  },
  {
   "cell_type": "code",
   "execution_count": 13,
   "metadata": {},
   "outputs": [
    {
     "name": "stdout",
     "output_type": "stream",
     "text": [
      "1166/1166 [==============================] - 0s 40us/step\n",
      "Recall: 85.49\n"
     ]
    }
   ],
   "source": [
    "# auc, \n",
    "loss, recall = model.evaluate(x_test, y_test)\n",
    "# print('AUC: %.2f' % (auc * 100))\n",
    "print('Recall: %.2f' % (recall * 100))"
   ]
  },
  {
   "cell_type": "code",
   "execution_count": 14,
   "metadata": {},
   "outputs": [
    {
     "data": {
      "image/png": "[encoded data removed]",
      "text/plain": [
       "<Figure size 576x360 with 1 Axes>"
      ]
     },
     "metadata": {
      "needs_background": "light"
     },
     "output_type": "display_data"
    }
   ],
   "source": [
    "# history is a keras.callbacks.callbacks.History object\n",
    "pd.DataFrame(history.history).plot(figsize=(8, 5))\n",
    "plt.grid(True)\n",
    "plt.gca().set_ylim(0, 1)\n",
    "plt.show()\n"
   ]
  },
  {
   "cell_type": "code",
   "execution_count": 20,
   "metadata": {},
   "outputs": [
    {
     "name": "stdout",
     "output_type": "stream",
     "text": [
      "Train on 3728 samples, validate on 933 samples\n",
      "Epoch 1/20\n",
      "3728/3728 [==============================] - 2s 438us/step - loss: 2.0862 - recall: 0.6793 - val_loss: 0.9145 - val_recall: 0.6488\n",
      "Epoch 2/20\n",
      "3728/3728 [==============================] - 1s 179us/step - loss: 0.8333 - recall: 0.6137 - val_loss: 0.6648 - val_recall: 0.6529\n",
      "Epoch 3/20\n",
      "3728/3728 [==============================] - 1s 166us/step - loss: 0.6452 - recall: 0.6080 - val_loss: 0.6068 - val_recall: 0.6591\n",
      "Epoch 4/20\n",
      "3728/3728 [==============================] - 1s 144us/step - loss: 0.5674 - recall: 0.6205 - val_loss: 0.5648 - val_recall: 0.6736\n",
      "Epoch 5/20\n",
      "3728/3728 [==============================] - 1s 155us/step - loss: 0.5060 - recall: 0.6325 - val_loss: 0.5466 - val_recall: 0.6963\n",
      "Epoch 6/20\n",
      "3728/3728 [==============================] - 1s 154us/step - loss: 0.4796 - recall: 0.6471 - val_loss: 0.5274 - val_recall: 0.7128\n",
      "Epoch 7/20\n",
      "3728/3728 [==============================] - 1s 169us/step - loss: 0.4460 - recall: 0.6731 - val_loss: 0.5088 - val_recall: 0.7335\n",
      "Epoch 8/20\n",
      "3728/3728 [==============================] - 1s 187us/step - loss: 0.4261 - recall: 0.6793 - val_loss: 0.4989 - val_recall: 0.7355\n",
      "Epoch 9/20\n",
      "3728/3728 [==============================] - 1s 216us/step - loss: 0.4087 - recall: 0.7158 - val_loss: 0.4813 - val_recall: 0.7541\n",
      "Epoch 10/20\n",
      "3728/3728 [==============================] - 1s 245us/step - loss: 0.3834 - recall: 0.7267 - val_loss: 0.4827 - val_recall: 0.7831\n",
      "Epoch 11/20\n",
      "3728/3728 [==============================] - 1s 241us/step - loss: 0.3797 - recall: 0.7251 - val_loss: 0.4735 - val_recall: 0.7707\n",
      "Epoch 12/20\n",
      "3728/3728 [==============================] - ETA: 0s - loss: 0.3557 - recall: 0.76 - 1s 185us/step - loss: 0.3602 - recall: 0.7699 - val_loss: 0.4658 - val_recall: 0.8554\n",
      "Epoch 13/20\n",
      "3728/3728 [==============================] - 1s 205us/step - loss: 0.3571 - recall: 0.8641 - val_loss: 0.4622 - val_recall: 0.8554\n",
      "Epoch 14/20\n",
      "3728/3728 [==============================] - 1s 176us/step - loss: 0.3512 - recall: 0.8730 - val_loss: 0.4600 - val_recall: 0.8554\n",
      "Epoch 15/20\n",
      "3728/3728 [==============================] - 1s 213us/step - loss: 0.3464 - recall: 0.8704 - val_loss: 0.4652 - val_recall: 0.8616\n",
      "Epoch 16/20\n",
      "3728/3728 [==============================] - 1s 194us/step - loss: 0.3273 - recall: 0.8860 - val_loss: 0.4561 - val_recall: 0.8554\n",
      "Epoch 17/20\n",
      "3728/3728 [==============================] - 1s 224us/step - loss: 0.3168 - recall: 0.8798 - val_loss: 0.4554 - val_recall: 0.8760\n",
      "Epoch 18/20\n",
      "3728/3728 [==============================] - 1s 233us/step - loss: 0.3200 - recall: 0.8912 - val_loss: 0.4419 - val_recall: 0.8657\n",
      "Epoch 19/20\n",
      "3728/3728 [==============================] - 1s 274us/step - loss: 0.3056 - recall: 0.8850 - val_loss: 0.4452 - val_recall: 0.8657\n",
      "Epoch 20/20\n",
      "3728/3728 [==============================] - 1s 250us/step - loss: 0.3057 - recall: 0.9027 - val_loss: 0.4469 - val_recall: 0.8574\n",
      "1166/1166 [==============================] - 0s 185us/step\n"
     ]
    }
   ],
   "source": [
    "# layer = tf.keras.layers.LeakyReLU(alpha=0.1)\n",
    "# See: About \"advanced activation\" layers at bottom page at\n",
    "#  https://keras.io/api/layers/activations/\n",
    "# https://keras.io/api/layers/activation_layers/leaky_relu/\n",
    "\n",
    "model = Sequential()\n",
    "model.add(Dense(32, activation='relu'))\n",
    "model.add(LeakyReLU(alpha=0.3))\n",
    "# model.add(Dropout(0.125))  # drop out one unit on each train\n",
    "model.add(Dense(8, activation='relu'))\n",
    "model.add(Dropout(0.125))  # drop out one unit on each train\n",
    "model.add(Dense(1, activation='sigmoid'))\n",
    "model.compile(loss='binary_crossentropy', optimizer='adam', \n",
    "              metrics=[Recall(name='recall')])\n",
    "history = model.fit(x_train, y_train, epochs=NUM_EPOCHS, \n",
    "                    batch_size=BATCH_SIZE, \n",
    "                    validation_split=VALIDATION_SIZE)\n",
    "loss, recall = model.evaluate(x_test, y_test)\n"
   ]
  },
  {
   "cell_type": "code",
   "execution_count": 21,
   "metadata": {},
   "outputs": [
    {
     "name": "stdout",
     "output_type": "stream",
     "text": [
      "1166/1166 [==============================] - 0s 47us/step\n",
      "Recall: 85.49\n"
     ]
    }
   ],
   "source": [
    "# auc, \n",
    "loss, recall = model.evaluate(x_test, y_test)\n",
    "# print('AUC: %.2f' % (auc * 100))\n",
    "print('Recall: %.2f' % (recall * 100))"
   ]
  },
  {
   "cell_type": "code",
   "execution_count": 22,
   "metadata": {},
   "outputs": [
    {
     "data": {
      "image/png": "[encoded data removed]",
      "text/plain": [
       "<Figure size 576x360 with 1 Axes>"
      ]
     },
     "metadata": {
      "needs_background": "light"
     },
     "output_type": "display_data"
    }
   ],
   "source": [
    "# history is a keras.callbacks.callbacks.History object\n",
    "pd.DataFrame(history.history).plot(figsize=(8, 5))\n",
    "plt.grid(True)\n",
    "plt.gca().set_ylim(0, 1)\n",
    "plt.show()\n"
   ]
  },
  {
   "cell_type": "code",
   "execution_count": 23,
   "metadata": {},
   "outputs": [
    {
     "name": "stdout",
     "output_type": "stream",
     "text": [
      "Train on 3728 samples, validate on 933 samples\n",
      "Epoch 1/20\n",
      "3728/3728 [==============================] - 2s 452us/step - loss: 1.1307 - recall: 0.6346 - val_loss: 0.7218 - val_recall: 0.6798\n",
      "Epoch 2/20\n",
      "3728/3728 [==============================] - 1s 192us/step - loss: 0.6497 - recall: 0.6314 - val_loss: 0.6058 - val_recall: 0.6694\n",
      "Epoch 3/20\n",
      "3728/3728 [==============================] - 1s 146us/step - loss: 0.5731 - recall: 0.6434 - val_loss: 0.5630 - val_recall: 0.7045\n",
      "Epoch 4/20\n",
      "3728/3728 [==============================] - 0s 125us/step - loss: 0.5301 - recall: 0.6746 - val_loss: 0.5306 - val_recall: 0.7397\n",
      "Epoch 5/20\n",
      "3728/3728 [==============================] - 1s 160us/step - loss: 0.4800 - recall: 0.7054 - val_loss: 0.5003 - val_recall: 0.7438\n",
      "Epoch 6/20\n",
      "3728/3728 [==============================] - 1s 159us/step - loss: 0.4534 - recall: 0.7288 - val_loss: 0.4852 - val_recall: 0.7665\n",
      "Epoch 7/20\n",
      "3728/3728 [==============================] - 1s 140us/step - loss: 0.4362 - recall: 0.7392 - val_loss: 0.4686 - val_recall: 0.7934\n",
      "Epoch 8/20\n",
      "3728/3728 [==============================] - 0s 129us/step - loss: 0.4178 - recall: 0.7501 - val_loss: 0.4609 - val_recall: 0.8079\n",
      "Epoch 9/20\n",
      "3728/3728 [==============================] - 1s 140us/step - loss: 0.4081 - recall: 0.7533 - val_loss: 0.4552 - val_recall: 0.7831\n",
      "Epoch 10/20\n",
      "3728/3728 [==============================] - 0s 132us/step - loss: 0.3855 - recall: 0.7746 - val_loss: 0.4408 - val_recall: 0.7872\n",
      "Epoch 11/20\n",
      "3728/3728 [==============================] - 0s 131us/step - loss: 0.3762 - recall: 0.7793 - val_loss: 0.4436 - val_recall: 0.8037\n",
      "Epoch 12/20\n",
      "3728/3728 [==============================] - 0s 126us/step - loss: 0.3625 - recall: 0.7840 - val_loss: 0.4357 - val_recall: 0.7872\n",
      "Epoch 13/20\n",
      "3728/3728 [==============================] - 0s 134us/step - loss: 0.3510 - recall: 0.8032 - val_loss: 0.4323 - val_recall: 0.8058\n",
      "Epoch 14/20\n",
      "3728/3728 [==============================] - 0s 133us/step - loss: 0.3499 - recall: 0.7970 - val_loss: 0.4383 - val_recall: 0.8182\n",
      "Epoch 15/20\n",
      "3728/3728 [==============================] - 0s 127us/step - loss: 0.3386 - recall: 0.8095 - val_loss: 0.4295 - val_recall: 0.7996\n",
      "Epoch 16/20\n",
      "3728/3728 [==============================] - 0s 130us/step - loss: 0.3251 - recall: 0.8090 - val_loss: 0.4330 - val_recall: 0.8161\n",
      "Epoch 17/20\n",
      "3728/3728 [==============================] - 0s 130us/step - loss: 0.3219 - recall: 0.8131 - val_loss: 0.4406 - val_recall: 0.8264\n",
      "Epoch 18/20\n",
      "3728/3728 [==============================] - 1s 138us/step - loss: 0.3124 - recall: 0.8282 - val_loss: 0.4364 - val_recall: 0.8182\n",
      "Epoch 19/20\n",
      "3728/3728 [==============================] - 0s 126us/step - loss: 0.3081 - recall: 0.8230 - val_loss: 0.4276 - val_recall: 0.7893\n",
      "Epoch 20/20\n",
      "3728/3728 [==============================] - 1s 136us/step - loss: 0.3031 - recall: 0.8230 - val_loss: 0.4330 - val_recall: 0.8079\n",
      "1166/1166 [==============================] - 0s 72us/step\n"
     ]
    }
   ],
   "source": [
    "# layer = tf.keras.layers.LeakyReLU(alpha=0.1)\n",
    "# See: About \"advanced activation\" layers at bottom page at\n",
    "#  https://keras.io/api/layers/activations/\n",
    "# See: https://keras.io/api/layers/activation_layers/leaky_relu/\n",
    "\n",
    "model = Sequential()\n",
    "model.add(Dense(32, activation='relu'))\n",
    "model.add(Dense(8, activation='relu'))\n",
    "model.add(LeakyReLU(alpha=0.3))\n",
    "model.add(Dropout(0.125))  # drop out one unit on each train\n",
    "model.add(Dense(1, activation='sigmoid'))\n",
    "model.compile(loss='binary_crossentropy', optimizer='adam', \n",
    "              metrics=[Recall(name='recall')])\n",
    "history = model.fit(x_train, y_train, epochs=NUM_EPOCHS, \n",
    "                    batch_size=BATCH_SIZE, \n",
    "                    validation_split=VALIDATION_SIZE)\n",
    "loss, recall = model.evaluate(x_test, y_test)\n"
   ]
  },
  {
   "cell_type": "code",
   "execution_count": 24,
   "metadata": {},
   "outputs": [
    {
     "name": "stdout",
     "output_type": "stream",
     "text": [
      "1166/1166 [==============================] - 0s 46us/step\n",
      "Recall: 77.80\n"
     ]
    }
   ],
   "source": [
    "# auc, \n",
    "loss, recall = model.evaluate(x_test, y_test)\n",
    "# print('AUC: %.2f' % (auc * 100))\n",
    "print('Recall: %.2f' % (recall * 100))"
   ]
  },
  {
   "cell_type": "code",
   "execution_count": 33,
   "metadata": {
    "scrolled": true
   },
   "outputs": [
    {
     "name": "stdout",
     "output_type": "stream",
     "text": [
      "Train on 3728 samples, validate on 933 samples\n",
      "Epoch 1/20\n",
      "3728/3728 [==============================] - 2s 548us/step - loss: 0.8799 - recall: 0.5429 - val_loss: 0.6713 - val_recall: 0.6570\n",
      "Epoch 2/20\n",
      "3728/3728 [==============================] - 1s 178us/step - loss: 0.6737 - recall: 0.6330 - val_loss: 0.6253 - val_recall: 0.6653\n",
      "Epoch 3/20\n",
      "3728/3728 [==============================] - 1s 171us/step - loss: 0.6312 - recall: 0.6934 - val_loss: 0.5911 - val_recall: 0.7335\n",
      "Epoch 4/20\n",
      "3728/3728 [==============================] - 1s 179us/step - loss: 0.5936 - recall: 0.7434 - val_loss: 0.5616 - val_recall: 0.8099\n",
      "Epoch 5/20\n",
      "3728/3728 [==============================] - 1s 164us/step - loss: 0.5597 - recall: 0.7897 - val_loss: 0.5361 - val_recall: 0.8037\n",
      "Epoch 6/20\n",
      "3728/3728 [==============================] - 1s 181us/step - loss: 0.5341 - recall: 0.8142 - val_loss: 0.5173 - val_recall: 0.8182\n",
      "Epoch 7/20\n",
      "3728/3728 [==============================] - 1s 173us/step - loss: 0.5167 - recall: 0.8188 - val_loss: 0.5008 - val_recall: 0.8326\n",
      "Epoch 8/20\n",
      "3728/3728 [==============================] - 1s 164us/step - loss: 0.5073 - recall: 0.8308 - val_loss: 0.4897 - val_recall: 0.8533\n",
      "Epoch 9/20\n",
      "3728/3728 [==============================] - 1s 178us/step - loss: 0.4865 - recall: 0.8376 - val_loss: 0.4794 - val_recall: 0.8368\n",
      "Epoch 10/20\n",
      "3728/3728 [==============================] - 1s 196us/step - loss: 0.4778 - recall: 0.8511 - val_loss: 0.4728 - val_recall: 0.8450\n",
      "Epoch 11/20\n",
      "3728/3728 [==============================] - 1s 158us/step - loss: 0.4641 - recall: 0.8600 - val_loss: 0.4683 - val_recall: 0.8430\n",
      "Epoch 12/20\n",
      "3728/3728 [==============================] - 1s 160us/step - loss: 0.4592 - recall: 0.8490 - val_loss: 0.4646 - val_recall: 0.8595\n",
      "Epoch 13/20\n",
      "3728/3728 [==============================] - 1s 169us/step - loss: 0.4487 - recall: 0.8678 - val_loss: 0.4627 - val_recall: 0.8368\n",
      "Epoch 14/20\n",
      "3728/3728 [==============================] - 1s 172us/step - loss: 0.4451 - recall: 0.8542 - val_loss: 0.4594 - val_recall: 0.8740\n",
      "Epoch 15/20\n",
      "3728/3728 [==============================] - 1s 161us/step - loss: 0.4396 - recall: 0.8594 - val_loss: 0.4559 - val_recall: 0.8657\n",
      "Epoch 16/20\n",
      "3728/3728 [==============================] - 1s 175us/step - loss: 0.4296 - recall: 0.8594 - val_loss: 0.4525 - val_recall: 0.8574\n",
      "Epoch 17/20\n",
      "3728/3728 [==============================] - 1s 160us/step - loss: 0.4241 - recall: 0.8641 - val_loss: 0.4523 - val_recall: 0.8450\n",
      "Epoch 18/20\n",
      "3728/3728 [==============================] - 1s 168us/step - loss: 0.4197 - recall: 0.8662 - val_loss: 0.4491 - val_recall: 0.8388\n",
      "Epoch 19/20\n",
      "3728/3728 [==============================] - 1s 157us/step - loss: 0.4196 - recall: 0.8610 - val_loss: 0.4506 - val_recall: 0.8512\n",
      "Epoch 20/20\n",
      "3728/3728 [==============================] - 1s 173us/step - loss: 0.4154 - recall: 0.8579 - val_loss: 0.4533 - val_recall: 0.8450\n",
      "1166/1166 [==============================] - 0s 91us/step\n"
     ]
    }
   ],
   "source": [
    "# layer = tf.keras.layers.LeakyReLU(alpha=0.1)\n",
    "# See: About \"advanced activation\" layers at bottom page at\n",
    "#  https://keras.io/api/layers/activations/\n",
    "# See: https://keras.io/api/layers/activation_layers/leaky_relu/\n",
    "\n",
    "model = Sequential()\n",
    "model.add(LeakyReLU(input_shape=(NUM_COMPONENTS,), alpha=0.3))\n",
    "model.add(Dense(8, activation='relu'))\n",
    "model.add(Dense(8, activation='relu'))\n",
    "model.add(Dense(8, activation='relu'))\n",
    "model.add(Dropout(0.125))  # drop out one unit on each train\n",
    "model.add(Dense(1, activation='sigmoid'))\n",
    "model.compile(loss='binary_crossentropy', optimizer='adam', \n",
    "              metrics=[Recall(name='recall')])\n",
    "history = model.fit(x_train, y_train, epochs=NUM_EPOCHS, \n",
    "                    batch_size=BATCH_SIZE, \n",
    "                    validation_split=VALIDATION_SIZE)\n",
    "loss, recall = model.evaluate(x_test, y_test)\n"
   ]
  },
  {
   "cell_type": "code",
   "execution_count": 34,
   "metadata": {},
   "outputs": [
    {
     "name": "stdout",
     "output_type": "stream",
     "text": [
      "1166/1166 [==============================] - 0s 133us/step\n",
      "Recall: 84.44\n"
     ]
    }
   ],
   "source": [
    "# auc, \n",
    "loss, recall = model.evaluate(x_test, y_test)\n",
    "# print('AUC: %.2f' % (auc * 100))\n",
    "print('Recall: %.2f' % (recall * 100))"
   ]
  },
  {
   "cell_type": "code",
   "execution_count": null,
   "metadata": {},
   "outputs": [],
   "source": []
  }
 ],
 "metadata": {
  "kernelspec": {
   "display_name": "Python 3",
   "language": "python",
   "name": "python3"
  },
  "language_info": {
   "codemirror_mode": {
    "name": "ipython",
    "version": 3
   },
   "file_extension": ".py",
   "mimetype": "text/x-python",
   "name": "python",
   "nbconvert_exporter": "python",
   "pygments_lexer": "ipython3",
   "version": "3.7.8"
  }
 },
 "nbformat": 4,
 "nbformat_minor": 4
}
