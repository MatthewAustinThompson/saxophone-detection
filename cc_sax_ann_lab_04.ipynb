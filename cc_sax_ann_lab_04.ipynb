{
 "cells": [
  {
   "cell_type": "code",
   "execution_count": 2,
   "metadata": {},
   "outputs": [],
   "source": [
    "import glob\n",
    "\n",
    "import numpy as np\n",
    "import pandas as pd\n",
    "import matplotlib.pyplot as plt\n",
    "from sklearn.metrics import confusion_matrix, classification_report\n",
    "from keras.models import load_model, Sequential\n",
    "from keras.metrics import AUC, Recall\n",
    "from keras.layers import Dense, Dropout\n",
    "from keras.metrics import Recall\n",
    "from sklearn.svm import SVC\n",
    "from sklearn.model_selection import RandomizedSearchCV\n",
    "from scipy.stats import uniform"
   ]
  },
  {
   "cell_type": "code",
   "execution_count": 3,
   "metadata": {},
   "outputs": [],
   "source": [
    "from _all_saxes import x_train, x_test, y_train, y_test\n",
    "# ^ This will take some time..."
   ]
  },
  {
   "cell_type": "code",
   "execution_count": 4,
   "metadata": {},
   "outputs": [],
   "source": [
    "dependencies = {\n",
    "    'recall': Recall\n",
    "}\n",
    "\n",
    "models = []\n",
    "for fn in glob.glob('./keras_models/model_sax_*'):\n",
    "    # See: https://www.tensorflow.org/guide/keras/save_and_serialize\n",
    "    # See: https://stackoverflow.com/questions/51700351\n",
    "    # See: https://github.com/keras-team/keras/issues/10104\n",
    "    # See: https://stackoverflow.com/questions/61513447 << use compile=False kw param\n",
    "    loaded = load_model(fn, custom_objects=dependencies, compile=False)\n",
    "    models.append(loaded)"
   ]
  },
  {
   "cell_type": "code",
   "execution_count": null,
   "metadata": {},
   "outputs": [],
   "source": [
    "for model in models:\n",
    "    #model.predict(x_test)\n",
    "    model.compile(loss='binary_crossentropy', optimizer='adam', \n",
    "              metrics=[Recall(name='recall')])"
   ]
  },
  {
   "cell_type": "code",
   "execution_count": 12,
   "metadata": {},
   "outputs": [
    {
     "name": "stdout",
     "output_type": "stream",
     "text": [
      "1120/1120 [==============================] - 1s 489us/step\n",
      "1120/1120 [==============================] - 1s 495us/step\n",
      "1120/1120 [==============================] - 1s 485us/step\n",
      "1120/1120 [==============================] - 1s 488us/step\n",
      "1120/1120 [==============================] - 1s 512us/step\n",
      "1120/1120 [==============================] - 1s 500us/step\n",
      "1120/1120 [==============================] - 1s 513us/step\n",
      "1120/1120 [==============================] - 1s 499us/step\n",
      "1120/1120 [==============================] - 1s 519us/step\n",
      "1120/1120 [==============================] - 1s 497us/step\n",
      "1120/1120 [==============================] - 1s 511us/step\n",
      "1120/1120 [==============================] - 1s 557us/step\n",
      "1120/1120 [==============================] - 1s 691us/step\n",
      "1120/1120 [==============================] - 1s 558us/step\n",
      "1120/1120 [==============================] - 1s 530us/step\n",
      "1120/1120 [==============================] - 1s 510us/step\n",
      "1120/1120 [==============================] - 1s 542us/step\n",
      "1120/1120 [==============================] - 1s 521us/step\n",
      "1120/1120 [==============================] - 1s 522us/step\n",
      "1120/1120 [==============================] - 1s 525us/step\n",
      "1120/1120 [==============================] - 1s 530us/step\n",
      "1120/1120 [==============================] - 1s 560us/step\n",
      "1120/1120 [==============================] - 1s 609us/step\n",
      "1120/1120 [==============================] - 1s 544us/step\n",
      "1120/1120 [==============================] - 1s 589us/step\n",
      "1120/1120 [==============================] - 1s 538us/step\n",
      "1120/1120 [==============================] - 1s 541us/step\n",
      "1120/1120 [==============================] - 1s 540us/step\n",
      "1120/1120 [==============================] - 1s 544us/step\n",
      "1120/1120 [==============================] - 1s 560us/step\n",
      "1120/1120 [==============================] - 1s 542us/step\n",
      "1120/1120 [==============================] - 1s 551us/step\n",
      "1120/1120 [==============================] - 1s 583us/step\n",
      "1120/1120 [==============================] - 1s 590us/step\n",
      "1120/1120 [==============================] - 1s 561us/step\n",
      "1120/1120 [==============================] - 1s 1ms/step\n",
      "1120/1120 [==============================] - 1s 735us/step\n",
      "1120/1120 [==============================] - 1s 552us/step\n",
      "1120/1120 [==============================] - 1s 694us/step\n",
      "1120/1120 [==============================] - 1s 560us/step\n",
      "1120/1120 [==============================] - 1s 611us/step\n",
      "1120/1120 [==============================] - 1s 551us/step\n",
      "1120/1120 [==============================] - 1s 570us/step\n",
      "1120/1120 [==============================] - 1s 584us/step\n",
      "1120/1120 [==============================] - 1s 565us/step\n",
      "1120/1120 [==============================] - 1s 553us/step\n",
      "1120/1120 [==============================] - 1s 570us/step\n",
      "1120/1120 [==============================] - 1s 568us/step\n",
      "1120/1120 [==============================] - 1s 567us/step\n",
      "1120/1120 [==============================] - 1s 581us/step\n",
      "1120/1120 [==============================] - 1s 587us/step\n",
      "1120/1120 [==============================] - 1s 572us/step\n",
      "1120/1120 [==============================] - 1s 575us/step\n",
      "1120/1120 [==============================] - 1s 826us/step\n"
     ]
    },
    {
     "data": {
      "text/plain": [
       "[<keras.engine.sequential.Sequential at 0x7f83bdadac90>,\n",
       " <keras.engine.sequential.Sequential at 0x7f83c0c9b950>]"
      ]
     },
     "execution_count": 12,
     "metadata": {},
     "output_type": "execute_result"
    }
   ],
   "source": [
    "best = []\n",
    "for model in models:\n",
    "    _, recall = model.evaluate(x_test, y_test)\n",
    "    if recall > 0.9:\n",
    "        best.append(model)\n",
    "best   "
   ]
  },
  {
   "cell_type": "code",
   "execution_count": 14,
   "metadata": {},
   "outputs": [
    {
     "name": "stdout",
     "output_type": "stream",
     "text": [
      "Model: \"sequential_427\"\n",
      "_________________________________________________________________\n",
      "Layer (type)                 Output Shape              Param #   \n",
      "=================================================================\n",
      "dense_1693 (Dense)           (None, 32)                1056      \n",
      "_________________________________________________________________\n",
      "dropout_841 (Dropout)        (None, 32)                0         \n",
      "_________________________________________________________________\n",
      "dense_1694 (Dense)           (None, 16)                528       \n",
      "_________________________________________________________________\n",
      "dropout_842 (Dropout)        (None, 16)                0         \n",
      "_________________________________________________________________\n",
      "dense_1695 (Dense)           (None, 12)                204       \n",
      "_________________________________________________________________\n",
      "dense_1696 (Dense)           (None, 1)                 13        \n",
      "=================================================================\n",
      "Total params: 1,801\n",
      "Trainable params: 1,801\n",
      "Non-trainable params: 0\n",
      "_________________________________________________________________\n",
      "Model: \"sequential_415\"\n",
      "_________________________________________________________________\n",
      "Layer (type)                 Output Shape              Param #   \n",
      "=================================================================\n",
      "dense_1645 (Dense)           (None, 32)                1056      \n",
      "_________________________________________________________________\n",
      "dropout_817 (Dropout)        (None, 32)                0         \n",
      "_________________________________________________________________\n",
      "dense_1646 (Dense)           (None, 12)                396       \n",
      "_________________________________________________________________\n",
      "dropout_818 (Dropout)        (None, 12)                0         \n",
      "_________________________________________________________________\n",
      "dense_1647 (Dense)           (None, 12)                156       \n",
      "_________________________________________________________________\n",
      "dense_1648 (Dense)           (None, 1)                 13        \n",
      "=================================================================\n",
      "Total params: 1,621\n",
      "Trainable params: 1,621\n",
      "Non-trainable params: 0\n",
      "_________________________________________________________________\n"
     ]
    }
   ],
   "source": [
    "for model in best:\n",
    "    model.summary()"
   ]
  },
  {
   "cell_type": "code",
   "execution_count": null,
   "metadata": {},
   "outputs": [],
   "source": []
  }
 ],
 "metadata": {
  "kernelspec": {
   "display_name": "Python 3",
   "language": "python",
   "name": "python3"
  },
  "language_info": {
   "codemirror_mode": {
    "name": "ipython",
    "version": 3
   },
   "file_extension": ".py",
   "mimetype": "text/x-python",
   "name": "python",
   "nbconvert_exporter": "python",
   "pygments_lexer": "ipython3",
   "version": "3.7.8"
  }
 },
 "nbformat": 4,
 "nbformat_minor": 4
}
