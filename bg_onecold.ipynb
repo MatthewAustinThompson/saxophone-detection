{
 "cells": [
  {
   "cell_type": "code",
   "execution_count": 1,
   "metadata": {},
   "outputs": [],
   "source": [
    "import pickle\n",
    "import numpy as np\n",
    "import pandas as pd\n",
    "import matplotlib.pyplot as plt\n",
    "from sklearn.decomposition import PCA \n",
    "from sklearn.preprocessing import StandardScaler\n",
    "from sklearn.svm import SVC\n",
    "from sklearn.metrics import confusion_matrix, classification_report\n",
    "from sklearn.model_selection import train_test_split, \\\n",
    "    RandomizedSearchCV, GridSearchCV\n",
    "from sklearn.ensemble import BaggingClassifier\n",
    "from scipy.stats import uniform\n",
    "from sklearn.ensemble import RandomForestClassifier"
   ]
  },
  {
   "cell_type": "code",
   "execution_count": 2,
   "metadata": {},
   "outputs": [],
   "source": [
    "df = pd.read_pickle('./all_data.pkl')"
   ]
  },
  {
   "cell_type": "code",
   "execution_count": 3,
   "metadata": {},
   "outputs": [],
   "source": [
    "NUM_LABEL_COLS = 13\n",
    "NUM_COMPONENTS = 26\n",
    "RANDOM_SEED = 0"
   ]
  },
  {
   "cell_type": "code",
   "execution_count": 4,
   "metadata": {},
   "outputs": [
    {
     "data": {
      "text/plain": [
       "(9080, 10790)"
      ]
     },
     "execution_count": 4,
     "metadata": {},
     "output_type": "execute_result"
    }
   ],
   "source": [
    "df_filtered = df\n",
    "df_filtered.shape"
   ]
  },
  {
   "cell_type": "code",
   "execution_count": 5,
   "metadata": {},
   "outputs": [],
   "source": [
    "# # exclude records we want to exclude\n",
    "# df_filtered = df_filtered[df_filtered['trmp'] == '0']\n",
    "# df_filtered = df_filtered[df_filtered['trmb'] == '0']\n",
    "# df_filtered = df_filtered[df_filtered['otrb'] == '0']\n",
    "# df_filtered = df_filtered[df_filtered['ext'] == '0']\n",
    "# df_filtered = df_filtered[df_filtered['excl'] == '0']\n",
    "# print('df filt shape: ', df_filtered.shape)\n",
    "\n",
    "# # we are keeping sop, alt, tenr, tora, bari, clrt, other = 7\n",
    "#                                                                         # off by one?\n",
    "num_x_cols = df_filtered.shape[1] - NUM_LABEL_COLS                      # - 1 \n",
    "# print('num_x_cols:', num_x_cols)\n",
    "\n",
    "data = df.iloc[:, 1:num_x_cols].to_numpy() \n",
    "# ^ These are the features\n",
    "\n",
    "scaler = StandardScaler()\n",
    "scaler.fit(data)\n",
    "data = scaler.transform(data)"
   ]
  },
  {
   "cell_type": "code",
   "execution_count": 6,
   "metadata": {},
   "outputs": [],
   "source": [
    "col_names = df.columns[-13:-2]"
   ]
  },
  {
   "cell_type": "code",
   "execution_count": 7,
   "metadata": {},
   "outputs": [
    {
     "name": "stdout",
     "output_type": "stream",
     "text": [
      "Index(['sop', 'alto', 'tenr', 'tora', 'bari', 'clrt', 'othr', 'trmp', 'trmb',\n",
      "       'otrb', 'ext'],\n",
      "      dtype='object')\n"
     ]
    }
   ],
   "source": [
    "print(col_names)"
   ]
  },
  {
   "cell_type": "code",
   "execution_count": 8,
   "metadata": {},
   "outputs": [],
   "source": [
    "target = np.zeros(df.shape[0], int)"
   ]
  },
  {
   "cell_type": "code",
   "execution_count": 9,
   "metadata": {},
   "outputs": [
    {
     "data": {
      "text/plain": [
       "(9080,)"
      ]
     },
     "execution_count": 9,
     "metadata": {},
     "output_type": "execute_result"
    }
   ],
   "source": [
    "target.shape"
   ]
  },
  {
   "cell_type": "code",
   "execution_count": 10,
   "metadata": {},
   "outputs": [
    {
     "name": "stdout",
     "output_type": "stream",
     "text": [
      "{2: 'sop', 3: 'alto', 4: 'tenr', 5: 'tora', 6: 'bari', 7: 'clrt', 8: 'othr', 9: 'trmp', 10: 'trmb', 11: 'otrb', 12: 'ext'}\n"
     ]
    }
   ],
   "source": [
    "indices = {}\n",
    "targ_name = {}\n",
    "k = 1\n",
    "for instrument in col_names:\n",
    "#     print(k)\n",
    "    targ_col = df[[instrument]].to_numpy() # extract instrument target column\n",
    "    ind = np.where(targ_col == '1')[0]     # find where instrument is playing\n",
    "    indices[instrument] = ind              # write indices to dict\n",
    "    target[ind] = k                        # put into a not-one-hot encoding\n",
    "    k = k+1\n",
    "    targ_name[k] = instrument\n",
    "print(targ_name)"
   ]
  },
  {
   "cell_type": "code",
   "execution_count": 11,
   "metadata": {},
   "outputs": [
    {
     "name": "stdout",
     "output_type": "stream",
     "text": [
      "[3 3 3 ... 0 8 0]\n"
     ]
    }
   ],
   "source": [
    "print(target)"
   ]
  },
  {
   "cell_type": "code",
   "execution_count": null,
   "metadata": {},
   "outputs": [],
   "source": []
  },
  {
   "cell_type": "code",
   "execution_count": 12,
   "metadata": {},
   "outputs": [
    {
     "data": {
      "text/plain": [
       "PCA(n_components=100)"
      ]
     },
     "execution_count": 12,
     "metadata": {},
     "output_type": "execute_result"
    }
   ],
   "source": [
    "pca = PCA(n_components=NUM_COMPONENTS)\n",
    "pca.fit(data)\n",
    "PCA(n_components=100)"
   ]
  },
  {
   "cell_type": "code",
   "execution_count": 13,
   "metadata": {},
   "outputs": [],
   "source": [
    "d = pca.transform(data)"
   ]
  },
  {
   "cell_type": "code",
   "execution_count": 14,
   "metadata": {},
   "outputs": [],
   "source": [
    "x_train, x_test, y_train, y_test = \\\n",
    "     train_test_split(d, target, test_size=0.20, random_state=0)"
   ]
  },
  {
   "cell_type": "code",
   "execution_count": 15,
   "metadata": {},
   "outputs": [],
   "source": [
    "def evaluate_classifer(clf, x_train, y_train, x_test, y_test):\n",
    "    \n",
    "    # train model\n",
    "    clf_trained = clf.fit(x_train,y_train)\n",
    "\n",
    "#     print(x_train.shape)\n",
    "#     print(x_test.shape)\n",
    "#     print(y_train.shape)\n",
    "#     print(y_test.shape)\n",
    "    \n",
    "    # test model\n",
    "    y_predict = clf.predict(x_test)\n",
    "    # score model\n",
    "    clf_score = clf.score(x_test, y_test)\n",
    "    \n",
    "    print(classification_report(y_test, y_predict))\n",
    "    \n",
    "    confus_mat = pd.DataFrame(confusion_matrix(y_test, y_predict))\n",
    "    \n",
    "    plt.imshow(confus_mat)\n",
    "    \n",
    "    return {'clf_trained': clf_trained,\\\n",
    "            'x_train': x_train, 'x_test': x_test,\\\n",
    "            'y_train': y_train, 'y_test': y_test,\\\n",
    "            'y_predict': y_predict,\\\n",
    "            'clf_score':clf_score,\\\n",
    "            'confus_mat':confus_mat}\n",
    "    \n",
    "def show_confus(eval_clf):\n",
    "    plt.imshow(eval_clf['confus_mat'])\n",
    "    plt.xlabel('predicted class')\n",
    "    plt.ylabel('actual class')\n",
    "    plt.title('confusion matrix')"
   ]
  },
  {
   "cell_type": "code",
   "execution_count": 16,
   "metadata": {},
   "outputs": [
    {
     "name": "stdout",
     "output_type": "stream",
     "text": [
      "              precision    recall  f1-score   support\n",
      "\n",
      "           0       0.72      0.73      0.72       593\n",
      "           1       0.60      0.28      0.38        32\n",
      "           2       0.73      0.24      0.36       170\n",
      "           3       0.56      0.89      0.69       669\n",
      "           4       0.00      0.00      0.00         5\n",
      "           6       0.00      0.00      0.00        28\n",
      "           7       1.00      0.12      0.22         8\n",
      "           8       0.63      0.18      0.28       256\n",
      "           9       1.00      0.16      0.28        37\n",
      "          10       0.00      0.00      0.00         3\n",
      "          11       0.83      0.33      0.48        15\n",
      "\n",
      "    accuracy                           0.63      1816\n",
      "   macro avg       0.55      0.27      0.31      1816\n",
      "weighted avg       0.64      0.63      0.58      1816\n",
      "\n"
     ]
    },
    {
     "name": "stderr",
     "output_type": "stream",
     "text": [
      "D:\\Program_Files\\Anaconda3\\lib\\site-packages\\sklearn\\metrics\\_classification.py:1221: UndefinedMetricWarning: Precision and F-score are ill-defined and being set to 0.0 in labels with no predicted samples. Use `zero_division` parameter to control this behavior.\n",
      "  _warn_prf(average, modifier, msg_start, len(result))\n"
     ]
    },
    {
     "data": {
      "image/png": "[encoded data removed]",
      "text/plain": [
       "<Figure size 432x288 with 1 Axes>"
      ]
     },
     "metadata": {
      "needs_background": "light"
     },
     "output_type": "display_data"
    }
   ],
   "source": [
    "clf_SVM_poly = SVC(kernel = 'poly')\n",
    "eval_SVM_poly = evaluate_classifer(clf_SVM_poly, x_train, y_train, x_test, y_test)"
   ]
  },
  {
   "cell_type": "code",
   "execution_count": 94,
   "metadata": {},
   "outputs": [
    {
     "name": "stdout",
     "output_type": "stream",
     "text": [
      "              precision    recall  f1-score   support\n",
      "\n",
      "           0       0.71      0.84      0.77       593\n",
      "           1       1.00      0.16      0.27        32\n",
      "           2       0.62      0.35      0.45       170\n",
      "           3       0.66      0.87      0.75       669\n",
      "           4       0.00      0.00      0.00         5\n",
      "           6       0.00      0.00      0.00        28\n",
      "           7       1.00      0.12      0.22         8\n",
      "           8       0.61      0.30      0.41       256\n",
      "           9       1.00      0.14      0.24        37\n",
      "          10       0.00      0.00      0.00         3\n",
      "          11       0.00      0.00      0.00        15\n",
      "\n",
      "    accuracy                           0.68      1816\n",
      "   macro avg       0.51      0.25      0.28      1816\n",
      "weighted avg       0.66      0.68      0.64      1816\n",
      "\n"
     ]
    },
    {
     "name": "stderr",
     "output_type": "stream",
     "text": [
      "D:\\Program_Files\\Anaconda3\\lib\\site-packages\\sklearn\\metrics\\_classification.py:1221: UndefinedMetricWarning: Precision and F-score are ill-defined and being set to 0.0 in labels with no predicted samples. Use `zero_division` parameter to control this behavior.\n",
      "  _warn_prf(average, modifier, msg_start, len(result))\n"
     ]
    },
    {
     "data": {
      "image/png": "[encoded data removed]",
      "text/plain": [
       "<Figure size 432x288 with 1 Axes>"
      ]
     },
     "metadata": {
      "needs_background": "light"
     },
     "output_type": "display_data"
    }
   ],
   "source": [
    "clf_SVM_rbf = SVC(kernel='rbf')\n",
    "eval_SVM_rbf = evaluate_classifer(clf_SVM_rbf, x_train, y_train, x_test, y_test)"
   ]
  },
  {
   "cell_type": "code",
   "execution_count": 97,
   "metadata": {},
   "outputs": [
    {
     "name": "stdout",
     "output_type": "stream",
     "text": [
      "              precision    recall  f1-score   support\n",
      "\n",
      "           0       0.60      0.80      0.69       593\n",
      "           1       0.50      0.12      0.20        32\n",
      "           2       0.46      0.25      0.33       170\n",
      "           3       0.63      0.77      0.69       669\n",
      "           4       0.00      0.00      0.00         5\n",
      "           6       0.67      0.07      0.13        28\n",
      "           7       0.00      0.00      0.00         8\n",
      "           8       0.51      0.20      0.28       256\n",
      "           9       1.00      0.19      0.32        37\n",
      "          10       0.00      0.00      0.00         3\n",
      "          11       1.00      0.13      0.24        15\n",
      "\n",
      "    accuracy                           0.61      1816\n",
      "   macro avg       0.49      0.23      0.26      1816\n",
      "weighted avg       0.59      0.61      0.56      1816\n",
      "\n"
     ]
    },
    {
     "name": "stderr",
     "output_type": "stream",
     "text": [
      "D:\\Program_Files\\Anaconda3\\lib\\site-packages\\sklearn\\metrics\\_classification.py:1221: UndefinedMetricWarning: Precision and F-score are ill-defined and being set to 0.0 in labels with no predicted samples. Use `zero_division` parameter to control this behavior.\n",
      "  _warn_prf(average, modifier, msg_start, len(result))\n"
     ]
    },
    {
     "data": {
      "image/png": "[encoded data removed]",
      "text/plain": [
       "<Figure size 432x288 with 1 Axes>"
      ]
     },
     "metadata": {
      "needs_background": "light"
     },
     "output_type": "display_data"
    }
   ],
   "source": [
    "clf_forest_n10 = RandomForestClassifier(n_estimators=10)\n",
    "eval_forest_n10 = evaluate_classifer(clf_forest_n10, x_train, y_train, x_test, y_test)"
   ]
  },
  {
   "cell_type": "code",
   "execution_count": 18,
   "metadata": {},
   "outputs": [
    {
     "name": "stdout",
     "output_type": "stream",
     "text": [
      "              precision    recall  f1-score   support\n",
      "\n",
      "           0       0.71      0.84      0.77       593\n",
      "           1       1.00      0.25      0.40        32\n",
      "           2       0.62      0.34      0.44       170\n",
      "           3       0.67      0.87      0.76       669\n",
      "           4       0.00      0.00      0.00         5\n",
      "           6       1.00      0.07      0.13        28\n",
      "           7       1.00      0.12      0.22         8\n",
      "           8       0.66      0.32      0.44       256\n",
      "           9       0.78      0.19      0.30        37\n",
      "          10       0.00      0.00      0.00         3\n",
      "          11       0.80      0.27      0.40        15\n",
      "\n",
      "    accuracy                           0.69      1816\n",
      "   macro avg       0.66      0.30      0.35      1816\n",
      "weighted avg       0.69      0.69      0.65      1816\n",
      "\n"
     ]
    },
    {
     "name": "stderr",
     "output_type": "stream",
     "text": [
      "D:\\Program_Files\\Anaconda3\\lib\\site-packages\\sklearn\\metrics\\_classification.py:1221: UndefinedMetricWarning: Precision and F-score are ill-defined and being set to 0.0 in labels with no predicted samples. Use `zero_division` parameter to control this behavior.\n",
      "  _warn_prf(average, modifier, msg_start, len(result))\n"
     ]
    },
    {
     "data": {
      "image/png": "[encoded data removed]",
      "text/plain": [
       "<Figure size 432x288 with 1 Axes>"
      ]
     },
     "metadata": {
      "needs_background": "light"
     },
     "output_type": "display_data"
    }
   ],
   "source": [
    "clf_bagged = BaggingClassifier(base_estimator=SVC(C=0.8622715404699739,\n",
    "                                           probability=True),\n",
    "                        n_estimators=500, \n",
    "                        max_features=21,\n",
    "                        random_state=0,\n",
    "                        n_jobs=-1)\n",
    "eval_bagged = evaluate_classifer(clf_bagged, x_train, y_train, x_test, y_test)"
   ]
  },
  {
   "cell_type": "code",
   "execution_count": 25,
   "metadata": {},
   "outputs": [
    {
     "data": {
      "text/html": [
       "<div>\n",
       "<style scoped>\n",
       "    .dataframe tbody tr th:only-of-type {\n",
       "        vertical-align: middle;\n",
       "    }\n",
       "\n",
       "    .dataframe tbody tr th {\n",
       "        vertical-align: top;\n",
       "    }\n",
       "\n",
       "    .dataframe thead th {\n",
       "        text-align: right;\n",
       "    }\n",
       "</style>\n",
       "<table border=\"1\" class=\"dataframe\">\n",
       "  <thead>\n",
       "    <tr style=\"text-align: right;\">\n",
       "      <th></th>\n",
       "      <th>0</th>\n",
       "      <th>1</th>\n",
       "      <th>2</th>\n",
       "      <th>3</th>\n",
       "      <th>4</th>\n",
       "      <th>5</th>\n",
       "      <th>6</th>\n",
       "      <th>7</th>\n",
       "      <th>8</th>\n",
       "      <th>9</th>\n",
       "      <th>10</th>\n",
       "    </tr>\n",
       "  </thead>\n",
       "  <tbody>\n",
       "    <tr>\n",
       "      <th>0</th>\n",
       "      <td>501</td>\n",
       "      <td>0</td>\n",
       "      <td>10</td>\n",
       "      <td>67</td>\n",
       "      <td>0</td>\n",
       "      <td>0</td>\n",
       "      <td>0</td>\n",
       "      <td>14</td>\n",
       "      <td>1</td>\n",
       "      <td>0</td>\n",
       "      <td>0</td>\n",
       "    </tr>\n",
       "    <tr>\n",
       "      <th>1</th>\n",
       "      <td>8</td>\n",
       "      <td>8</td>\n",
       "      <td>3</td>\n",
       "      <td>10</td>\n",
       "      <td>0</td>\n",
       "      <td>0</td>\n",
       "      <td>0</td>\n",
       "      <td>3</td>\n",
       "      <td>0</td>\n",
       "      <td>0</td>\n",
       "      <td>0</td>\n",
       "    </tr>\n",
       "    <tr>\n",
       "      <th>2</th>\n",
       "      <td>32</td>\n",
       "      <td>0</td>\n",
       "      <td>58</td>\n",
       "      <td>71</td>\n",
       "      <td>0</td>\n",
       "      <td>0</td>\n",
       "      <td>0</td>\n",
       "      <td>9</td>\n",
       "      <td>0</td>\n",
       "      <td>0</td>\n",
       "      <td>0</td>\n",
       "    </tr>\n",
       "    <tr>\n",
       "      <th>3</th>\n",
       "      <td>71</td>\n",
       "      <td>0</td>\n",
       "      <td>6</td>\n",
       "      <td>581</td>\n",
       "      <td>0</td>\n",
       "      <td>0</td>\n",
       "      <td>0</td>\n",
       "      <td>9</td>\n",
       "      <td>1</td>\n",
       "      <td>0</td>\n",
       "      <td>1</td>\n",
       "    </tr>\n",
       "    <tr>\n",
       "      <th>4</th>\n",
       "      <td>1</td>\n",
       "      <td>0</td>\n",
       "      <td>0</td>\n",
       "      <td>4</td>\n",
       "      <td>0</td>\n",
       "      <td>0</td>\n",
       "      <td>0</td>\n",
       "      <td>0</td>\n",
       "      <td>0</td>\n",
       "      <td>0</td>\n",
       "      <td>0</td>\n",
       "    </tr>\n",
       "    <tr>\n",
       "      <th>5</th>\n",
       "      <td>13</td>\n",
       "      <td>0</td>\n",
       "      <td>0</td>\n",
       "      <td>12</td>\n",
       "      <td>0</td>\n",
       "      <td>2</td>\n",
       "      <td>0</td>\n",
       "      <td>1</td>\n",
       "      <td>0</td>\n",
       "      <td>0</td>\n",
       "      <td>0</td>\n",
       "    </tr>\n",
       "    <tr>\n",
       "      <th>6</th>\n",
       "      <td>1</td>\n",
       "      <td>0</td>\n",
       "      <td>1</td>\n",
       "      <td>5</td>\n",
       "      <td>0</td>\n",
       "      <td>0</td>\n",
       "      <td>1</td>\n",
       "      <td>0</td>\n",
       "      <td>0</td>\n",
       "      <td>0</td>\n",
       "      <td>0</td>\n",
       "    </tr>\n",
       "    <tr>\n",
       "      <th>7</th>\n",
       "      <td>59</td>\n",
       "      <td>0</td>\n",
       "      <td>14</td>\n",
       "      <td>100</td>\n",
       "      <td>0</td>\n",
       "      <td>0</td>\n",
       "      <td>0</td>\n",
       "      <td>83</td>\n",
       "      <td>0</td>\n",
       "      <td>0</td>\n",
       "      <td>0</td>\n",
       "    </tr>\n",
       "    <tr>\n",
       "      <th>8</th>\n",
       "      <td>15</td>\n",
       "      <td>0</td>\n",
       "      <td>1</td>\n",
       "      <td>10</td>\n",
       "      <td>0</td>\n",
       "      <td>0</td>\n",
       "      <td>0</td>\n",
       "      <td>4</td>\n",
       "      <td>7</td>\n",
       "      <td>0</td>\n",
       "      <td>0</td>\n",
       "    </tr>\n",
       "    <tr>\n",
       "      <th>9</th>\n",
       "      <td>0</td>\n",
       "      <td>0</td>\n",
       "      <td>1</td>\n",
       "      <td>2</td>\n",
       "      <td>0</td>\n",
       "      <td>0</td>\n",
       "      <td>0</td>\n",
       "      <td>0</td>\n",
       "      <td>0</td>\n",
       "      <td>0</td>\n",
       "      <td>0</td>\n",
       "    </tr>\n",
       "    <tr>\n",
       "      <th>10</th>\n",
       "      <td>1</td>\n",
       "      <td>0</td>\n",
       "      <td>0</td>\n",
       "      <td>8</td>\n",
       "      <td>0</td>\n",
       "      <td>0</td>\n",
       "      <td>0</td>\n",
       "      <td>2</td>\n",
       "      <td>0</td>\n",
       "      <td>0</td>\n",
       "      <td>4</td>\n",
       "    </tr>\n",
       "  </tbody>\n",
       "</table>\n",
       "</div>"
      ],
      "text/plain": [
       "     0   1   2    3   4   5   6   7   8   9   10\n",
       "0   501   0  10   67   0   0   0  14   1   0   0\n",
       "1     8   8   3   10   0   0   0   3   0   0   0\n",
       "2    32   0  58   71   0   0   0   9   0   0   0\n",
       "3    71   0   6  581   0   0   0   9   1   0   1\n",
       "4     1   0   0    4   0   0   0   0   0   0   0\n",
       "5    13   0   0   12   0   2   0   1   0   0   0\n",
       "6     1   0   1    5   0   0   1   0   0   0   0\n",
       "7    59   0  14  100   0   0   0  83   0   0   0\n",
       "8    15   0   1   10   0   0   0   4   7   0   0\n",
       "9     0   0   1    2   0   0   0   0   0   0   0\n",
       "10    1   0   0    8   0   0   0   2   0   0   4"
      ]
     },
     "execution_count": 25,
     "metadata": {},
     "output_type": "execute_result"
    }
   ],
   "source": [
    "eval_bagged.keys()\n",
    "eval_bagged['confus_mat']"
   ]
  },
  {
   "cell_type": "code",
   "execution_count": null,
   "metadata": {},
   "outputs": [],
   "source": []
  },
  {
   "cell_type": "code",
   "execution_count": null,
   "metadata": {},
   "outputs": [],
   "source": []
  },
  {
   "cell_type": "code",
   "execution_count": null,
   "metadata": {},
   "outputs": [],
   "source": []
  }
 ],
 "metadata": {
  "kernelspec": {
   "display_name": "Python 3",
   "language": "python",
   "name": "python3"
  },
  "language_info": {
   "codemirror_mode": {
    "name": "ipython",
    "version": 3
   },
   "file_extension": ".py",
   "mimetype": "text/x-python",
   "name": "python",
   "nbconvert_exporter": "python",
   "pygments_lexer": "ipython3",
   "version": "3.7.1"
  }
 },
 "nbformat": 4,
 "nbformat_minor": 4
}
