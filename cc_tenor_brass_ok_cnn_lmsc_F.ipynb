{
 "cells": [
  {
   "cell_type": "code",
   "execution_count": 2,
   "metadata": {},
   "outputs": [],
   "source": [
    "import pandas as pd\n",
    "import matplotlib.pyplot as plt\n",
    "from keras.models import load_model, Sequential\n",
    "from keras.layers import Dense, Flatten, Dropout, \\\n",
    "    Conv2D, MaxPooling2D, AveragePooling2D\n",
    "from keras.metrics import AUC, Recall\n",
    "from sklearn.model_selection import train_test_split\n",
    "from sklearn.preprocessing import StandardScaler\n",
    "\n",
    "from _common import NUM_LABEL_COLS, RANDOM_SEED\n",
    "from _tenor_lmsc_brass_ok import TEST_SIZE, VALIDATION_SIZE, \\\n",
    "    BANDS, TIME_SLICES, master, lmss, data, target\n",
    "# Note that records are read from pickle, selected, filtered,\n",
    "# and scaled with `sklearn.preprocessing.StandardScaler` \n",
    "# in `_tenor_lmsc_brass_ok.py`."
   ]
  },
  {
   "cell_type": "code",
   "execution_count": 3,
   "metadata": {},
   "outputs": [],
   "source": [
    "x_train, x_test, y_train, y_test = \\\n",
    "     train_test_split(data, target,\n",
    "                      test_size=TEST_SIZE,\n",
    "                      random_state=RANDOM_SEED)"
   ]
  },
  {
   "cell_type": "code",
   "execution_count": 4,
   "metadata": {},
   "outputs": [],
   "source": [
    "# Reshape for input to 2D convolutional layer\n",
    "x_train = x_train.reshape(x_train.shape[0], BANDS, TIME_SLICES, 1)\n",
    "x_test = x_test.reshape(x_test.shape[0], BANDS, TIME_SLICES, 1)"
   ]
  },
  {
   "cell_type": "code",
   "execution_count": 6,
   "metadata": {},
   "outputs": [
    {
     "name": "stdout",
     "output_type": "stream",
     "text": [
      "WARNING:tensorflow:From /Applications/anaconda3/lib/python3.7/site-packages/keras/backend/tensorflow_backend.py:4070: The name tf.nn.max_pool is deprecated. Please use tf.nn.max_pool2d instead.\n",
      "\n"
     ]
    }
   ],
   "source": [
    "dependencies = {\n",
    "    'recall': Recall\n",
    "}\n",
    "\n",
    "fn = './data/keras_models/tenor_cnn/tenor_cnn_F.h5'\n",
    "model = load_model(fn, custom_objects=dependencies, compile=False)"
   ]
  },
  {
   "cell_type": "code",
   "execution_count": 7,
   "metadata": {},
   "outputs": [
    {
     "name": "stdout",
     "output_type": "stream",
     "text": [
      "WARNING:tensorflow:From /Applications/anaconda3/lib/python3.7/site-packages/keras/backend/tensorflow_backend.py:3172: add_dispatch_support.<locals>.wrapper (from tensorflow.python.ops.array_ops) is deprecated and will be removed in a future version.\n",
      "Instructions for updating:\n",
      "Use tf.where in 2.0, which has the same broadcast rule as np.where\n"
     ]
    }
   ],
   "source": [
    "model.compile(loss='binary_crossentropy', optimizer='adam', \n",
    "              metrics=[Recall(name='recall'), 'accuracy'])"
   ]
  },
  {
   "cell_type": "code",
   "execution_count": 9,
   "metadata": {},
   "outputs": [
    {
     "name": "stdout",
     "output_type": "stream",
     "text": [
      "WARNING:tensorflow:From /Applications/anaconda3/lib/python3.7/site-packages/keras/backend/tensorflow_backend.py:422: The name tf.global_variables is deprecated. Please use tf.compat.v1.global_variables instead.\n",
      "\n",
      "Train on 4276 samples, validate on 1070 samples\n",
      "Epoch 1/12\n",
      "4276/4276 [==============================] - 117s 27ms/step - loss: 0.2923 - recall: 0.9141 - accuracy: 0.8990 - val_loss: 0.2417 - val_recall: 0.9232 - val_accuracy: 0.9112\n",
      "Epoch 2/12\n",
      "4276/4276 [==============================] - 115s 27ms/step - loss: 0.1919 - recall: 0.9322 - accuracy: 0.9270 - val_loss: 0.2316 - val_recall: 0.9347 - val_accuracy: 0.9131\n",
      "Epoch 3/12\n",
      "4276/4276 [==============================] - 187s 44ms/step - loss: 0.1413 - recall: 0.9556 - accuracy: 0.9471 - val_loss: 0.2584 - val_recall: 0.8560 - val_accuracy: 0.8972\n",
      "Epoch 4/12\n",
      "4276/4276 [==============================] - 178s 42ms/step - loss: 0.0886 - recall: 0.9668 - accuracy: 0.9675 - val_loss: 0.3169 - val_recall: 0.9328 - val_accuracy: 0.9103\n",
      "Epoch 5/12\n",
      "4276/4276 [==============================] - 171s 40ms/step - loss: 0.0763 - recall: 0.9712 - accuracy: 0.9701 - val_loss: 0.4023 - val_recall: 0.8791 - val_accuracy: 0.9000\n",
      "Epoch 6/12\n",
      "4276/4276 [==============================] - 117s 27ms/step - loss: 0.0580 - recall: 0.9815 - accuracy: 0.9806 - val_loss: 0.2817 - val_recall: 0.9098 - val_accuracy: 0.9093\n",
      "Epoch 7/12\n",
      "4276/4276 [==============================] - 131s 31ms/step - loss: 0.0355 - recall: 0.9888 - accuracy: 0.9869 - val_loss: 0.3462 - val_recall: 0.8964 - val_accuracy: 0.9140\n",
      "Epoch 8/12\n",
      "4276/4276 [==============================] - 126s 30ms/step - loss: 0.0364 - recall: 0.9878 - accuracy: 0.9890 - val_loss: 0.3574 - val_recall: 0.9213 - val_accuracy: 0.9121\n",
      "Epoch 9/12\n",
      "4276/4276 [==============================] - 111s 26ms/step - loss: 0.0209 - recall: 0.9927 - accuracy: 0.9923 - val_loss: 0.4500 - val_recall: 0.8810 - val_accuracy: 0.9028\n",
      "Epoch 10/12\n",
      "4276/4276 [==============================] - 110s 26ms/step - loss: 0.0308 - recall: 0.9883 - accuracy: 0.9904 - val_loss: 0.4907 - val_recall: 0.8772 - val_accuracy: 0.8981\n",
      "Epoch 11/12\n",
      "4276/4276 [==============================] - 110s 26ms/step - loss: 0.0312 - recall: 0.9902 - accuracy: 0.9899 - val_loss: 0.4665 - val_recall: 0.8541 - val_accuracy: 0.9009\n",
      "Epoch 12/12\n",
      "4276/4276 [==============================] - 110s 26ms/step - loss: 0.0278 - recall: 0.9902 - accuracy: 0.9904 - val_loss: 0.6388 - val_recall: 0.8733 - val_accuracy: 0.8944\n"
     ]
    }
   ],
   "source": [
    "NUM_EPOCHS = 12\n",
    "BATCH_SIZE = 32\n",
    "history = model.fit(x_train, y_train, epochs=NUM_EPOCHS, \n",
    "                    batch_size=BATCH_SIZE, \n",
    "                    validation_split=VALIDATION_SIZE)"
   ]
  },
  {
   "cell_type": "code",
   "execution_count": 10,
   "metadata": {},
   "outputs": [
    {
     "name": "stdout",
     "output_type": "stream",
     "text": [
      "1337/1337 [==============================] - 7s 5ms/step\n",
      "Recall: 86.70\n",
      "Accuracy: 90.13\n"
     ]
    }
   ],
   "source": [
    "# auc, \n",
    "loss, recall, accuracy = model.evaluate(x_test, y_test)\n",
    "# print('AUC: %.2f' % (auc * 100))\n",
    "print('Recall: %.2f' % (recall * 100))\n",
    "print('Accuracy: %.2f' % (accuracy * 100))"
   ]
  },
  {
   "cell_type": "code",
   "execution_count": 11,
   "metadata": {},
   "outputs": [
    {
     "data": {
      "image/png": "[encoded data removed]",
      "text/plain": [
       "<Figure size 576x360 with 1 Axes>"
      ]
     },
     "metadata": {
      "needs_background": "light"
     },
     "output_type": "display_data"
    }
   ],
   "source": [
    "# history is a keras.callbacks.callbacks.History object\n",
    "pd.DataFrame(history.history).plot(figsize=(8, 5))\n",
    "plt.grid(True)\n",
    "plt.gca().set_ylim(0, 1)\n",
    "plt.show()"
   ]
  },
  {
   "cell_type": "code",
   "execution_count": 12,
   "metadata": {},
   "outputs": [],
   "source": [
    "model.save('./data/keras_models/tenor_brass_ok_cnn_F.h5')"
   ]
  },
  {
   "cell_type": "code",
   "execution_count": null,
   "metadata": {},
   "outputs": [],
   "source": []
  }
 ],
 "metadata": {
  "kernelspec": {
   "display_name": "Python 3",
   "language": "python",
   "name": "python3"
  },
  "language_info": {
   "codemirror_mode": {
    "name": "ipython",
    "version": 3
   },
   "file_extension": ".py",
   "mimetype": "text/x-python",
   "name": "python",
   "nbconvert_exporter": "python",
   "pygments_lexer": "ipython3",
   "version": "3.7.8"
  }
 },
 "nbformat": 4,
 "nbformat_minor": 4
}
