{
 "cells": [
  {
   "cell_type": "markdown",
   "metadata": {},
   "source": [
    "# Tenor saxophone\n",
    "\n",
    "* Sample duration = 5s\n",
    "* model = SVM\n",
    "* target = TENOR\n",
    "\n",
    "Distinguish between samples with tenor saxophone from those without tenor saxophone. Other reed instruments excluded. Brass instruments not excluded."
   ]
  },
  {
   "cell_type": "code",
   "execution_count": 3,
   "metadata": {},
   "outputs": [],
   "source": [
    "import numpy as np\n",
    "import pandas as pd\n",
    "import matplotlib.pyplot as plt\n",
    "from sklearn.decomposition import PCA \n",
    "from sklearn.preprocessing import StandardScaler\n",
    "from sklearn.svm import SVC\n",
    "from sklearn.metrics import confusion_matrix, classification_report\n",
    "from sklearn.model_selection import train_test_split, \\\n",
    "                                    RandomizedSearchCV, GridSearchCV\n",
    "from sklearn.ensemble import BaggingClassifier\n",
    "from scipy.stats import uniform"
   ]
  },
  {
   "cell_type": "code",
   "execution_count": 4,
   "metadata": {},
   "outputs": [],
   "source": [
    "df = pd.read_pickle('./data/5s/labeled/features_r02/all_data.pkl')"
   ]
  },
  {
   "cell_type": "code",
   "execution_count": 5,
   "metadata": {},
   "outputs": [],
   "source": [
    "NUM_LABEL_COLS = 13\n",
    "NUM_COMPONENTS = 34\n",
    "TEST_SIZE = 0.2\n",
    "RANDOM_SEED = 0"
   ]
  },
  {
   "cell_type": "code",
   "execution_count": 6,
   "metadata": {},
   "outputs": [
    {
     "data": {
      "text/plain": [
       "(9080, 10790)"
      ]
     },
     "execution_count": 6,
     "metadata": {},
     "output_type": "execute_result"
    }
   ],
   "source": [
    "df_filtered = df\n",
    "df_filtered.shape"
   ]
  },
  {
   "cell_type": "code",
   "execution_count": 8,
   "metadata": {},
   "outputs": [
    {
     "name": "stdout",
     "output_type": "stream",
     "text": [
      "(7594, 10776)\n",
      "(7594,)\n"
     ]
    }
   ],
   "source": [
    "# exclude records we want to exclude\n",
    "df_filtered = df_filtered[df_filtered['alto'] == '0'] \n",
    "df_filtered = df_filtered[df_filtered['sop'] == '0']\n",
    "df_filtered = df_filtered[df_filtered['bari'] == '0']\n",
    "df_filtered = df_filtered[df_filtered['clrt'] == '0']\n",
    "df_filtered = df_filtered[df_filtered['tora'] == '0']\n",
    "df_filtered = df_filtered[df_filtered['othr'] == '0']\n",
    "\n",
    "num_x_cols = df_filtered.shape[1] - NUM_LABEL_COLS  \n",
    "# ^ last bit to adjust for zero indexing\n",
    "data = df_filtered.iloc[:, 1:num_x_cols].to_numpy() \n",
    "# ^ These are the features\n",
    "scaler = StandardScaler()\n",
    "scaler.fit(data)\n",
    "data = scaler.transform(data)\n",
    "\n",
    "target = df_filtered[['tenr']].to_numpy().ravel()  # << This is the label\n",
    "\n",
    "print(data.shape)\n",
    "print(target.shape)"
   ]
  },
  {
   "cell_type": "code",
   "execution_count": 9,
   "metadata": {},
   "outputs": [],
   "source": [
    "pca = PCA(n_components=NUM_COMPONENTS)"
   ]
  },
  {
   "cell_type": "code",
   "execution_count": 10,
   "metadata": {},
   "outputs": [
    {
     "data": {
      "text/plain": [
       "PCA(n_components=34)"
      ]
     },
     "execution_count": 10,
     "metadata": {},
     "output_type": "execute_result"
    }
   ],
   "source": [
    "pca.fit(data)"
   ]
  },
  {
   "cell_type": "code",
   "execution_count": 11,
   "metadata": {},
   "outputs": [],
   "source": [
    "d = pca.transform(data)"
   ]
  },
  {
   "cell_type": "code",
   "execution_count": 12,
   "metadata": {},
   "outputs": [],
   "source": [
    "x_train, x_test, y_train, y_test = \\\n",
    "     train_test_split(d, target, test_size=TEST_SIZE, random_state=RANDOM_SEED)"
   ]
  },
  {
   "cell_type": "markdown",
   "metadata": {},
   "source": [
    "## Test plain vanilla SVM"
   ]
  },
  {
   "cell_type": "code",
   "execution_count": 13,
   "metadata": {},
   "outputs": [
    {
     "name": "stdout",
     "output_type": "stream",
     "text": [
      "0.8426596445029625\n"
     ]
    }
   ],
   "source": [
    "clf = SVC()\n",
    "clf.fit(x_train, y_train)\n",
    "y_pred = clf.predict(x_test)\n",
    "print(clf.score(x_test, y_test))"
   ]
  },
  {
   "cell_type": "code",
   "execution_count": 14,
   "metadata": {},
   "outputs": [
    {
     "data": {
      "text/html": [
       "<div>\n",
       "<style scoped>\n",
       "    .dataframe tbody tr th:only-of-type {\n",
       "        vertical-align: middle;\n",
       "    }\n",
       "\n",
       "    .dataframe tbody tr th {\n",
       "        vertical-align: top;\n",
       "    }\n",
       "\n",
       "    .dataframe thead th {\n",
       "        text-align: right;\n",
       "    }\n",
       "</style>\n",
       "<table border=\"1\" class=\"dataframe\">\n",
       "  <thead>\n",
       "    <tr style=\"text-align: right;\">\n",
       "      <th></th>\n",
       "      <th>0</th>\n",
       "      <th>1</th>\n",
       "    </tr>\n",
       "  </thead>\n",
       "  <tbody>\n",
       "    <tr>\n",
       "      <th>0</th>\n",
       "      <td>668</td>\n",
       "      <td>124</td>\n",
       "    </tr>\n",
       "    <tr>\n",
       "      <th>1</th>\n",
       "      <td>115</td>\n",
       "      <td>612</td>\n",
       "    </tr>\n",
       "  </tbody>\n",
       "</table>\n",
       "</div>"
      ],
      "text/plain": [
       "     0    1\n",
       "0  668  124\n",
       "1  115  612"
      ]
     },
     "execution_count": 14,
     "metadata": {},
     "output_type": "execute_result"
    }
   ],
   "source": [
    "c_matrix = confusion_matrix(y_test, y_pred)\n",
    "idx = cols = [0, 1]\n",
    "pd.DataFrame(c_matrix, index=idx, columns=cols)"
   ]
  },
  {
   "cell_type": "code",
   "execution_count": 15,
   "metadata": {
    "scrolled": true
   },
   "outputs": [
    {
     "name": "stdout",
     "output_type": "stream",
     "text": [
      "              precision    recall  f1-score   support\n",
      "\n",
      "           0       0.85      0.84      0.85       792\n",
      "           1       0.83      0.84      0.84       727\n",
      "\n",
      "    accuracy                           0.84      1519\n",
      "   macro avg       0.84      0.84      0.84      1519\n",
      "weighted avg       0.84      0.84      0.84      1519\n",
      "\n"
     ]
    }
   ],
   "source": [
    "print(classification_report(y_test, y_pred))"
   ]
  },
  {
   "cell_type": "markdown",
   "metadata": {},
   "source": [
    "## Determine good value for C using random search"
   ]
  },
  {
   "cell_type": "code",
   "execution_count": 16,
   "metadata": {},
   "outputs": [],
   "source": [
    "model_params = {\n",
    "    'C': uniform(0.1, 10.0)\n",
    "}\n",
    "\n",
    "# RandomizedSearchCV(estimator, param_distributions, *, n_iter=10, \n",
    "#                    scoring=None, n_jobs=None, iid='deprecated', \n",
    "#                    refit=True, cv=None, verbose=0, \n",
    "#                    pre_dispatch='2*n_jobs', random_state=None, \n",
    "#                    error_score=nan, return_train_score=False)\n",
    "svm_model = SVC()\n",
    "clf = RandomizedSearchCV(svm_model, model_params, n_iter=10, \n",
    "                         cv=5)\n",
    "model = clf.fit(x_train, y_train)\n",
    "params = model.best_estimator_.get_params()"
   ]
  },
  {
   "cell_type": "code",
   "execution_count": 17,
   "metadata": {
    "scrolled": true
   },
   "outputs": [
    {
     "data": {
      "text/plain": [
       "{'C': 4.414985513905948,\n",
       " 'break_ties': False,\n",
       " 'cache_size': 200,\n",
       " 'class_weight': None,\n",
       " 'coef0': 0.0,\n",
       " 'decision_function_shape': 'ovr',\n",
       " 'degree': 3,\n",
       " 'gamma': 'scale',\n",
       " 'kernel': 'rbf',\n",
       " 'max_iter': -1,\n",
       " 'probability': False,\n",
       " 'random_state': None,\n",
       " 'shrinking': True,\n",
       " 'tol': 0.001,\n",
       " 'verbose': False}"
      ]
     },
     "execution_count": 17,
     "metadata": {},
     "output_type": "execute_result"
    }
   ],
   "source": [
    "params"
   ]
  },
  {
   "cell_type": "code",
   "execution_count": 18,
   "metadata": {},
   "outputs": [
    {
     "name": "stdout",
     "output_type": "stream",
     "text": [
      "0.8551678736010533\n"
     ]
    }
   ],
   "source": [
    "clf = SVC(C=params['C'])\n",
    "clf.fit(x_train, y_train)\n",
    "y_pred = clf.predict(x_test)\n",
    "print(clf.score(x_test, y_test))\n"
   ]
  },
  {
   "cell_type": "code",
   "execution_count": 19,
   "metadata": {},
   "outputs": [
    {
     "data": {
      "text/html": [
       "<div>\n",
       "<style scoped>\n",
       "    .dataframe tbody tr th:only-of-type {\n",
       "        vertical-align: middle;\n",
       "    }\n",
       "\n",
       "    .dataframe tbody tr th {\n",
       "        vertical-align: top;\n",
       "    }\n",
       "\n",
       "    .dataframe thead th {\n",
       "        text-align: right;\n",
       "    }\n",
       "</style>\n",
       "<table border=\"1\" class=\"dataframe\">\n",
       "  <thead>\n",
       "    <tr style=\"text-align: right;\">\n",
       "      <th></th>\n",
       "      <th>0</th>\n",
       "      <th>1</th>\n",
       "    </tr>\n",
       "  </thead>\n",
       "  <tbody>\n",
       "    <tr>\n",
       "      <th>0</th>\n",
       "      <td>673</td>\n",
       "      <td>119</td>\n",
       "    </tr>\n",
       "    <tr>\n",
       "      <th>1</th>\n",
       "      <td>101</td>\n",
       "      <td>626</td>\n",
       "    </tr>\n",
       "  </tbody>\n",
       "</table>\n",
       "</div>"
      ],
      "text/plain": [
       "     0    1\n",
       "0  673  119\n",
       "1  101  626"
      ]
     },
     "execution_count": 19,
     "metadata": {},
     "output_type": "execute_result"
    }
   ],
   "source": [
    "c_matrix = confusion_matrix(y_test, y_pred)\n",
    "idx = cols = [0, 1]\n",
    "pd.DataFrame(c_matrix, index=idx, columns=cols)"
   ]
  },
  {
   "cell_type": "code",
   "execution_count": 20,
   "metadata": {},
   "outputs": [
    {
     "name": "stdout",
     "output_type": "stream",
     "text": [
      "              precision    recall  f1-score   support\n",
      "\n",
      "           0       0.87      0.85      0.86       792\n",
      "           1       0.84      0.86      0.85       727\n",
      "\n",
      "    accuracy                           0.86      1519\n",
      "   macro avg       0.85      0.86      0.86      1519\n",
      "weighted avg       0.86      0.86      0.86      1519\n",
      "\n"
     ]
    }
   ],
   "source": [
    "print(classification_report(y_test, y_pred))"
   ]
  },
  {
   "cell_type": "markdown",
   "metadata": {},
   "source": [
    "## Test ensemble approach with bagging classifier\n",
    "\n",
    "#### Determine good parameters to use with bagging classifier. Start with grid search."
   ]
  },
  {
   "cell_type": "code",
   "execution_count": 21,
   "metadata": {},
   "outputs": [
    {
     "data": {
      "text/plain": [
       "{'max_features': 24}"
      ]
     },
     "execution_count": 21,
     "metadata": {},
     "output_type": "execute_result"
    }
   ],
   "source": [
    "# Parameters.\n",
    "p = {'max_features': [NUM_COMPONENTS - 2, NUM_COMPONENTS - 3, \n",
    "                      NUM_COMPONENTS - 4, NUM_COMPONENTS - 5,\n",
    "                      NUM_COMPONENTS - 6, NUM_COMPONENTS - 7,\n",
    "                      NUM_COMPONENTS - 8, NUM_COMPONENTS - 9,\n",
    "                      NUM_COMPONENTS - 10, NUM_COMPONENTS - 11,\n",
    "                      NUM_COMPONENTS - 12, NUM_COMPONENTS - 13,\n",
    "                      NUM_COMPONENTS - 14, NUM_COMPONENTS - 15]}\n",
    "\n",
    "base_estimator = SVC(C=params['C'])\n",
    "estimator = BaggingClassifier(base_estimator=base_estimator, n_estimators=100)\n",
    "# Question: Should we include C here, or ... ? There's no reason it should differ\n",
    "# for different values of n_estimators, but what about max_features? Might different\n",
    "# values for C be best for different max_features? Maybe. Dunno. Maybe we should\n",
    "# search for optimal C *after* we've found the best value for max_features?\n",
    "\n",
    "# GridSearchCV(estimator, param_grid, *, scoring=None, n_jobs=None, \n",
    "#              iid='deprecated', refit=True, cv=None, verbose=0, \n",
    "#              pre_dispatch='2*n_jobs', error_score=nan, return_train_score=False)\n",
    "clf = GridSearchCV(estimator, p, n_jobs=-1)\n",
    "search = clf.fit(x_train, y_train)\n",
    "search.best_params_\n",
    "\n",
    "# {'max_features': 24}"
   ]
  },
  {
   "cell_type": "markdown",
   "metadata": {},
   "source": [
    "#### Run bagging classifier with good params"
   ]
  },
  {
   "cell_type": "code",
   "execution_count": 23,
   "metadata": {},
   "outputs": [],
   "source": [
    "# BaggingClassifier(base_estimator=None, n_estimators=10, *, \n",
    "#                   max_samples=1.0, max_features=1.0, \n",
    "#                   bootstrap=True, bootstrap_features=False, \n",
    "#                   oob_score=False, warm_start=False, \n",
    "#                   n_jobs=None, random_state=None, verbose=0) \n",
    "clf = BaggingClassifier(base_estimator=SVC(C=params['C']),\n",
    "                        n_estimators=500, \n",
    "                        max_features=search.best_params_['max_features'],\n",
    "                        n_jobs=-1,\n",
    "                        random_state=RANDOM_SEED)\n",
    "model = clf.fit(x_train, y_train)"
   ]
  },
  {
   "cell_type": "code",
   "execution_count": 24,
   "metadata": {},
   "outputs": [
    {
     "name": "stdout",
     "output_type": "stream",
     "text": [
      "0.8538512179065174\n"
     ]
    }
   ],
   "source": [
    "y_pred = clf.predict(x_test)\n",
    "print(clf.score(x_test, y_test))"
   ]
  },
  {
   "cell_type": "code",
   "execution_count": 25,
   "metadata": {},
   "outputs": [
    {
     "data": {
      "text/html": [
       "<div>\n",
       "<style scoped>\n",
       "    .dataframe tbody tr th:only-of-type {\n",
       "        vertical-align: middle;\n",
       "    }\n",
       "\n",
       "    .dataframe tbody tr th {\n",
       "        vertical-align: top;\n",
       "    }\n",
       "\n",
       "    .dataframe thead th {\n",
       "        text-align: right;\n",
       "    }\n",
       "</style>\n",
       "<table border=\"1\" class=\"dataframe\">\n",
       "  <thead>\n",
       "    <tr style=\"text-align: right;\">\n",
       "      <th></th>\n",
       "      <th>0</th>\n",
       "      <th>1</th>\n",
       "    </tr>\n",
       "  </thead>\n",
       "  <tbody>\n",
       "    <tr>\n",
       "      <th>0</th>\n",
       "      <td>680</td>\n",
       "      <td>112</td>\n",
       "    </tr>\n",
       "    <tr>\n",
       "      <th>1</th>\n",
       "      <td>110</td>\n",
       "      <td>617</td>\n",
       "    </tr>\n",
       "  </tbody>\n",
       "</table>\n",
       "</div>"
      ],
      "text/plain": [
       "     0    1\n",
       "0  680  112\n",
       "1  110  617"
      ]
     },
     "execution_count": 25,
     "metadata": {},
     "output_type": "execute_result"
    }
   ],
   "source": [
    "c_matrix = confusion_matrix(y_test, y_pred)\n",
    "idx = cols = [0, 1]\n",
    "pd.DataFrame(c_matrix, index=idx, columns=cols)"
   ]
  },
  {
   "cell_type": "code",
   "execution_count": 26,
   "metadata": {},
   "outputs": [
    {
     "name": "stdout",
     "output_type": "stream",
     "text": [
      "              precision    recall  f1-score   support\n",
      "\n",
      "           0       0.86      0.86      0.86       792\n",
      "           1       0.85      0.85      0.85       727\n",
      "\n",
      "    accuracy                           0.85      1519\n",
      "   macro avg       0.85      0.85      0.85      1519\n",
      "weighted avg       0.85      0.85      0.85      1519\n",
      "\n"
     ]
    }
   ],
   "source": [
    "print(classification_report(y_test, y_pred))"
   ]
  },
  {
   "cell_type": "markdown",
   "metadata": {},
   "source": [
    "### Try weakening our learners. Maybe bagging will work better then.\n",
    "\n",
    "* Reduce training set size (increase test set size)\n",
    "* Do not optimize C\n",
    "* Explore wider range of parameters in grid search"
   ]
  },
  {
   "cell_type": "code",
   "execution_count": 26,
   "metadata": {},
   "outputs": [],
   "source": [
    "x_train, x_test, y_train, y_test = \\\n",
    "     train_test_split(d, target, test_size=0.4, random_state=RANDOM_SEED)\n"
   ]
  },
  {
   "cell_type": "code",
   "execution_count": 27,
   "metadata": {},
   "outputs": [
    {
     "data": {
      "text/plain": [
       "{'max_features': 28, 'n_estimators': 100}"
      ]
     },
     "execution_count": 27,
     "metadata": {},
     "output_type": "execute_result"
    }
   ],
   "source": [
    "# Parameters\n",
    "p = {'n_estimators': [100, 200, 300, 400, 500, 600],\n",
    "     'max_features': [NUM_COMPONENTS - 2, NUM_COMPONENTS - 3, \n",
    "                      NUM_COMPONENTS - 4, NUM_COMPONENTS - 5,\n",
    "                      NUM_COMPONENTS - 6, NUM_COMPONENTS - 7]}\n",
    "\n",
    "base_estimator = SVC()  # do not pass in C\n",
    "estimator = BaggingClassifier(base_estimator=base_estimator)\n",
    "\n",
    "# GridSearchCV(estimator, param_grid, *, scoring=None, n_jobs=None, \n",
    "#              iid='deprecated', refit=True, cv=None, verbose=0, \n",
    "#              pre_dispatch='2*n_jobs', error_score=nan, return_train_score=False)\n",
    "clf = GridSearchCV(estimator, p, n_jobs=-1)\n",
    "search = clf.fit(x_train, y_train)\n",
    "search.best_params_\n",
    "\n",
    "# {'max_features': 24, 'n_estimators': 100}"
   ]
  },
  {
   "cell_type": "code",
   "execution_count": 28,
   "metadata": {},
   "outputs": [],
   "source": [
    "# BaggingClassifier(base_estimator=None, n_estimators=10, *, \n",
    "#                   max_samples=1.0, max_features=1.0, \n",
    "#                   bootstrap=True, bootstrap_features=False, \n",
    "#                   oob_score=False, warm_start=False, \n",
    "#                   n_jobs=None, random_state=None, verbose=0) \n",
    "clf = BaggingClassifier(base_estimator=SVC(),\n",
    "                        n_estimators=search.best_params_['n_estimators'], \n",
    "                        max_features=search.best_params_['max_features'],\n",
    "                        random_state=RANDOM_SEED)\n",
    "model = clf.fit(x_train, y_train)"
   ]
  },
  {
   "cell_type": "code",
   "execution_count": 29,
   "metadata": {},
   "outputs": [
    {
     "name": "stdout",
     "output_type": "stream",
     "text": [
      "0.8403284671532847\n"
     ]
    }
   ],
   "source": [
    "y_pred = clf.predict(x_test)\n",
    "print(clf.score(x_test, y_test))"
   ]
  },
  {
   "cell_type": "code",
   "execution_count": 30,
   "metadata": {},
   "outputs": [
    {
     "data": {
      "text/html": [
       "<div>\n",
       "<style scoped>\n",
       "    .dataframe tbody tr th:only-of-type {\n",
       "        vertical-align: middle;\n",
       "    }\n",
       "\n",
       "    .dataframe tbody tr th {\n",
       "        vertical-align: top;\n",
       "    }\n",
       "\n",
       "    .dataframe thead th {\n",
       "        text-align: right;\n",
       "    }\n",
       "</style>\n",
       "<table border=\"1\" class=\"dataframe\">\n",
       "  <thead>\n",
       "    <tr style=\"text-align: right;\">\n",
       "      <th></th>\n",
       "      <th>0</th>\n",
       "      <th>1</th>\n",
       "    </tr>\n",
       "  </thead>\n",
       "  <tbody>\n",
       "    <tr>\n",
       "      <th>0</th>\n",
       "      <td>996</td>\n",
       "      <td>158</td>\n",
       "    </tr>\n",
       "    <tr>\n",
       "      <th>1</th>\n",
       "      <td>192</td>\n",
       "      <td>846</td>\n",
       "    </tr>\n",
       "  </tbody>\n",
       "</table>\n",
       "</div>"
      ],
      "text/plain": [
       "     0    1\n",
       "0  996  158\n",
       "1  192  846"
      ]
     },
     "execution_count": 30,
     "metadata": {},
     "output_type": "execute_result"
    }
   ],
   "source": [
    "c_matrix = confusion_matrix(y_test, y_pred)\n",
    "idx = cols = [0, 1]\n",
    "pd.DataFrame(c_matrix, index=idx, columns=cols)"
   ]
  },
  {
   "cell_type": "code",
   "execution_count": 31,
   "metadata": {},
   "outputs": [
    {
     "name": "stdout",
     "output_type": "stream",
     "text": [
      "              precision    recall  f1-score   support\n",
      "\n",
      "           0       0.84      0.86      0.85      1154\n",
      "           1       0.84      0.82      0.83      1038\n",
      "\n",
      "    accuracy                           0.84      2192\n",
      "   macro avg       0.84      0.84      0.84      2192\n",
      "weighted avg       0.84      0.84      0.84      2192\n",
      "\n"
     ]
    }
   ],
   "source": [
    "print(classification_report(y_test, y_pred))"
   ]
  },
  {
   "cell_type": "code",
   "execution_count": null,
   "metadata": {},
   "outputs": [],
   "source": []
  }
 ],
 "metadata": {
  "kernelspec": {
   "display_name": "Python 3",
   "language": "python",
   "name": "python3"
  },
  "language_info": {
   "codemirror_mode": {
    "name": "ipython",
    "version": 3
   },
   "file_extension": ".py",
   "mimetype": "text/x-python",
   "name": "python",
   "nbconvert_exporter": "python",
   "pygments_lexer": "ipython3",
   "version": "3.7.8"
  }
 },
 "nbformat": 4,
 "nbformat_minor": 4
}
