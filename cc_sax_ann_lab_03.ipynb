{
 "cells": [
  {
   "cell_type": "markdown",
   "metadata": {},
   "source": [
    "# Neural net ensemble for sax\n",
    "### Step 3\n",
    "### Load models from disk, predict and give results "
   ]
  },
  {
   "cell_type": "code",
   "execution_count": 32,
   "metadata": {},
   "outputs": [],
   "source": [
    "import glob\n",
    "\n",
    "import numpy as np\n",
    "import pandas as pd\n",
    "import matplotlib.pyplot as plt\n",
    "from sklearn.metrics import confusion_matrix, classification_report\n",
    "from keras.models import load_model, Sequential\n",
    "from keras.metrics import AUC, Recall\n",
    "from keras.layers import Dense, Dropout\n",
    "from keras.metrics import Recall\n",
    "from sklearn.svm import SVC\n",
    "from sklearn.model_selection import RandomizedSearchCV\n",
    "from scipy.stats import uniform"
   ]
  },
  {
   "cell_type": "code",
   "execution_count": 3,
   "metadata": {},
   "outputs": [],
   "source": [
    "from _all_saxes import x_train, x_test, y_train, y_test\n",
    "# ^ This will take some time..."
   ]
  },
  {
   "cell_type": "code",
   "execution_count": 4,
   "metadata": {},
   "outputs": [],
   "source": [
    "dependencies = {\n",
    "    'recall': Recall\n",
    "}\n",
    "\n",
    "models = []\n",
    "for fn in glob.glob('./keras_models/model_sax_*'):\n",
    "    # See: https://www.tensorflow.org/guide/keras/save_and_serialize\n",
    "    # See: https://stackoverflow.com/questions/51700351\n",
    "    # See: https://github.com/keras-team/keras/issues/10104\n",
    "    # See: https://stackoverflow.com/questions/61513447 << use compile=False kw param\n",
    "    loaded = load_model(fn, custom_objects=dependencies, compile=False)\n",
    "    models.append(loaded)"
   ]
  },
  {
   "cell_type": "code",
   "execution_count": 5,
   "metadata": {},
   "outputs": [
    {
     "name": "stdout",
     "output_type": "stream",
     "text": [
      "WARNING:tensorflow:From /Applications/anaconda3/lib/python3.7/site-packages/keras/backend/tensorflow_backend.py:422: The name tf.global_variables is deprecated. Please use tf.compat.v1.global_variables instead.\n",
      "\n"
     ]
    }
   ],
   "source": [
    "raw_values = models[0].predict(x_test)\n",
    "for model in models[1:]:\n",
    "    raw_values  = np.hstack((raw_values, model.predict(x_test)))"
   ]
  },
  {
   "cell_type": "code",
   "execution_count": 6,
   "metadata": {},
   "outputs": [],
   "source": [
    "y_pred = [1 if x >= 0.5 else 0 for x in raw_values.mean(1)]\n",
    "y_pred = np.asarray(y_pred)  # should be same shape as y_test"
   ]
  },
  {
   "cell_type": "code",
   "execution_count": 7,
   "metadata": {},
   "outputs": [
    {
     "data": {
      "text/html": [
       "<div>\n",
       "<style scoped>\n",
       "    .dataframe tbody tr th:only-of-type {\n",
       "        vertical-align: middle;\n",
       "    }\n",
       "\n",
       "    .dataframe tbody tr th {\n",
       "        vertical-align: top;\n",
       "    }\n",
       "\n",
       "    .dataframe thead th {\n",
       "        text-align: right;\n",
       "    }\n",
       "</style>\n",
       "<table border=\"1\" class=\"dataframe\">\n",
       "  <thead>\n",
       "    <tr style=\"text-align: right;\">\n",
       "      <th></th>\n",
       "      <th>0</th>\n",
       "      <th>1</th>\n",
       "    </tr>\n",
       "  </thead>\n",
       "  <tbody>\n",
       "    <tr>\n",
       "      <th>0</th>\n",
       "      <td>360</td>\n",
       "      <td>95</td>\n",
       "    </tr>\n",
       "    <tr>\n",
       "      <th>1</th>\n",
       "      <td>65</td>\n",
       "      <td>600</td>\n",
       "    </tr>\n",
       "  </tbody>\n",
       "</table>\n",
       "</div>"
      ],
      "text/plain": [
       "     0    1\n",
       "0  360   95\n",
       "1   65  600"
      ]
     },
     "execution_count": 7,
     "metadata": {},
     "output_type": "execute_result"
    }
   ],
   "source": [
    "c_matrix = confusion_matrix(y_test, y_pred)\n",
    "idx = cols = [0, 1]\n",
    "pd.DataFrame(c_matrix, index=idx, columns=cols)"
   ]
  },
  {
   "cell_type": "code",
   "execution_count": 8,
   "metadata": {},
   "outputs": [
    {
     "name": "stdout",
     "output_type": "stream",
     "text": [
      "              precision    recall  f1-score   support\n",
      "\n",
      "           0       0.85      0.79      0.82       455\n",
      "           1       0.86      0.90      0.88       665\n",
      "\n",
      "    accuracy                           0.86      1120\n",
      "   macro avg       0.86      0.85      0.85      1120\n",
      "weighted avg       0.86      0.86      0.86      1120\n",
      "\n"
     ]
    }
   ],
   "source": [
    "print(classification_report(y_test, y_pred))"
   ]
  },
  {
   "cell_type": "code",
   "execution_count": 10,
   "metadata": {},
   "outputs": [
    {
     "data": {
      "text/plain": [
       "(1120, 54)"
      ]
     },
     "execution_count": 10,
     "metadata": {},
     "output_type": "execute_result"
    }
   ],
   "source": [
    "raw_values.shape"
   ]
  },
  {
   "cell_type": "code",
   "execution_count": 11,
   "metadata": {},
   "outputs": [
    {
     "data": {
      "text/plain": [
       "(4477, 32)"
      ]
     },
     "execution_count": 11,
     "metadata": {},
     "output_type": "execute_result"
    }
   ],
   "source": [
    "x_train.shape"
   ]
  },
  {
   "cell_type": "code",
   "execution_count": 12,
   "metadata": {},
   "outputs": [
    {
     "data": {
      "text/plain": [
       "(1120, 32)"
      ]
     },
     "execution_count": 12,
     "metadata": {},
     "output_type": "execute_result"
    }
   ],
   "source": [
    "x_test.shape"
   ]
  },
  {
   "cell_type": "code",
   "execution_count": 13,
   "metadata": {},
   "outputs": [
    {
     "data": {
      "text/plain": [
       "(4477, 54)"
      ]
     },
     "execution_count": 13,
     "metadata": {},
     "output_type": "execute_result"
    }
   ],
   "source": [
    "stack_train = models[0].predict(x_train)\n",
    "for model in models[1:]:\n",
    "    stack_train = np.hstack((stack_train, model.predict(x_train)))"
   ]
  },
  {
   "cell_type": "code",
   "execution_count": 17,
   "metadata": {},
   "outputs": [],
   "source": [
    "stack_test = models[0].predict(x_test)\n",
    "for model in models[1:]:\n",
    "    stack_test = np.hstack((stack_test, model.predict(x_test)))"
   ]
  },
  {
   "cell_type": "code",
   "execution_count": 23,
   "metadata": {},
   "outputs": [
    {
     "name": "stdout",
     "output_type": "stream",
     "text": [
      "Train on 3581 samples, validate on 896 samples\n",
      "Epoch 1/40\n",
      "3581/3581 [==============================] - 2s 557us/step - loss: 0.5326 - recall_4: 0.9325 - val_loss: 0.4992 - val_recall_4: 0.9946\n",
      "Epoch 2/40\n",
      "3581/3581 [==============================] - 1s 148us/step - loss: 0.4180 - recall_4: 0.9784 - val_loss: 0.4132 - val_recall_4: 0.9565\n",
      "Epoch 3/40\n",
      "3581/3581 [==============================] - 1s 156us/step - loss: 0.2988 - recall_4: 0.9531 - val_loss: 0.3663 - val_recall_4: 0.9366\n",
      "Epoch 4/40\n",
      "3581/3581 [==============================] - 1s 142us/step - loss: 0.2488 - recall_4: 0.9444 - val_loss: 0.3560 - val_recall_4: 0.9167\n",
      "Epoch 5/40\n",
      "3581/3581 [==============================] - 1s 156us/step - loss: 0.2155 - recall_4: 0.9463 - val_loss: 0.3675 - val_recall_4: 0.9058\n",
      "Epoch 6/40\n",
      "3581/3581 [==============================] - 1s 148us/step - loss: 0.2043 - recall_4: 0.9486 - val_loss: 0.3707 - val_recall_4: 0.8913\n",
      "Epoch 7/40\n",
      "3581/3581 [==============================] - 1s 147us/step - loss: 0.1908 - recall_4: 0.9522 - val_loss: 0.3812 - val_recall_4: 0.9004\n",
      "Epoch 8/40\n",
      "3581/3581 [==============================] - 1s 155us/step - loss: 0.1858 - recall_4: 0.9513 - val_loss: 0.3885 - val_recall_4: 0.8967\n",
      "Epoch 9/40\n",
      "3581/3581 [==============================] - 1s 149us/step - loss: 0.1803 - recall_4: 0.9545 - val_loss: 0.3879 - val_recall_4: 0.9004\n",
      "Epoch 10/40\n",
      "3581/3581 [==============================] - 1s 153us/step - loss: 0.1791 - recall_4: 0.9541 - val_loss: 0.3844 - val_recall_4: 0.8913\n",
      "Epoch 11/40\n",
      "3581/3581 [==============================] - 1s 150us/step - loss: 0.1695 - recall_4: 0.9531 - val_loss: 0.3931 - val_recall_4: 0.9004\n",
      "Epoch 12/40\n",
      "3581/3581 [==============================] - 1s 167us/step - loss: 0.1627 - recall_4: 0.9637 - val_loss: 0.3954 - val_recall_4: 0.8949\n",
      "Epoch 13/40\n",
      "3581/3581 [==============================] - 1s 168us/step - loss: 0.1620 - recall_4: 0.9582 - val_loss: 0.4040 - val_recall_4: 0.9040\n",
      "Epoch 14/40\n",
      "3581/3581 [==============================] - 1s 187us/step - loss: 0.1492 - recall_4: 0.9619 - val_loss: 0.4179 - val_recall_4: 0.9094\n",
      "Epoch 15/40\n",
      "3581/3581 [==============================] - 1s 188us/step - loss: 0.1483 - recall_4: 0.9633 - val_loss: 0.4280 - val_recall_4: 0.9094\n",
      "Epoch 16/40\n",
      "3581/3581 [==============================] - 1s 187us/step - loss: 0.1479 - recall_4: 0.9633 - val_loss: 0.4149 - val_recall_4: 0.8569\n",
      "Epoch 17/40\n",
      "3581/3581 [==============================] - 1s 149us/step - loss: 0.1409 - recall_4: 0.9619 - val_loss: 0.4124 - val_recall_4: 0.8732\n",
      "Epoch 18/40\n",
      "3581/3581 [==============================] - 1s 158us/step - loss: 0.1407 - recall_4: 0.9655 - val_loss: 0.4235 - val_recall_4: 0.9004\n",
      "Epoch 19/40\n",
      "3581/3581 [==============================] - 1s 148us/step - loss: 0.1381 - recall_4: 0.9660 - val_loss: 0.4205 - val_recall_4: 0.8877\n",
      "Epoch 20/40\n",
      "3581/3581 [==============================] - 1s 155us/step - loss: 0.1371 - recall_4: 0.9623 - val_loss: 0.4269 - val_recall_4: 0.9004\n",
      "Epoch 21/40\n",
      "3581/3581 [==============================] - 1s 148us/step - loss: 0.1417 - recall_4: 0.9651 - val_loss: 0.4336 - val_recall_4: 0.9040\n",
      "Epoch 22/40\n",
      "3581/3581 [==============================] - 1s 146us/step - loss: 0.1330 - recall_4: 0.9669 - val_loss: 0.4257 - val_recall_4: 0.8895\n",
      "Epoch 23/40\n",
      "3581/3581 [==============================] - 1s 158us/step - loss: 0.1367 - recall_4: 0.9674 - val_loss: 0.4413 - val_recall_4: 0.9094\n",
      "Epoch 24/40\n",
      "3581/3581 [==============================] - 1s 157us/step - loss: 0.1298 - recall_4: 0.9683 - val_loss: 0.4332 - val_recall_4: 0.8877\n",
      "Epoch 25/40\n",
      "3581/3581 [==============================] - 1s 156us/step - loss: 0.1311 - recall_4: 0.9665 - val_loss: 0.4265 - val_recall_4: 0.8841\n",
      "Epoch 26/40\n",
      "3581/3581 [==============================] - 1s 158us/step - loss: 0.1346 - recall_4: 0.9674 - val_loss: 0.4399 - val_recall_4: 0.8659\n",
      "Epoch 27/40\n",
      "3581/3581 [==============================] - 1s 169us/step - loss: 0.1295 - recall_4: 0.9678 - val_loss: 0.4438 - val_recall_4: 0.8750\n",
      "Epoch 28/40\n",
      "3581/3581 [==============================] - 1s 168us/step - loss: 0.1249 - recall_4: 0.9692 - val_loss: 0.4523 - val_recall_4: 0.8913\n",
      "Epoch 29/40\n",
      "3581/3581 [==============================] - 1s 163us/step - loss: 0.1273 - recall_4: 0.9669 - val_loss: 0.4401 - val_recall_4: 0.9004\n",
      "Epoch 30/40\n",
      "3581/3581 [==============================] - 1s 156us/step - loss: 0.1261 - recall_4: 0.9655 - val_loss: 0.4438 - val_recall_4: 0.8949\n",
      "Epoch 31/40\n",
      "3581/3581 [==============================] - 1s 158us/step - loss: 0.1204 - recall_4: 0.9651 - val_loss: 0.4557 - val_recall_4: 0.8822\n",
      "Epoch 32/40\n",
      "3581/3581 [==============================] - 1s 162us/step - loss: 0.1263 - recall_4: 0.9692 - val_loss: 0.4404 - val_recall_4: 0.8786\n",
      "Epoch 33/40\n",
      "3581/3581 [==============================] - 1s 161us/step - loss: 0.1245 - recall_4: 0.9729 - val_loss: 0.4641 - val_recall_4: 0.8641\n",
      "Epoch 34/40\n",
      "3581/3581 [==============================] - 1s 156us/step - loss: 0.1239 - recall_4: 0.9701 - val_loss: 0.4420 - val_recall_4: 0.8859\n",
      "Epoch 35/40\n",
      "3581/3581 [==============================] - 1s 174us/step - loss: 0.1267 - recall_4: 0.9683 - val_loss: 0.4486 - val_recall_4: 0.9058\n",
      "Epoch 36/40\n",
      "3581/3581 [==============================] - 1s 171us/step - loss: 0.1275 - recall_4: 0.9706 - val_loss: 0.4634 - val_recall_4: 0.8786\n",
      "Epoch 37/40\n",
      "3581/3581 [==============================] - 1s 148us/step - loss: 0.1258 - recall_4: 0.9674 - val_loss: 0.4599 - val_recall_4: 0.8859\n",
      "Epoch 38/40\n",
      "3581/3581 [==============================] - 1s 191us/step - loss: 0.1163 - recall_4: 0.9683 - val_loss: 0.4623 - val_recall_4: 0.8696\n",
      "Epoch 39/40\n",
      "3581/3581 [==============================] - 1s 158us/step - loss: 0.1212 - recall_4: 0.9692 - val_loss: 0.4712 - val_recall_4: 0.9004\n",
      "Epoch 40/40\n",
      "3581/3581 [==============================] - 1s 155us/step - loss: 0.1228 - recall_4: 0.9711 - val_loss: 0.4551 - val_recall_4: 0.8931\n"
     ]
    }
   ],
   "source": [
    "model = Sequential()\n",
    "model.add(Dense(16, activation='relu'))\n",
    "model.add(Dropout(0.2))\n",
    "model.add(Dense(4, activation='relu'))\n",
    "model.add(Dense(1, activation='sigmoid'))\n",
    "model.compile(loss='binary_crossentropy', optimizer='adam', \n",
    "              metrics=[Recall()])\n",
    "history = model.fit(stack_train, y_train, epochs=40, batch_size=32, \n",
    "                    validation_split=0.2)\n"
   ]
  },
  {
   "cell_type": "code",
   "execution_count": 24,
   "metadata": {},
   "outputs": [
    {
     "data": {
      "image/png": "[encoded data removed]",
      "text/plain": [
       "<Figure size 576x360 with 1 Axes>"
      ]
     },
     "metadata": {
      "needs_background": "light"
     },
     "output_type": "display_data"
    }
   ],
   "source": [
    "# history is a keras.callbacks.callbacks.History object\n",
    "pd.DataFrame(history.history).plot(figsize=(8, 5))\n",
    "plt.grid(True)\n",
    "plt.gca().set_ylim(0, 1)\n",
    "plt.show()\n"
   ]
  },
  {
   "cell_type": "code",
   "execution_count": 27,
   "metadata": {},
   "outputs": [
    {
     "name": "stdout",
     "output_type": "stream",
     "text": [
      "0.8651785714285715\n"
     ]
    }
   ],
   "source": [
    "clf = SVC()\n",
    "clf.fit(stack_train, y_train)\n",
    "y_pred = clf.predict(stack_test)\n",
    "print(clf.score(stack_test, y_test))"
   ]
  },
  {
   "cell_type": "code",
   "execution_count": 28,
   "metadata": {},
   "outputs": [
    {
     "data": {
      "text/html": [
       "<div>\n",
       "<style scoped>\n",
       "    .dataframe tbody tr th:only-of-type {\n",
       "        vertical-align: middle;\n",
       "    }\n",
       "\n",
       "    .dataframe tbody tr th {\n",
       "        vertical-align: top;\n",
       "    }\n",
       "\n",
       "    .dataframe thead th {\n",
       "        text-align: right;\n",
       "    }\n",
       "</style>\n",
       "<table border=\"1\" class=\"dataframe\">\n",
       "  <thead>\n",
       "    <tr style=\"text-align: right;\">\n",
       "      <th></th>\n",
       "      <th>0</th>\n",
       "      <th>1</th>\n",
       "    </tr>\n",
       "  </thead>\n",
       "  <tbody>\n",
       "    <tr>\n",
       "      <th>0</th>\n",
       "      <td>375</td>\n",
       "      <td>80</td>\n",
       "    </tr>\n",
       "    <tr>\n",
       "      <th>1</th>\n",
       "      <td>71</td>\n",
       "      <td>594</td>\n",
       "    </tr>\n",
       "  </tbody>\n",
       "</table>\n",
       "</div>"
      ],
      "text/plain": [
       "     0    1\n",
       "0  375   80\n",
       "1   71  594"
      ]
     },
     "execution_count": 28,
     "metadata": {},
     "output_type": "execute_result"
    }
   ],
   "source": [
    "c_matrix = confusion_matrix(y_test, y_pred)\n",
    "idx = cols = [0, 1]\n",
    "pd.DataFrame(c_matrix, index=idx, columns=cols)"
   ]
  },
  {
   "cell_type": "code",
   "execution_count": 29,
   "metadata": {},
   "outputs": [
    {
     "name": "stdout",
     "output_type": "stream",
     "text": [
      "              precision    recall  f1-score   support\n",
      "\n",
      "           0       0.84      0.82      0.83       455\n",
      "           1       0.88      0.89      0.89       665\n",
      "\n",
      "    accuracy                           0.87      1120\n",
      "   macro avg       0.86      0.86      0.86      1120\n",
      "weighted avg       0.86      0.87      0.86      1120\n",
      "\n"
     ]
    }
   ],
   "source": [
    "print(classification_report(y_test, y_pred))"
   ]
  },
  {
   "cell_type": "code",
   "execution_count": 34,
   "metadata": {},
   "outputs": [],
   "source": [
    "model_params = {\n",
    "    'C': uniform(0.1, 4.0)\n",
    "}\n",
    "\n",
    "# RandomizedSearchCV(estimator, param_distributions, *, n_iter=10, \n",
    "#                    scoring=None, n_jobs=None, iid='deprecated', \n",
    "#                    refit=True, cv=None, verbose=0, \n",
    "#                    pre_dispatch='2*n_jobs', random_state=None, \n",
    "#                    error_score=nan, return_train_score=False)\n",
    "svm_model = SVC()\n",
    "clf = RandomizedSearchCV(svm_model, model_params, n_iter=10, cv=5)\n",
    "model = clf.fit(stack_train, y_train)\n",
    "params = model.best_estimator_.get_params()"
   ]
  },
  {
   "cell_type": "code",
   "execution_count": 37,
   "metadata": {},
   "outputs": [
    {
     "name": "stdout",
     "output_type": "stream",
     "text": [
      "0.8660714285714286\n"
     ]
    }
   ],
   "source": [
    "clf = SVC(C=params['C'])\n",
    "clf.fit(stack_train, y_train)\n",
    "y_pred = clf.predict(stack_test)\n",
    "print(clf.score(stack_test, y_test))"
   ]
  },
  {
   "cell_type": "code",
   "execution_count": 38,
   "metadata": {},
   "outputs": [
    {
     "data": {
      "text/html": [
       "<div>\n",
       "<style scoped>\n",
       "    .dataframe tbody tr th:only-of-type {\n",
       "        vertical-align: middle;\n",
       "    }\n",
       "\n",
       "    .dataframe tbody tr th {\n",
       "        vertical-align: top;\n",
       "    }\n",
       "\n",
       "    .dataframe thead th {\n",
       "        text-align: right;\n",
       "    }\n",
       "</style>\n",
       "<table border=\"1\" class=\"dataframe\">\n",
       "  <thead>\n",
       "    <tr style=\"text-align: right;\">\n",
       "      <th></th>\n",
       "      <th>0</th>\n",
       "      <th>1</th>\n",
       "    </tr>\n",
       "  </thead>\n",
       "  <tbody>\n",
       "    <tr>\n",
       "      <th>0</th>\n",
       "      <td>373</td>\n",
       "      <td>82</td>\n",
       "    </tr>\n",
       "    <tr>\n",
       "      <th>1</th>\n",
       "      <td>68</td>\n",
       "      <td>597</td>\n",
       "    </tr>\n",
       "  </tbody>\n",
       "</table>\n",
       "</div>"
      ],
      "text/plain": [
       "     0    1\n",
       "0  373   82\n",
       "1   68  597"
      ]
     },
     "execution_count": 38,
     "metadata": {},
     "output_type": "execute_result"
    }
   ],
   "source": [
    "c_matrix = confusion_matrix(y_test, y_pred)\n",
    "idx = cols = [0, 1]\n",
    "pd.DataFrame(c_matrix, index=idx, columns=cols)"
   ]
  },
  {
   "cell_type": "code",
   "execution_count": 39,
   "metadata": {},
   "outputs": [
    {
     "name": "stdout",
     "output_type": "stream",
     "text": [
      "              precision    recall  f1-score   support\n",
      "\n",
      "           0       0.85      0.82      0.83       455\n",
      "           1       0.88      0.90      0.89       665\n",
      "\n",
      "    accuracy                           0.87      1120\n",
      "   macro avg       0.86      0.86      0.86      1120\n",
      "weighted avg       0.87      0.87      0.87      1120\n",
      "\n"
     ]
    }
   ],
   "source": [
    "print(classification_report(y_test, y_pred))"
   ]
  },
  {
   "cell_type": "code",
   "execution_count": null,
   "metadata": {},
   "outputs": [],
   "source": []
  }
 ],
 "metadata": {
  "kernelspec": {
   "display_name": "Python 3",
   "language": "python",
   "name": "python3"
  },
  "language_info": {
   "codemirror_mode": {
    "name": "ipython",
    "version": 3
   },
   "file_extension": ".py",
   "mimetype": "text/x-python",
   "name": "python",
   "nbconvert_exporter": "python",
   "pygments_lexer": "ipython3",
   "version": "3.7.8"
  }
 },
 "nbformat": 4,
 "nbformat_minor": 4
}
